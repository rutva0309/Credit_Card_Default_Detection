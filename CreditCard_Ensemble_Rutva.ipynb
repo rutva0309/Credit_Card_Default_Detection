{
 "cells": [
  {
   "cell_type": "code",
   "execution_count": 1,
   "id": "17d50202",
   "metadata": {},
   "outputs": [
    {
     "name": "stdout",
     "output_type": "stream",
     "text": [
      "time: 213 µs (started: 2022-05-18 15:43:50 +05:30)\n"
     ]
    }
   ],
   "source": [
    "#importing libraries\n",
    "import matplotlib.pyplot as plt\n",
    "import pandas as pd\n",
    "import numpy as np\n",
    "import seaborn as sns\n",
    "from sklearn.preprocessing import StandardScaler\n",
    "from sklearn.decomposition import PCA \n",
    "from sklearn.model_selection import train_test_split\n",
    "from sklearn.metrics import classification_report\n",
    "from sklearn.metrics import confusion_matrix,accuracy_score \n",
    "from sklearn.tree import DecisionTreeClassifier\n",
    "from sklearn.tree import plot_tree\n",
    "from sklearn.decomposition import PCA\n",
    "import string\n",
    "from sklearn.decomposition import TruncatedSVD\n",
    "from scipy.sparse import csr_matrix\n",
    "from imblearn.over_sampling import SMOTE\n",
    "from sklearn.metrics import roc_curve\n",
    "from sklearn.metrics import roc_auc_score\n",
    "from sklearn.ensemble import RandomForestClassifier\n",
    "from sklearn.ensemble import GradientBoostingClassifier\n",
    "import xgboost as xgb\n",
    "import lightgbm as lgb\n",
    "from catboost import CatBoostClassifier\n",
    "from sklearn.ensemble import AdaBoostClassifier\n",
    "from sklearn.model_selection import ShuffleSplit\n",
    "from sklearn.metrics import f1_score\n",
    "from scipy import stats\n",
    "import warnings\n",
    "warnings.filterwarnings('ignore')\n",
    "%load_ext autotime"
   ]
  },
  {
   "cell_type": "code",
   "execution_count": 2,
   "id": "c49f3bbf",
   "metadata": {},
   "outputs": [
    {
     "data": {
      "text/html": [
       "<div>\n",
       "<style scoped>\n",
       "    .dataframe tbody tr th:only-of-type {\n",
       "        vertical-align: middle;\n",
       "    }\n",
       "\n",
       "    .dataframe tbody tr th {\n",
       "        vertical-align: top;\n",
       "    }\n",
       "\n",
       "    .dataframe thead th {\n",
       "        text-align: right;\n",
       "    }\n",
       "</style>\n",
       "<table border=\"1\" class=\"dataframe\">\n",
       "  <thead>\n",
       "    <tr style=\"text-align: right;\">\n",
       "      <th></th>\n",
       "      <th>ID</th>\n",
       "      <th>LIMIT_BAL</th>\n",
       "      <th>SEX</th>\n",
       "      <th>EDUCATION</th>\n",
       "      <th>MARRIAGE</th>\n",
       "      <th>AGE</th>\n",
       "      <th>PAY_0</th>\n",
       "      <th>PAY_2</th>\n",
       "      <th>PAY_3</th>\n",
       "      <th>PAY_4</th>\n",
       "      <th>...</th>\n",
       "      <th>BILL_AMT3</th>\n",
       "      <th>BILL_AMT4</th>\n",
       "      <th>BILL_AMT5</th>\n",
       "      <th>BILL_AMT6</th>\n",
       "      <th>PAY_AMT1</th>\n",
       "      <th>PAY_AMT2</th>\n",
       "      <th>PAY_AMT3</th>\n",
       "      <th>PAY_AMT4</th>\n",
       "      <th>PAY_AMT5</th>\n",
       "      <th>PAY_AMT6</th>\n",
       "    </tr>\n",
       "  </thead>\n",
       "  <tbody>\n",
       "    <tr>\n",
       "      <th>0</th>\n",
       "      <td>10178</td>\n",
       "      <td>60000</td>\n",
       "      <td>2</td>\n",
       "      <td>2</td>\n",
       "      <td>1</td>\n",
       "      <td>30</td>\n",
       "      <td>0</td>\n",
       "      <td>0</td>\n",
       "      <td>0</td>\n",
       "      <td>0</td>\n",
       "      <td>...</td>\n",
       "      <td>38117</td>\n",
       "      <td>38874</td>\n",
       "      <td>38667</td>\n",
       "      <td>39544</td>\n",
       "      <td>1628</td>\n",
       "      <td>1618</td>\n",
       "      <td>1375</td>\n",
       "      <td>1403</td>\n",
       "      <td>1520</td>\n",
       "      <td>1205</td>\n",
       "    </tr>\n",
       "    <tr>\n",
       "      <th>1</th>\n",
       "      <td>5304</td>\n",
       "      <td>200000</td>\n",
       "      <td>2</td>\n",
       "      <td>1</td>\n",
       "      <td>2</td>\n",
       "      <td>29</td>\n",
       "      <td>0</td>\n",
       "      <td>0</td>\n",
       "      <td>0</td>\n",
       "      <td>0</td>\n",
       "      <td>...</td>\n",
       "      <td>76593</td>\n",
       "      <td>93988</td>\n",
       "      <td>50292</td>\n",
       "      <td>10510</td>\n",
       "      <td>4160</td>\n",
       "      <td>14593</td>\n",
       "      <td>20150</td>\n",
       "      <td>0</td>\n",
       "      <td>5739</td>\n",
       "      <td>12050</td>\n",
       "    </tr>\n",
       "    <tr>\n",
       "      <th>2</th>\n",
       "      <td>5187</td>\n",
       "      <td>230000</td>\n",
       "      <td>1</td>\n",
       "      <td>1</td>\n",
       "      <td>2</td>\n",
       "      <td>39</td>\n",
       "      <td>0</td>\n",
       "      <td>0</td>\n",
       "      <td>0</td>\n",
       "      <td>0</td>\n",
       "      <td>...</td>\n",
       "      <td>20650</td>\n",
       "      <td>0</td>\n",
       "      <td>0</td>\n",
       "      <td>0</td>\n",
       "      <td>2500</td>\n",
       "      <td>2000</td>\n",
       "      <td>0</td>\n",
       "      <td>0</td>\n",
       "      <td>0</td>\n",
       "      <td>0</td>\n",
       "    </tr>\n",
       "    <tr>\n",
       "      <th>3</th>\n",
       "      <td>14495</td>\n",
       "      <td>150000</td>\n",
       "      <td>1</td>\n",
       "      <td>1</td>\n",
       "      <td>2</td>\n",
       "      <td>40</td>\n",
       "      <td>0</td>\n",
       "      <td>0</td>\n",
       "      <td>0</td>\n",
       "      <td>0</td>\n",
       "      <td>...</td>\n",
       "      <td>145978</td>\n",
       "      <td>139791</td>\n",
       "      <td>142745</td>\n",
       "      <td>146872</td>\n",
       "      <td>5800</td>\n",
       "      <td>5245</td>\n",
       "      <td>5200</td>\n",
       "      <td>5200</td>\n",
       "      <td>6500</td>\n",
       "      <td>7200</td>\n",
       "    </tr>\n",
       "    <tr>\n",
       "      <th>4</th>\n",
       "      <td>20444</td>\n",
       "      <td>140000</td>\n",
       "      <td>1</td>\n",
       "      <td>2</td>\n",
       "      <td>2</td>\n",
       "      <td>27</td>\n",
       "      <td>0</td>\n",
       "      <td>0</td>\n",
       "      <td>0</td>\n",
       "      <td>0</td>\n",
       "      <td>...</td>\n",
       "      <td>76230</td>\n",
       "      <td>77954</td>\n",
       "      <td>78953</td>\n",
       "      <td>81848</td>\n",
       "      <td>10000</td>\n",
       "      <td>10000</td>\n",
       "      <td>3393</td>\n",
       "      <td>3260</td>\n",
       "      <td>5000</td>\n",
       "      <td>3000</td>\n",
       "    </tr>\n",
       "    <tr>\n",
       "      <th>...</th>\n",
       "      <td>...</td>\n",
       "      <td>...</td>\n",
       "      <td>...</td>\n",
       "      <td>...</td>\n",
       "      <td>...</td>\n",
       "      <td>...</td>\n",
       "      <td>...</td>\n",
       "      <td>...</td>\n",
       "      <td>...</td>\n",
       "      <td>...</td>\n",
       "      <td>...</td>\n",
       "      <td>...</td>\n",
       "      <td>...</td>\n",
       "      <td>...</td>\n",
       "      <td>...</td>\n",
       "      <td>...</td>\n",
       "      <td>...</td>\n",
       "      <td>...</td>\n",
       "      <td>...</td>\n",
       "      <td>...</td>\n",
       "      <td>...</td>\n",
       "    </tr>\n",
       "    <tr>\n",
       "      <th>8995</th>\n",
       "      <td>16413</td>\n",
       "      <td>230000</td>\n",
       "      <td>2</td>\n",
       "      <td>2</td>\n",
       "      <td>1</td>\n",
       "      <td>42</td>\n",
       "      <td>-1</td>\n",
       "      <td>-1</td>\n",
       "      <td>-2</td>\n",
       "      <td>-2</td>\n",
       "      <td>...</td>\n",
       "      <td>0</td>\n",
       "      <td>0</td>\n",
       "      <td>0</td>\n",
       "      <td>0</td>\n",
       "      <td>0</td>\n",
       "      <td>0</td>\n",
       "      <td>0</td>\n",
       "      <td>0</td>\n",
       "      <td>0</td>\n",
       "      <td>0</td>\n",
       "    </tr>\n",
       "    <tr>\n",
       "      <th>8996</th>\n",
       "      <td>17210</td>\n",
       "      <td>90000</td>\n",
       "      <td>2</td>\n",
       "      <td>1</td>\n",
       "      <td>2</td>\n",
       "      <td>28</td>\n",
       "      <td>-1</td>\n",
       "      <td>-1</td>\n",
       "      <td>-1</td>\n",
       "      <td>-1</td>\n",
       "      <td>...</td>\n",
       "      <td>7956</td>\n",
       "      <td>499</td>\n",
       "      <td>0</td>\n",
       "      <td>5990</td>\n",
       "      <td>1950</td>\n",
       "      <td>7956</td>\n",
       "      <td>499</td>\n",
       "      <td>0</td>\n",
       "      <td>5990</td>\n",
       "      <td>0</td>\n",
       "    </tr>\n",
       "    <tr>\n",
       "      <th>8997</th>\n",
       "      <td>24002</td>\n",
       "      <td>60000</td>\n",
       "      <td>1</td>\n",
       "      <td>2</td>\n",
       "      <td>2</td>\n",
       "      <td>26</td>\n",
       "      <td>0</td>\n",
       "      <td>0</td>\n",
       "      <td>0</td>\n",
       "      <td>0</td>\n",
       "      <td>...</td>\n",
       "      <td>57416</td>\n",
       "      <td>55736</td>\n",
       "      <td>26958</td>\n",
       "      <td>28847</td>\n",
       "      <td>2282</td>\n",
       "      <td>2324</td>\n",
       "      <td>2049</td>\n",
       "      <td>2000</td>\n",
       "      <td>3000</td>\n",
       "      <td>1120</td>\n",
       "    </tr>\n",
       "    <tr>\n",
       "      <th>8998</th>\n",
       "      <td>17019</td>\n",
       "      <td>70000</td>\n",
       "      <td>2</td>\n",
       "      <td>2</td>\n",
       "      <td>2</td>\n",
       "      <td>23</td>\n",
       "      <td>0</td>\n",
       "      <td>0</td>\n",
       "      <td>0</td>\n",
       "      <td>0</td>\n",
       "      <td>...</td>\n",
       "      <td>47208</td>\n",
       "      <td>47241</td>\n",
       "      <td>48212</td>\n",
       "      <td>45849</td>\n",
       "      <td>2100</td>\n",
       "      <td>2079</td>\n",
       "      <td>2500</td>\n",
       "      <td>2000</td>\n",
       "      <td>2000</td>\n",
       "      <td>1700</td>\n",
       "    </tr>\n",
       "    <tr>\n",
       "      <th>8999</th>\n",
       "      <td>23415</td>\n",
       "      <td>600000</td>\n",
       "      <td>2</td>\n",
       "      <td>2</td>\n",
       "      <td>1</td>\n",
       "      <td>38</td>\n",
       "      <td>1</td>\n",
       "      <td>2</td>\n",
       "      <td>2</td>\n",
       "      <td>2</td>\n",
       "      <td>...</td>\n",
       "      <td>39635</td>\n",
       "      <td>35130</td>\n",
       "      <td>33229</td>\n",
       "      <td>32171</td>\n",
       "      <td>0</td>\n",
       "      <td>4000</td>\n",
       "      <td>0</td>\n",
       "      <td>1500</td>\n",
       "      <td>2000</td>\n",
       "      <td>3000</td>\n",
       "    </tr>\n",
       "  </tbody>\n",
       "</table>\n",
       "<p>9000 rows × 24 columns</p>\n",
       "</div>"
      ],
      "text/plain": [
       "         ID  LIMIT_BAL  SEX  EDUCATION  MARRIAGE  AGE  PAY_0  PAY_2  PAY_3  \\\n",
       "0     10178      60000    2          2         1   30      0      0      0   \n",
       "1      5304     200000    2          1         2   29      0      0      0   \n",
       "2      5187     230000    1          1         2   39      0      0      0   \n",
       "3     14495     150000    1          1         2   40      0      0      0   \n",
       "4     20444     140000    1          2         2   27      0      0      0   \n",
       "...     ...        ...  ...        ...       ...  ...    ...    ...    ...   \n",
       "8995  16413     230000    2          2         1   42     -1     -1     -2   \n",
       "8996  17210      90000    2          1         2   28     -1     -1     -1   \n",
       "8997  24002      60000    1          2         2   26      0      0      0   \n",
       "8998  17019      70000    2          2         2   23      0      0      0   \n",
       "8999  23415     600000    2          2         1   38      1      2      2   \n",
       "\n",
       "      PAY_4  ...  BILL_AMT3  BILL_AMT4  BILL_AMT5  BILL_AMT6  PAY_AMT1  \\\n",
       "0         0  ...      38117      38874      38667      39544      1628   \n",
       "1         0  ...      76593      93988      50292      10510      4160   \n",
       "2         0  ...      20650          0          0          0      2500   \n",
       "3         0  ...     145978     139791     142745     146872      5800   \n",
       "4         0  ...      76230      77954      78953      81848     10000   \n",
       "...     ...  ...        ...        ...        ...        ...       ...   \n",
       "8995     -2  ...          0          0          0          0         0   \n",
       "8996     -1  ...       7956        499          0       5990      1950   \n",
       "8997      0  ...      57416      55736      26958      28847      2282   \n",
       "8998      0  ...      47208      47241      48212      45849      2100   \n",
       "8999      2  ...      39635      35130      33229      32171         0   \n",
       "\n",
       "      PAY_AMT2  PAY_AMT3  PAY_AMT4  PAY_AMT5  PAY_AMT6  \n",
       "0         1618      1375      1403      1520      1205  \n",
       "1        14593     20150         0      5739     12050  \n",
       "2         2000         0         0         0         0  \n",
       "3         5245      5200      5200      6500      7200  \n",
       "4        10000      3393      3260      5000      3000  \n",
       "...        ...       ...       ...       ...       ...  \n",
       "8995         0         0         0         0         0  \n",
       "8996      7956       499         0      5990         0  \n",
       "8997      2324      2049      2000      3000      1120  \n",
       "8998      2079      2500      2000      2000      1700  \n",
       "8999      4000         0      1500      2000      3000  \n",
       "\n",
       "[9000 rows x 24 columns]"
      ]
     },
     "execution_count": 2,
     "metadata": {},
     "output_type": "execute_result"
    },
    {
     "name": "stdout",
     "output_type": "stream",
     "text": [
      "time: 35.6 ms (started: 2022-05-18 15:43:50 +05:30)\n"
     ]
    }
   ],
   "source": [
    "#Reading the test data\n",
    "Test_data = pd.read_csv(\"test_file.csv\")\n",
    "Test_data"
   ]
  },
  {
   "cell_type": "code",
   "execution_count": 3,
   "id": "3a0ac484",
   "metadata": {},
   "outputs": [
    {
     "data": {
      "text/html": [
       "<div>\n",
       "<style scoped>\n",
       "    .dataframe tbody tr th:only-of-type {\n",
       "        vertical-align: middle;\n",
       "    }\n",
       "\n",
       "    .dataframe tbody tr th {\n",
       "        vertical-align: top;\n",
       "    }\n",
       "\n",
       "    .dataframe thead th {\n",
       "        text-align: right;\n",
       "    }\n",
       "</style>\n",
       "<table border=\"1\" class=\"dataframe\">\n",
       "  <thead>\n",
       "    <tr style=\"text-align: right;\">\n",
       "      <th></th>\n",
       "      <th>ID</th>\n",
       "      <th>LIMIT_BAL</th>\n",
       "      <th>SEX</th>\n",
       "      <th>EDUCATION</th>\n",
       "      <th>MARRIAGE</th>\n",
       "      <th>AGE</th>\n",
       "      <th>PAY_0</th>\n",
       "      <th>PAY_2</th>\n",
       "      <th>PAY_3</th>\n",
       "      <th>PAY_4</th>\n",
       "      <th>...</th>\n",
       "      <th>BILL_AMT4</th>\n",
       "      <th>BILL_AMT5</th>\n",
       "      <th>BILL_AMT6</th>\n",
       "      <th>PAY_AMT1</th>\n",
       "      <th>PAY_AMT2</th>\n",
       "      <th>PAY_AMT3</th>\n",
       "      <th>PAY_AMT4</th>\n",
       "      <th>PAY_AMT5</th>\n",
       "      <th>PAY_AMT6</th>\n",
       "      <th>default_payment_next_month</th>\n",
       "    </tr>\n",
       "  </thead>\n",
       "  <tbody>\n",
       "    <tr>\n",
       "      <th>0</th>\n",
       "      <td>25150</td>\n",
       "      <td>360000</td>\n",
       "      <td>2</td>\n",
       "      <td>2</td>\n",
       "      <td>2</td>\n",
       "      <td>25</td>\n",
       "      <td>-1</td>\n",
       "      <td>-1</td>\n",
       "      <td>-1</td>\n",
       "      <td>-1</td>\n",
       "      <td>...</td>\n",
       "      <td>3435</td>\n",
       "      <td>8870</td>\n",
       "      <td>2020</td>\n",
       "      <td>12590</td>\n",
       "      <td>3479</td>\n",
       "      <td>3446</td>\n",
       "      <td>8870</td>\n",
       "      <td>2020</td>\n",
       "      <td>27043</td>\n",
       "      <td>0</td>\n",
       "    </tr>\n",
       "    <tr>\n",
       "      <th>1</th>\n",
       "      <td>13470</td>\n",
       "      <td>240000</td>\n",
       "      <td>2</td>\n",
       "      <td>1</td>\n",
       "      <td>2</td>\n",
       "      <td>46</td>\n",
       "      <td>2</td>\n",
       "      <td>2</td>\n",
       "      <td>-2</td>\n",
       "      <td>-1</td>\n",
       "      <td>...</td>\n",
       "      <td>2240</td>\n",
       "      <td>1681</td>\n",
       "      <td>2267</td>\n",
       "      <td>0</td>\n",
       "      <td>0</td>\n",
       "      <td>2240</td>\n",
       "      <td>0</td>\n",
       "      <td>2267</td>\n",
       "      <td>3074</td>\n",
       "      <td>0</td>\n",
       "    </tr>\n",
       "    <tr>\n",
       "      <th>2</th>\n",
       "      <td>3092</td>\n",
       "      <td>320000</td>\n",
       "      <td>2</td>\n",
       "      <td>2</td>\n",
       "      <td>1</td>\n",
       "      <td>41</td>\n",
       "      <td>0</td>\n",
       "      <td>0</td>\n",
       "      <td>0</td>\n",
       "      <td>0</td>\n",
       "      <td>...</td>\n",
       "      <td>35409</td>\n",
       "      <td>35036</td>\n",
       "      <td>35939</td>\n",
       "      <td>5000</td>\n",
       "      <td>2000</td>\n",
       "      <td>2000</td>\n",
       "      <td>3000</td>\n",
       "      <td>3000</td>\n",
       "      <td>1500</td>\n",
       "      <td>0</td>\n",
       "    </tr>\n",
       "    <tr>\n",
       "      <th>3</th>\n",
       "      <td>13973</td>\n",
       "      <td>50000</td>\n",
       "      <td>2</td>\n",
       "      <td>2</td>\n",
       "      <td>2</td>\n",
       "      <td>24</td>\n",
       "      <td>-1</td>\n",
       "      <td>-1</td>\n",
       "      <td>-2</td>\n",
       "      <td>-2</td>\n",
       "      <td>...</td>\n",
       "      <td>0</td>\n",
       "      <td>0</td>\n",
       "      <td>0</td>\n",
       "      <td>0</td>\n",
       "      <td>0</td>\n",
       "      <td>0</td>\n",
       "      <td>0</td>\n",
       "      <td>0</td>\n",
       "      <td>0</td>\n",
       "      <td>1</td>\n",
       "    </tr>\n",
       "    <tr>\n",
       "      <th>4</th>\n",
       "      <td>10567</td>\n",
       "      <td>80000</td>\n",
       "      <td>1</td>\n",
       "      <td>3</td>\n",
       "      <td>1</td>\n",
       "      <td>52</td>\n",
       "      <td>-1</td>\n",
       "      <td>0</td>\n",
       "      <td>0</td>\n",
       "      <td>0</td>\n",
       "      <td>...</td>\n",
       "      <td>20561</td>\n",
       "      <td>21261</td>\n",
       "      <td>21457</td>\n",
       "      <td>1500</td>\n",
       "      <td>1500</td>\n",
       "      <td>1500</td>\n",
       "      <td>1028</td>\n",
       "      <td>876</td>\n",
       "      <td>1449</td>\n",
       "      <td>0</td>\n",
       "    </tr>\n",
       "    <tr>\n",
       "      <th>...</th>\n",
       "      <td>...</td>\n",
       "      <td>...</td>\n",
       "      <td>...</td>\n",
       "      <td>...</td>\n",
       "      <td>...</td>\n",
       "      <td>...</td>\n",
       "      <td>...</td>\n",
       "      <td>...</td>\n",
       "      <td>...</td>\n",
       "      <td>...</td>\n",
       "      <td>...</td>\n",
       "      <td>...</td>\n",
       "      <td>...</td>\n",
       "      <td>...</td>\n",
       "      <td>...</td>\n",
       "      <td>...</td>\n",
       "      <td>...</td>\n",
       "      <td>...</td>\n",
       "      <td>...</td>\n",
       "      <td>...</td>\n",
       "      <td>...</td>\n",
       "    </tr>\n",
       "    <tr>\n",
       "      <th>20995</th>\n",
       "      <td>6283</td>\n",
       "      <td>50000</td>\n",
       "      <td>2</td>\n",
       "      <td>2</td>\n",
       "      <td>2</td>\n",
       "      <td>31</td>\n",
       "      <td>1</td>\n",
       "      <td>-2</td>\n",
       "      <td>-2</td>\n",
       "      <td>-2</td>\n",
       "      <td>...</td>\n",
       "      <td>0</td>\n",
       "      <td>0</td>\n",
       "      <td>0</td>\n",
       "      <td>0</td>\n",
       "      <td>0</td>\n",
       "      <td>0</td>\n",
       "      <td>0</td>\n",
       "      <td>0</td>\n",
       "      <td>0</td>\n",
       "      <td>0</td>\n",
       "    </tr>\n",
       "    <tr>\n",
       "      <th>20996</th>\n",
       "      <td>25589</td>\n",
       "      <td>80000</td>\n",
       "      <td>2</td>\n",
       "      <td>2</td>\n",
       "      <td>1</td>\n",
       "      <td>37</td>\n",
       "      <td>0</td>\n",
       "      <td>0</td>\n",
       "      <td>0</td>\n",
       "      <td>0</td>\n",
       "      <td>...</td>\n",
       "      <td>45458</td>\n",
       "      <td>48679</td>\n",
       "      <td>49895</td>\n",
       "      <td>5000</td>\n",
       "      <td>3000</td>\n",
       "      <td>2000</td>\n",
       "      <td>4000</td>\n",
       "      <td>2000</td>\n",
       "      <td>2000</td>\n",
       "      <td>0</td>\n",
       "    </tr>\n",
       "    <tr>\n",
       "      <th>20997</th>\n",
       "      <td>4378</td>\n",
       "      <td>100000</td>\n",
       "      <td>1</td>\n",
       "      <td>1</td>\n",
       "      <td>1</td>\n",
       "      <td>52</td>\n",
       "      <td>1</td>\n",
       "      <td>2</td>\n",
       "      <td>2</td>\n",
       "      <td>2</td>\n",
       "      <td>...</td>\n",
       "      <td>23440</td>\n",
       "      <td>28843</td>\n",
       "      <td>31353</td>\n",
       "      <td>0</td>\n",
       "      <td>3600</td>\n",
       "      <td>0</td>\n",
       "      <td>6000</td>\n",
       "      <td>3000</td>\n",
       "      <td>0</td>\n",
       "      <td>1</td>\n",
       "    </tr>\n",
       "    <tr>\n",
       "      <th>20998</th>\n",
       "      <td>8604</td>\n",
       "      <td>90000</td>\n",
       "      <td>2</td>\n",
       "      <td>2</td>\n",
       "      <td>1</td>\n",
       "      <td>47</td>\n",
       "      <td>0</td>\n",
       "      <td>0</td>\n",
       "      <td>0</td>\n",
       "      <td>0</td>\n",
       "      <td>...</td>\n",
       "      <td>28747</td>\n",
       "      <td>29177</td>\n",
       "      <td>29452</td>\n",
       "      <td>2000</td>\n",
       "      <td>2000</td>\n",
       "      <td>2000</td>\n",
       "      <td>2000</td>\n",
       "      <td>2000</td>\n",
       "      <td>2000</td>\n",
       "      <td>0</td>\n",
       "    </tr>\n",
       "    <tr>\n",
       "      <th>20999</th>\n",
       "      <td>18049</td>\n",
       "      <td>90000</td>\n",
       "      <td>1</td>\n",
       "      <td>3</td>\n",
       "      <td>1</td>\n",
       "      <td>44</td>\n",
       "      <td>1</td>\n",
       "      <td>-2</td>\n",
       "      <td>-2</td>\n",
       "      <td>-2</td>\n",
       "      <td>...</td>\n",
       "      <td>0</td>\n",
       "      <td>0</td>\n",
       "      <td>0</td>\n",
       "      <td>0</td>\n",
       "      <td>0</td>\n",
       "      <td>0</td>\n",
       "      <td>0</td>\n",
       "      <td>0</td>\n",
       "      <td>0</td>\n",
       "      <td>1</td>\n",
       "    </tr>\n",
       "  </tbody>\n",
       "</table>\n",
       "<p>21000 rows × 25 columns</p>\n",
       "</div>"
      ],
      "text/plain": [
       "          ID  LIMIT_BAL  SEX  EDUCATION  MARRIAGE  AGE  PAY_0  PAY_2  PAY_3  \\\n",
       "0      25150     360000    2          2         2   25     -1     -1     -1   \n",
       "1      13470     240000    2          1         2   46      2      2     -2   \n",
       "2       3092     320000    2          2         1   41      0      0      0   \n",
       "3      13973      50000    2          2         2   24     -1     -1     -2   \n",
       "4      10567      80000    1          3         1   52     -1      0      0   \n",
       "...      ...        ...  ...        ...       ...  ...    ...    ...    ...   \n",
       "20995   6283      50000    2          2         2   31      1     -2     -2   \n",
       "20996  25589      80000    2          2         1   37      0      0      0   \n",
       "20997   4378     100000    1          1         1   52      1      2      2   \n",
       "20998   8604      90000    2          2         1   47      0      0      0   \n",
       "20999  18049      90000    1          3         1   44      1     -2     -2   \n",
       "\n",
       "       PAY_4  ...  BILL_AMT4  BILL_AMT5  BILL_AMT6  PAY_AMT1  PAY_AMT2  \\\n",
       "0         -1  ...       3435       8870       2020     12590      3479   \n",
       "1         -1  ...       2240       1681       2267         0         0   \n",
       "2          0  ...      35409      35036      35939      5000      2000   \n",
       "3         -2  ...          0          0          0         0         0   \n",
       "4          0  ...      20561      21261      21457      1500      1500   \n",
       "...      ...  ...        ...        ...        ...       ...       ...   \n",
       "20995     -2  ...          0          0          0         0         0   \n",
       "20996      0  ...      45458      48679      49895      5000      3000   \n",
       "20997      2  ...      23440      28843      31353         0      3600   \n",
       "20998      0  ...      28747      29177      29452      2000      2000   \n",
       "20999     -2  ...          0          0          0         0         0   \n",
       "\n",
       "       PAY_AMT3  PAY_AMT4  PAY_AMT5  PAY_AMT6  default_payment_next_month  \n",
       "0          3446      8870      2020     27043                           0  \n",
       "1          2240         0      2267      3074                           0  \n",
       "2          2000      3000      3000      1500                           0  \n",
       "3             0         0         0         0                           1  \n",
       "4          1500      1028       876      1449                           0  \n",
       "...         ...       ...       ...       ...                         ...  \n",
       "20995         0         0         0         0                           0  \n",
       "20996      2000      4000      2000      2000                           0  \n",
       "20997         0      6000      3000         0                           1  \n",
       "20998      2000      2000      2000      2000                           0  \n",
       "20999         0         0         0         0                           1  \n",
       "\n",
       "[21000 rows x 25 columns]"
      ]
     },
     "execution_count": 3,
     "metadata": {},
     "output_type": "execute_result"
    },
    {
     "name": "stdout",
     "output_type": "stream",
     "text": [
      "time: 73.3 ms (started: 2022-05-18 15:43:51 +05:30)\n"
     ]
    }
   ],
   "source": [
    "#Reading the train data\n",
    "Train_data = pd.read_csv(\"train_file.csv\")\n",
    "Train_data"
   ]
  },
  {
   "cell_type": "code",
   "execution_count": 4,
   "id": "2e50d95b",
   "metadata": {},
   "outputs": [
    {
     "name": "stdout",
     "output_type": "stream",
     "text": [
      " Shape of Test data:  (9000, 24)\n",
      " Shape of Train data:  (21000, 25)\n",
      "time: 1.43 ms (started: 2022-05-18 15:43:51 +05:30)\n"
     ]
    }
   ],
   "source": [
    "#Shape of the test Data & train Data\n",
    "print(\" Shape of Test data: \",Test_data.shape)\n",
    "print(\" Shape of Train data: \",Train_data.shape)"
   ]
  },
  {
   "cell_type": "code",
   "execution_count": 5,
   "id": "2c0dd18e",
   "metadata": {},
   "outputs": [
    {
     "data": {
      "text/html": [
       "<div>\n",
       "<style scoped>\n",
       "    .dataframe tbody tr th:only-of-type {\n",
       "        vertical-align: middle;\n",
       "    }\n",
       "\n",
       "    .dataframe tbody tr th {\n",
       "        vertical-align: top;\n",
       "    }\n",
       "\n",
       "    .dataframe thead th {\n",
       "        text-align: right;\n",
       "    }\n",
       "</style>\n",
       "<table border=\"1\" class=\"dataframe\">\n",
       "  <thead>\n",
       "    <tr style=\"text-align: right;\">\n",
       "      <th></th>\n",
       "      <th>count</th>\n",
       "      <th>mean</th>\n",
       "      <th>std</th>\n",
       "      <th>min</th>\n",
       "      <th>25%</th>\n",
       "      <th>50%</th>\n",
       "      <th>75%</th>\n",
       "      <th>max</th>\n",
       "    </tr>\n",
       "  </thead>\n",
       "  <tbody>\n",
       "    <tr>\n",
       "      <th>ID</th>\n",
       "      <td>21000.0</td>\n",
       "      <td>14949.183667</td>\n",
       "      <td>8632.775153</td>\n",
       "      <td>1.0</td>\n",
       "      <td>7508.75</td>\n",
       "      <td>14939.5</td>\n",
       "      <td>22386.75</td>\n",
       "      <td>29998.0</td>\n",
       "    </tr>\n",
       "    <tr>\n",
       "      <th>LIMIT_BAL</th>\n",
       "      <td>21000.0</td>\n",
       "      <td>167214.746667</td>\n",
       "      <td>128965.188482</td>\n",
       "      <td>10000.0</td>\n",
       "      <td>50000.00</td>\n",
       "      <td>140000.0</td>\n",
       "      <td>240000.00</td>\n",
       "      <td>800000.0</td>\n",
       "    </tr>\n",
       "    <tr>\n",
       "      <th>SEX</th>\n",
       "      <td>21000.0</td>\n",
       "      <td>1.607571</td>\n",
       "      <td>0.488303</td>\n",
       "      <td>1.0</td>\n",
       "      <td>1.00</td>\n",
       "      <td>2.0</td>\n",
       "      <td>2.00</td>\n",
       "      <td>2.0</td>\n",
       "    </tr>\n",
       "    <tr>\n",
       "      <th>EDUCATION</th>\n",
       "      <td>21000.0</td>\n",
       "      <td>1.854190</td>\n",
       "      <td>0.791628</td>\n",
       "      <td>0.0</td>\n",
       "      <td>1.00</td>\n",
       "      <td>2.0</td>\n",
       "      <td>2.00</td>\n",
       "      <td>6.0</td>\n",
       "    </tr>\n",
       "    <tr>\n",
       "      <th>MARRIAGE</th>\n",
       "      <td>21000.0</td>\n",
       "      <td>1.551714</td>\n",
       "      <td>0.521176</td>\n",
       "      <td>0.0</td>\n",
       "      <td>1.00</td>\n",
       "      <td>2.0</td>\n",
       "      <td>2.00</td>\n",
       "      <td>3.0</td>\n",
       "    </tr>\n",
       "    <tr>\n",
       "      <th>AGE</th>\n",
       "      <td>21000.0</td>\n",
       "      <td>35.461619</td>\n",
       "      <td>9.206628</td>\n",
       "      <td>21.0</td>\n",
       "      <td>28.00</td>\n",
       "      <td>34.0</td>\n",
       "      <td>41.00</td>\n",
       "      <td>75.0</td>\n",
       "    </tr>\n",
       "    <tr>\n",
       "      <th>PAY_0</th>\n",
       "      <td>21000.0</td>\n",
       "      <td>-0.011190</td>\n",
       "      <td>1.123210</td>\n",
       "      <td>-2.0</td>\n",
       "      <td>-1.00</td>\n",
       "      <td>0.0</td>\n",
       "      <td>0.00</td>\n",
       "      <td>8.0</td>\n",
       "    </tr>\n",
       "    <tr>\n",
       "      <th>PAY_2</th>\n",
       "      <td>21000.0</td>\n",
       "      <td>-0.127238</td>\n",
       "      <td>1.198957</td>\n",
       "      <td>-2.0</td>\n",
       "      <td>-1.00</td>\n",
       "      <td>0.0</td>\n",
       "      <td>0.00</td>\n",
       "      <td>8.0</td>\n",
       "    </tr>\n",
       "    <tr>\n",
       "      <th>PAY_3</th>\n",
       "      <td>21000.0</td>\n",
       "      <td>-0.164857</td>\n",
       "      <td>1.198624</td>\n",
       "      <td>-2.0</td>\n",
       "      <td>-1.00</td>\n",
       "      <td>0.0</td>\n",
       "      <td>0.00</td>\n",
       "      <td>8.0</td>\n",
       "    </tr>\n",
       "    <tr>\n",
       "      <th>PAY_4</th>\n",
       "      <td>21000.0</td>\n",
       "      <td>-0.218190</td>\n",
       "      <td>1.172210</td>\n",
       "      <td>-2.0</td>\n",
       "      <td>-1.00</td>\n",
       "      <td>0.0</td>\n",
       "      <td>0.00</td>\n",
       "      <td>8.0</td>\n",
       "    </tr>\n",
       "    <tr>\n",
       "      <th>PAY_5</th>\n",
       "      <td>21000.0</td>\n",
       "      <td>-0.260952</td>\n",
       "      <td>1.141454</td>\n",
       "      <td>-2.0</td>\n",
       "      <td>-1.00</td>\n",
       "      <td>0.0</td>\n",
       "      <td>0.00</td>\n",
       "      <td>8.0</td>\n",
       "    </tr>\n",
       "    <tr>\n",
       "      <th>PAY_6</th>\n",
       "      <td>21000.0</td>\n",
       "      <td>-0.288667</td>\n",
       "      <td>1.151592</td>\n",
       "      <td>-2.0</td>\n",
       "      <td>-1.00</td>\n",
       "      <td>0.0</td>\n",
       "      <td>0.00</td>\n",
       "      <td>8.0</td>\n",
       "    </tr>\n",
       "    <tr>\n",
       "      <th>BILL_AMT1</th>\n",
       "      <td>21000.0</td>\n",
       "      <td>51501.542381</td>\n",
       "      <td>73453.641859</td>\n",
       "      <td>-14386.0</td>\n",
       "      <td>3564.75</td>\n",
       "      <td>22578.0</td>\n",
       "      <td>67876.25</td>\n",
       "      <td>746814.0</td>\n",
       "    </tr>\n",
       "    <tr>\n",
       "      <th>BILL_AMT2</th>\n",
       "      <td>21000.0</td>\n",
       "      <td>49463.502667</td>\n",
       "      <td>70866.586004</td>\n",
       "      <td>-69777.0</td>\n",
       "      <td>3000.00</td>\n",
       "      <td>21550.0</td>\n",
       "      <td>64918.25</td>\n",
       "      <td>743970.0</td>\n",
       "    </tr>\n",
       "    <tr>\n",
       "      <th>BILL_AMT3</th>\n",
       "      <td>21000.0</td>\n",
       "      <td>47232.577762</td>\n",
       "      <td>69539.883466</td>\n",
       "      <td>-157264.0</td>\n",
       "      <td>2686.25</td>\n",
       "      <td>20242.0</td>\n",
       "      <td>60826.75</td>\n",
       "      <td>1664089.0</td>\n",
       "    </tr>\n",
       "    <tr>\n",
       "      <th>BILL_AMT4</th>\n",
       "      <td>21000.0</td>\n",
       "      <td>43387.372476</td>\n",
       "      <td>64081.073110</td>\n",
       "      <td>-170000.0</td>\n",
       "      <td>2332.00</td>\n",
       "      <td>19158.5</td>\n",
       "      <td>55376.75</td>\n",
       "      <td>706864.0</td>\n",
       "    </tr>\n",
       "    <tr>\n",
       "      <th>BILL_AMT5</th>\n",
       "      <td>21000.0</td>\n",
       "      <td>40398.551095</td>\n",
       "      <td>60396.811177</td>\n",
       "      <td>-81334.0</td>\n",
       "      <td>1759.00</td>\n",
       "      <td>18266.5</td>\n",
       "      <td>50517.25</td>\n",
       "      <td>587067.0</td>\n",
       "    </tr>\n",
       "    <tr>\n",
       "      <th>BILL_AMT6</th>\n",
       "      <td>21000.0</td>\n",
       "      <td>38931.194000</td>\n",
       "      <td>59196.499234</td>\n",
       "      <td>-209051.0</td>\n",
       "      <td>1242.75</td>\n",
       "      <td>17203.5</td>\n",
       "      <td>49463.00</td>\n",
       "      <td>699944.0</td>\n",
       "    </tr>\n",
       "    <tr>\n",
       "      <th>PAY_AMT1</th>\n",
       "      <td>21000.0</td>\n",
       "      <td>5686.349333</td>\n",
       "      <td>16868.075695</td>\n",
       "      <td>0.0</td>\n",
       "      <td>998.25</td>\n",
       "      <td>2100.0</td>\n",
       "      <td>5023.25</td>\n",
       "      <td>873552.0</td>\n",
       "    </tr>\n",
       "    <tr>\n",
       "      <th>PAY_AMT2</th>\n",
       "      <td>21000.0</td>\n",
       "      <td>5923.003476</td>\n",
       "      <td>23909.526477</td>\n",
       "      <td>0.0</td>\n",
       "      <td>836.00</td>\n",
       "      <td>2011.0</td>\n",
       "      <td>5000.00</td>\n",
       "      <td>1684259.0</td>\n",
       "    </tr>\n",
       "    <tr>\n",
       "      <th>PAY_AMT3</th>\n",
       "      <td>21000.0</td>\n",
       "      <td>5202.325333</td>\n",
       "      <td>17006.416467</td>\n",
       "      <td>0.0</td>\n",
       "      <td>390.00</td>\n",
       "      <td>1811.5</td>\n",
       "      <td>4500.00</td>\n",
       "      <td>889043.0</td>\n",
       "    </tr>\n",
       "    <tr>\n",
       "      <th>PAY_AMT4</th>\n",
       "      <td>21000.0</td>\n",
       "      <td>4793.172000</td>\n",
       "      <td>15467.403159</td>\n",
       "      <td>0.0</td>\n",
       "      <td>284.00</td>\n",
       "      <td>1500.0</td>\n",
       "      <td>4002.25</td>\n",
       "      <td>621000.0</td>\n",
       "    </tr>\n",
       "    <tr>\n",
       "      <th>PAY_AMT5</th>\n",
       "      <td>21000.0</td>\n",
       "      <td>4797.012952</td>\n",
       "      <td>15270.031988</td>\n",
       "      <td>0.0</td>\n",
       "      <td>241.00</td>\n",
       "      <td>1500.0</td>\n",
       "      <td>4051.00</td>\n",
       "      <td>417990.0</td>\n",
       "    </tr>\n",
       "    <tr>\n",
       "      <th>PAY_AMT6</th>\n",
       "      <td>21000.0</td>\n",
       "      <td>5211.736762</td>\n",
       "      <td>17698.795697</td>\n",
       "      <td>0.0</td>\n",
       "      <td>102.00</td>\n",
       "      <td>1500.0</td>\n",
       "      <td>4000.00</td>\n",
       "      <td>528666.0</td>\n",
       "    </tr>\n",
       "    <tr>\n",
       "      <th>default_payment_next_month</th>\n",
       "      <td>21000.0</td>\n",
       "      <td>0.221190</td>\n",
       "      <td>0.415058</td>\n",
       "      <td>0.0</td>\n",
       "      <td>0.00</td>\n",
       "      <td>0.0</td>\n",
       "      <td>0.00</td>\n",
       "      <td>1.0</td>\n",
       "    </tr>\n",
       "  </tbody>\n",
       "</table>\n",
       "</div>"
      ],
      "text/plain": [
       "                              count           mean            std       min  \\\n",
       "ID                          21000.0   14949.183667    8632.775153       1.0   \n",
       "LIMIT_BAL                   21000.0  167214.746667  128965.188482   10000.0   \n",
       "SEX                         21000.0       1.607571       0.488303       1.0   \n",
       "EDUCATION                   21000.0       1.854190       0.791628       0.0   \n",
       "MARRIAGE                    21000.0       1.551714       0.521176       0.0   \n",
       "AGE                         21000.0      35.461619       9.206628      21.0   \n",
       "PAY_0                       21000.0      -0.011190       1.123210      -2.0   \n",
       "PAY_2                       21000.0      -0.127238       1.198957      -2.0   \n",
       "PAY_3                       21000.0      -0.164857       1.198624      -2.0   \n",
       "PAY_4                       21000.0      -0.218190       1.172210      -2.0   \n",
       "PAY_5                       21000.0      -0.260952       1.141454      -2.0   \n",
       "PAY_6                       21000.0      -0.288667       1.151592      -2.0   \n",
       "BILL_AMT1                   21000.0   51501.542381   73453.641859  -14386.0   \n",
       "BILL_AMT2                   21000.0   49463.502667   70866.586004  -69777.0   \n",
       "BILL_AMT3                   21000.0   47232.577762   69539.883466 -157264.0   \n",
       "BILL_AMT4                   21000.0   43387.372476   64081.073110 -170000.0   \n",
       "BILL_AMT5                   21000.0   40398.551095   60396.811177  -81334.0   \n",
       "BILL_AMT6                   21000.0   38931.194000   59196.499234 -209051.0   \n",
       "PAY_AMT1                    21000.0    5686.349333   16868.075695       0.0   \n",
       "PAY_AMT2                    21000.0    5923.003476   23909.526477       0.0   \n",
       "PAY_AMT3                    21000.0    5202.325333   17006.416467       0.0   \n",
       "PAY_AMT4                    21000.0    4793.172000   15467.403159       0.0   \n",
       "PAY_AMT5                    21000.0    4797.012952   15270.031988       0.0   \n",
       "PAY_AMT6                    21000.0    5211.736762   17698.795697       0.0   \n",
       "default_payment_next_month  21000.0       0.221190       0.415058       0.0   \n",
       "\n",
       "                                 25%       50%        75%        max  \n",
       "ID                           7508.75   14939.5   22386.75    29998.0  \n",
       "LIMIT_BAL                   50000.00  140000.0  240000.00   800000.0  \n",
       "SEX                             1.00       2.0       2.00        2.0  \n",
       "EDUCATION                       1.00       2.0       2.00        6.0  \n",
       "MARRIAGE                        1.00       2.0       2.00        3.0  \n",
       "AGE                            28.00      34.0      41.00       75.0  \n",
       "PAY_0                          -1.00       0.0       0.00        8.0  \n",
       "PAY_2                          -1.00       0.0       0.00        8.0  \n",
       "PAY_3                          -1.00       0.0       0.00        8.0  \n",
       "PAY_4                          -1.00       0.0       0.00        8.0  \n",
       "PAY_5                          -1.00       0.0       0.00        8.0  \n",
       "PAY_6                          -1.00       0.0       0.00        8.0  \n",
       "BILL_AMT1                    3564.75   22578.0   67876.25   746814.0  \n",
       "BILL_AMT2                    3000.00   21550.0   64918.25   743970.0  \n",
       "BILL_AMT3                    2686.25   20242.0   60826.75  1664089.0  \n",
       "BILL_AMT4                    2332.00   19158.5   55376.75   706864.0  \n",
       "BILL_AMT5                    1759.00   18266.5   50517.25   587067.0  \n",
       "BILL_AMT6                    1242.75   17203.5   49463.00   699944.0  \n",
       "PAY_AMT1                      998.25    2100.0    5023.25   873552.0  \n",
       "PAY_AMT2                      836.00    2011.0    5000.00  1684259.0  \n",
       "PAY_AMT3                      390.00    1811.5    4500.00   889043.0  \n",
       "PAY_AMT4                      284.00    1500.0    4002.25   621000.0  \n",
       "PAY_AMT5                      241.00    1500.0    4051.00   417990.0  \n",
       "PAY_AMT6                      102.00    1500.0    4000.00   528666.0  \n",
       "default_payment_next_month      0.00       0.0       0.00        1.0  "
      ]
     },
     "execution_count": 5,
     "metadata": {},
     "output_type": "execute_result"
    },
    {
     "name": "stdout",
     "output_type": "stream",
     "text": [
      "time: 91.9 ms (started: 2022-05-18 15:43:52 +05:30)\n"
     ]
    }
   ],
   "source": [
    "#Describing the Train data\n",
    "Train_data.describe().T"
   ]
  },
  {
   "cell_type": "code",
   "execution_count": 6,
   "id": "51c193ee",
   "metadata": {},
   "outputs": [
    {
     "name": "stdout",
     "output_type": "stream",
     "text": [
      " Train data unique values for EDUCATION column:  [2 1 3 5 4 6 0]\n",
      " Test data unique values for EDUCATION column:  [2 1 3 5 4 6 0]\n",
      " Train data unique values for MARRIAGE column::  [2 1 3 0]\n",
      " Train data unique values for MARRIAGE column:  [1 2 3 0]\n",
      "time: 4.91 ms (started: 2022-05-18 15:43:52 +05:30)\n"
     ]
    }
   ],
   "source": [
    "#Unique length of the labels in EDUCATION & MARRIAGE column before merging labels\n",
    "print(\" Train data unique values for EDUCATION column: \",Train_data['EDUCATION'].unique())\n",
    "print(\" Test data unique values for EDUCATION column: \",Test_data['EDUCATION'].unique())\n",
    "print(\" Train data unique values for MARRIAGE column:: \", Train_data['MARRIAGE'].unique())\n",
    "print(\" Train data unique values for MARRIAGE column: \", Test_data['MARRIAGE'].unique())"
   ]
  },
  {
   "cell_type": "code",
   "execution_count": 7,
   "id": "6efc3937",
   "metadata": {},
   "outputs": [
    {
     "name": "stdout",
     "output_type": "stream",
     "text": [
      "time: 3.44 ms (started: 2022-05-18 15:43:52 +05:30)\n"
     ]
    }
   ],
   "source": [
    "def merging_labels():\n",
    "    \n",
    "    \"\"\"\n",
    "    input: takes original labels from the data\n",
    "\n",
    "    output: merges unwanted or similar labels into one label in the data\n",
    "    \n",
    "    \"\"\"\n",
    "    #Merging unknown and others label of education column into one label from Train data & Test data\n",
    "    Train_data['EDUCATION']=np.where(Train_data['EDUCATION'] == 5, 4, Train_data['EDUCATION'])\n",
    "    Train_data['EDUCATION']=np.where(Train_data['EDUCATION'] == 6, 4, Train_data['EDUCATION'])\n",
    "    Train_data['EDUCATION']=np.where(Train_data['EDUCATION'] == 0, 4, Train_data['EDUCATION'])\n",
    "    Test_data['EDUCATION']=np.where(Test_data['EDUCATION'] == 5, 4, Test_data['EDUCATION'])\n",
    "    Test_data['EDUCATION']=np.where(Test_data['EDUCATION'] == 6, 4, Test_data['EDUCATION'])\n",
    "    Test_data['EDUCATION']=np.where(Test_data['EDUCATION'] == 0, 4, Test_data['EDUCATION'])\n",
    "    \n",
    "    #Merging divorced and others label of MARRIAGE column into one label from Train data and Test data\n",
    "    #Train_data['MARRIAGE']=np.where(Train_data['MARRIAGE'] == 0, Train_data['MARRIAGE'] )\n",
    "    #Test_data['MARRIAGE']=np.where(Test_data['MARRIAGE'] == 0,  Test_data['MARRIAGE'])\n",
    "    \n",
    "    \n",
    "    # After merging, the Unique length of the test Data\n",
    "    print(\" Train data unique values for EDUCATION column: \",Train_data['EDUCATION'].unique())\n",
    "    print(\" Test data unique values for EDUCATION column: \",Test_data['EDUCATION'].unique())\n",
    "    #print(\" Train data unique values for MARRIAGE column: \",Train_data['MARRIAGE'].unique())\n",
    "    #print(\" Test data unique values for MARRIAGE column: \",Test_data['MARRIAGE'].unique())"
   ]
  },
  {
   "cell_type": "code",
   "execution_count": 8,
   "id": "5ce453e6",
   "metadata": {},
   "outputs": [
    {
     "name": "stdout",
     "output_type": "stream",
     "text": [
      " Train data unique values for EDUCATION column:  [2 1 3 4]\n",
      " Test data unique values for EDUCATION column:  [2 1 3 4]\n",
      "time: 12.2 ms (started: 2022-05-18 15:43:52 +05:30)\n"
     ]
    }
   ],
   "source": [
    "merging_labels()"
   ]
  },
  {
   "cell_type": "markdown",
   "id": "20993a9e",
   "metadata": {},
   "source": [
    "### Merging all monthwise columns of Repayment status & Amount of bill statement columns into one column"
   ]
  },
  {
   "cell_type": "code",
   "execution_count": 9,
   "id": "4d7690fd",
   "metadata": {},
   "outputs": [
    {
     "data": {
      "text/html": [
       "<div>\n",
       "<style scoped>\n",
       "    .dataframe tbody tr th:only-of-type {\n",
       "        vertical-align: middle;\n",
       "    }\n",
       "\n",
       "    .dataframe tbody tr th {\n",
       "        vertical-align: top;\n",
       "    }\n",
       "\n",
       "    .dataframe thead th {\n",
       "        text-align: right;\n",
       "    }\n",
       "</style>\n",
       "<table border=\"1\" class=\"dataframe\">\n",
       "  <thead>\n",
       "    <tr style=\"text-align: right;\">\n",
       "      <th></th>\n",
       "      <th>ID</th>\n",
       "      <th>LIMIT_BAL</th>\n",
       "      <th>SEX</th>\n",
       "      <th>EDUCATION</th>\n",
       "      <th>MARRIAGE</th>\n",
       "      <th>AGE</th>\n",
       "      <th>BILL_AMT1</th>\n",
       "      <th>BILL_AMT2</th>\n",
       "      <th>BILL_AMT3</th>\n",
       "      <th>BILL_AMT4</th>\n",
       "      <th>BILL_AMT5</th>\n",
       "      <th>BILL_AMT6</th>\n",
       "      <th>PAY_AMT1</th>\n",
       "      <th>PAY_AMT2</th>\n",
       "      <th>PAY_AMT3</th>\n",
       "      <th>PAY_AMT4</th>\n",
       "      <th>PAY_AMT5</th>\n",
       "      <th>PAY_AMT6</th>\n",
       "      <th>default_payment_next_month</th>\n",
       "      <th>PAY</th>\n",
       "    </tr>\n",
       "  </thead>\n",
       "  <tbody>\n",
       "    <tr>\n",
       "      <th>0</th>\n",
       "      <td>25150</td>\n",
       "      <td>360000</td>\n",
       "      <td>2</td>\n",
       "      <td>2</td>\n",
       "      <td>2</td>\n",
       "      <td>25</td>\n",
       "      <td>20952</td>\n",
       "      <td>12590</td>\n",
       "      <td>3479</td>\n",
       "      <td>3435</td>\n",
       "      <td>8870</td>\n",
       "      <td>2020</td>\n",
       "      <td>12590</td>\n",
       "      <td>3479</td>\n",
       "      <td>3446</td>\n",
       "      <td>8870</td>\n",
       "      <td>2020</td>\n",
       "      <td>27043</td>\n",
       "      <td>0</td>\n",
       "      <td>-1.000000</td>\n",
       "    </tr>\n",
       "    <tr>\n",
       "      <th>1</th>\n",
       "      <td>13470</td>\n",
       "      <td>240000</td>\n",
       "      <td>2</td>\n",
       "      <td>1</td>\n",
       "      <td>2</td>\n",
       "      <td>46</td>\n",
       "      <td>456</td>\n",
       "      <td>0</td>\n",
       "      <td>0</td>\n",
       "      <td>2240</td>\n",
       "      <td>1681</td>\n",
       "      <td>2267</td>\n",
       "      <td>0</td>\n",
       "      <td>0</td>\n",
       "      <td>2240</td>\n",
       "      <td>0</td>\n",
       "      <td>2267</td>\n",
       "      <td>3074</td>\n",
       "      <td>0</td>\n",
       "      <td>0.000000</td>\n",
       "    </tr>\n",
       "    <tr>\n",
       "      <th>2</th>\n",
       "      <td>3092</td>\n",
       "      <td>320000</td>\n",
       "      <td>2</td>\n",
       "      <td>2</td>\n",
       "      <td>1</td>\n",
       "      <td>41</td>\n",
       "      <td>49846</td>\n",
       "      <td>53811</td>\n",
       "      <td>38717</td>\n",
       "      <td>35409</td>\n",
       "      <td>35036</td>\n",
       "      <td>35939</td>\n",
       "      <td>5000</td>\n",
       "      <td>2000</td>\n",
       "      <td>2000</td>\n",
       "      <td>3000</td>\n",
       "      <td>3000</td>\n",
       "      <td>1500</td>\n",
       "      <td>0</td>\n",
       "      <td>0.000000</td>\n",
       "    </tr>\n",
       "    <tr>\n",
       "      <th>3</th>\n",
       "      <td>13973</td>\n",
       "      <td>50000</td>\n",
       "      <td>2</td>\n",
       "      <td>2</td>\n",
       "      <td>2</td>\n",
       "      <td>24</td>\n",
       "      <td>2675</td>\n",
       "      <td>0</td>\n",
       "      <td>0</td>\n",
       "      <td>0</td>\n",
       "      <td>0</td>\n",
       "      <td>0</td>\n",
       "      <td>0</td>\n",
       "      <td>0</td>\n",
       "      <td>0</td>\n",
       "      <td>0</td>\n",
       "      <td>0</td>\n",
       "      <td>0</td>\n",
       "      <td>1</td>\n",
       "      <td>-1.666667</td>\n",
       "    </tr>\n",
       "    <tr>\n",
       "      <th>4</th>\n",
       "      <td>10567</td>\n",
       "      <td>80000</td>\n",
       "      <td>1</td>\n",
       "      <td>3</td>\n",
       "      <td>1</td>\n",
       "      <td>52</td>\n",
       "      <td>35861</td>\n",
       "      <td>18521</td>\n",
       "      <td>19385</td>\n",
       "      <td>20561</td>\n",
       "      <td>21261</td>\n",
       "      <td>21457</td>\n",
       "      <td>1500</td>\n",
       "      <td>1500</td>\n",
       "      <td>1500</td>\n",
       "      <td>1028</td>\n",
       "      <td>876</td>\n",
       "      <td>1449</td>\n",
       "      <td>0</td>\n",
       "      <td>-0.166667</td>\n",
       "    </tr>\n",
       "    <tr>\n",
       "      <th>...</th>\n",
       "      <td>...</td>\n",
       "      <td>...</td>\n",
       "      <td>...</td>\n",
       "      <td>...</td>\n",
       "      <td>...</td>\n",
       "      <td>...</td>\n",
       "      <td>...</td>\n",
       "      <td>...</td>\n",
       "      <td>...</td>\n",
       "      <td>...</td>\n",
       "      <td>...</td>\n",
       "      <td>...</td>\n",
       "      <td>...</td>\n",
       "      <td>...</td>\n",
       "      <td>...</td>\n",
       "      <td>...</td>\n",
       "      <td>...</td>\n",
       "      <td>...</td>\n",
       "      <td>...</td>\n",
       "      <td>...</td>\n",
       "    </tr>\n",
       "    <tr>\n",
       "      <th>20995</th>\n",
       "      <td>6283</td>\n",
       "      <td>50000</td>\n",
       "      <td>2</td>\n",
       "      <td>2</td>\n",
       "      <td>2</td>\n",
       "      <td>31</td>\n",
       "      <td>0</td>\n",
       "      <td>0</td>\n",
       "      <td>0</td>\n",
       "      <td>0</td>\n",
       "      <td>0</td>\n",
       "      <td>0</td>\n",
       "      <td>0</td>\n",
       "      <td>0</td>\n",
       "      <td>0</td>\n",
       "      <td>0</td>\n",
       "      <td>0</td>\n",
       "      <td>0</td>\n",
       "      <td>0</td>\n",
       "      <td>-1.500000</td>\n",
       "    </tr>\n",
       "    <tr>\n",
       "      <th>20996</th>\n",
       "      <td>25589</td>\n",
       "      <td>80000</td>\n",
       "      <td>2</td>\n",
       "      <td>2</td>\n",
       "      <td>1</td>\n",
       "      <td>37</td>\n",
       "      <td>69767</td>\n",
       "      <td>73197</td>\n",
       "      <td>44195</td>\n",
       "      <td>45458</td>\n",
       "      <td>48679</td>\n",
       "      <td>49895</td>\n",
       "      <td>5000</td>\n",
       "      <td>3000</td>\n",
       "      <td>2000</td>\n",
       "      <td>4000</td>\n",
       "      <td>2000</td>\n",
       "      <td>2000</td>\n",
       "      <td>0</td>\n",
       "      <td>0.000000</td>\n",
       "    </tr>\n",
       "    <tr>\n",
       "      <th>20997</th>\n",
       "      <td>4378</td>\n",
       "      <td>100000</td>\n",
       "      <td>1</td>\n",
       "      <td>1</td>\n",
       "      <td>1</td>\n",
       "      <td>52</td>\n",
       "      <td>21509</td>\n",
       "      <td>20877</td>\n",
       "      <td>24122</td>\n",
       "      <td>23440</td>\n",
       "      <td>28843</td>\n",
       "      <td>31353</td>\n",
       "      <td>0</td>\n",
       "      <td>3600</td>\n",
       "      <td>0</td>\n",
       "      <td>6000</td>\n",
       "      <td>3000</td>\n",
       "      <td>0</td>\n",
       "      <td>1</td>\n",
       "      <td>1.166667</td>\n",
       "    </tr>\n",
       "    <tr>\n",
       "      <th>20998</th>\n",
       "      <td>8604</td>\n",
       "      <td>90000</td>\n",
       "      <td>2</td>\n",
       "      <td>2</td>\n",
       "      <td>1</td>\n",
       "      <td>47</td>\n",
       "      <td>28477</td>\n",
       "      <td>28718</td>\n",
       "      <td>28847</td>\n",
       "      <td>28747</td>\n",
       "      <td>29177</td>\n",
       "      <td>29452</td>\n",
       "      <td>2000</td>\n",
       "      <td>2000</td>\n",
       "      <td>2000</td>\n",
       "      <td>2000</td>\n",
       "      <td>2000</td>\n",
       "      <td>2000</td>\n",
       "      <td>0</td>\n",
       "      <td>0.000000</td>\n",
       "    </tr>\n",
       "    <tr>\n",
       "      <th>20999</th>\n",
       "      <td>18049</td>\n",
       "      <td>90000</td>\n",
       "      <td>1</td>\n",
       "      <td>3</td>\n",
       "      <td>1</td>\n",
       "      <td>44</td>\n",
       "      <td>0</td>\n",
       "      <td>0</td>\n",
       "      <td>0</td>\n",
       "      <td>0</td>\n",
       "      <td>0</td>\n",
       "      <td>0</td>\n",
       "      <td>0</td>\n",
       "      <td>0</td>\n",
       "      <td>0</td>\n",
       "      <td>0</td>\n",
       "      <td>0</td>\n",
       "      <td>0</td>\n",
       "      <td>1</td>\n",
       "      <td>-1.500000</td>\n",
       "    </tr>\n",
       "  </tbody>\n",
       "</table>\n",
       "<p>21000 rows × 20 columns</p>\n",
       "</div>"
      ],
      "text/plain": [
       "          ID  LIMIT_BAL  SEX  EDUCATION  MARRIAGE  AGE  BILL_AMT1  BILL_AMT2  \\\n",
       "0      25150     360000    2          2         2   25      20952      12590   \n",
       "1      13470     240000    2          1         2   46        456          0   \n",
       "2       3092     320000    2          2         1   41      49846      53811   \n",
       "3      13973      50000    2          2         2   24       2675          0   \n",
       "4      10567      80000    1          3         1   52      35861      18521   \n",
       "...      ...        ...  ...        ...       ...  ...        ...        ...   \n",
       "20995   6283      50000    2          2         2   31          0          0   \n",
       "20996  25589      80000    2          2         1   37      69767      73197   \n",
       "20997   4378     100000    1          1         1   52      21509      20877   \n",
       "20998   8604      90000    2          2         1   47      28477      28718   \n",
       "20999  18049      90000    1          3         1   44          0          0   \n",
       "\n",
       "       BILL_AMT3  BILL_AMT4  BILL_AMT5  BILL_AMT6  PAY_AMT1  PAY_AMT2  \\\n",
       "0           3479       3435       8870       2020     12590      3479   \n",
       "1              0       2240       1681       2267         0         0   \n",
       "2          38717      35409      35036      35939      5000      2000   \n",
       "3              0          0          0          0         0         0   \n",
       "4          19385      20561      21261      21457      1500      1500   \n",
       "...          ...        ...        ...        ...       ...       ...   \n",
       "20995          0          0          0          0         0         0   \n",
       "20996      44195      45458      48679      49895      5000      3000   \n",
       "20997      24122      23440      28843      31353         0      3600   \n",
       "20998      28847      28747      29177      29452      2000      2000   \n",
       "20999          0          0          0          0         0         0   \n",
       "\n",
       "       PAY_AMT3  PAY_AMT4  PAY_AMT5  PAY_AMT6  default_payment_next_month  \\\n",
       "0          3446      8870      2020     27043                           0   \n",
       "1          2240         0      2267      3074                           0   \n",
       "2          2000      3000      3000      1500                           0   \n",
       "3             0         0         0         0                           1   \n",
       "4          1500      1028       876      1449                           0   \n",
       "...         ...       ...       ...       ...                         ...   \n",
       "20995         0         0         0         0                           0   \n",
       "20996      2000      4000      2000      2000                           0   \n",
       "20997         0      6000      3000         0                           1   \n",
       "20998      2000      2000      2000      2000                           0   \n",
       "20999         0         0         0         0                           1   \n",
       "\n",
       "            PAY  \n",
       "0     -1.000000  \n",
       "1      0.000000  \n",
       "2      0.000000  \n",
       "3     -1.666667  \n",
       "4     -0.166667  \n",
       "...         ...  \n",
       "20995 -1.500000  \n",
       "20996  0.000000  \n",
       "20997  1.166667  \n",
       "20998  0.000000  \n",
       "20999 -1.500000  \n",
       "\n",
       "[21000 rows x 20 columns]"
      ]
     },
     "execution_count": 9,
     "metadata": {},
     "output_type": "execute_result"
    },
    {
     "name": "stdout",
     "output_type": "stream",
     "text": [
      "time: 26.1 ms (started: 2022-05-18 15:43:53 +05:30)\n"
     ]
    }
   ],
   "source": [
    "#Creating single colum of Repayment status(all months) by finding avg of the columns\n",
    "Train_data['PAY'] = Train_data.loc[:,['PAY_0', 'PAY_2', 'PAY_3', 'PAY_4', 'PAY_5', 'PAY_6']].mean(axis = 1)\n",
    "Train_data = Train_data.drop(['PAY_0', 'PAY_2', 'PAY_3', 'PAY_4', 'PAY_5', 'PAY_6'], axis = 1)\n",
    "Train_data"
   ]
  },
  {
   "cell_type": "code",
   "execution_count": 10,
   "id": "723a28fd",
   "metadata": {},
   "outputs": [
    {
     "data": {
      "text/html": [
       "<div>\n",
       "<style scoped>\n",
       "    .dataframe tbody tr th:only-of-type {\n",
       "        vertical-align: middle;\n",
       "    }\n",
       "\n",
       "    .dataframe tbody tr th {\n",
       "        vertical-align: top;\n",
       "    }\n",
       "\n",
       "    .dataframe thead th {\n",
       "        text-align: right;\n",
       "    }\n",
       "</style>\n",
       "<table border=\"1\" class=\"dataframe\">\n",
       "  <thead>\n",
       "    <tr style=\"text-align: right;\">\n",
       "      <th></th>\n",
       "      <th>ID</th>\n",
       "      <th>LIMIT_BAL</th>\n",
       "      <th>SEX</th>\n",
       "      <th>EDUCATION</th>\n",
       "      <th>MARRIAGE</th>\n",
       "      <th>AGE</th>\n",
       "      <th>BILL_AMT1</th>\n",
       "      <th>BILL_AMT2</th>\n",
       "      <th>BILL_AMT3</th>\n",
       "      <th>BILL_AMT4</th>\n",
       "      <th>BILL_AMT5</th>\n",
       "      <th>BILL_AMT6</th>\n",
       "      <th>PAY_AMT1</th>\n",
       "      <th>PAY_AMT2</th>\n",
       "      <th>PAY_AMT3</th>\n",
       "      <th>PAY_AMT4</th>\n",
       "      <th>PAY_AMT5</th>\n",
       "      <th>PAY_AMT6</th>\n",
       "      <th>PAY</th>\n",
       "    </tr>\n",
       "  </thead>\n",
       "  <tbody>\n",
       "    <tr>\n",
       "      <th>0</th>\n",
       "      <td>10178</td>\n",
       "      <td>60000</td>\n",
       "      <td>2</td>\n",
       "      <td>2</td>\n",
       "      <td>1</td>\n",
       "      <td>30</td>\n",
       "      <td>36082</td>\n",
       "      <td>37127</td>\n",
       "      <td>38117</td>\n",
       "      <td>38874</td>\n",
       "      <td>38667</td>\n",
       "      <td>39544</td>\n",
       "      <td>1628</td>\n",
       "      <td>1618</td>\n",
       "      <td>1375</td>\n",
       "      <td>1403</td>\n",
       "      <td>1520</td>\n",
       "      <td>1205</td>\n",
       "      <td>0.000000</td>\n",
       "    </tr>\n",
       "    <tr>\n",
       "      <th>1</th>\n",
       "      <td>5304</td>\n",
       "      <td>200000</td>\n",
       "      <td>2</td>\n",
       "      <td>1</td>\n",
       "      <td>2</td>\n",
       "      <td>29</td>\n",
       "      <td>61099</td>\n",
       "      <td>64160</td>\n",
       "      <td>76593</td>\n",
       "      <td>93988</td>\n",
       "      <td>50292</td>\n",
       "      <td>10510</td>\n",
       "      <td>4160</td>\n",
       "      <td>14593</td>\n",
       "      <td>20150</td>\n",
       "      <td>0</td>\n",
       "      <td>5739</td>\n",
       "      <td>12050</td>\n",
       "      <td>0.333333</td>\n",
       "    </tr>\n",
       "    <tr>\n",
       "      <th>2</th>\n",
       "      <td>5187</td>\n",
       "      <td>230000</td>\n",
       "      <td>1</td>\n",
       "      <td>1</td>\n",
       "      <td>2</td>\n",
       "      <td>39</td>\n",
       "      <td>38395</td>\n",
       "      <td>39943</td>\n",
       "      <td>20650</td>\n",
       "      <td>0</td>\n",
       "      <td>0</td>\n",
       "      <td>0</td>\n",
       "      <td>2500</td>\n",
       "      <td>2000</td>\n",
       "      <td>0</td>\n",
       "      <td>0</td>\n",
       "      <td>0</td>\n",
       "      <td>0</td>\n",
       "      <td>-0.666667</td>\n",
       "    </tr>\n",
       "    <tr>\n",
       "      <th>3</th>\n",
       "      <td>14495</td>\n",
       "      <td>150000</td>\n",
       "      <td>1</td>\n",
       "      <td>1</td>\n",
       "      <td>2</td>\n",
       "      <td>40</td>\n",
       "      <td>152175</td>\n",
       "      <td>148872</td>\n",
       "      <td>145978</td>\n",
       "      <td>139791</td>\n",
       "      <td>142745</td>\n",
       "      <td>146872</td>\n",
       "      <td>5800</td>\n",
       "      <td>5245</td>\n",
       "      <td>5200</td>\n",
       "      <td>5200</td>\n",
       "      <td>6500</td>\n",
       "      <td>7200</td>\n",
       "      <td>0.000000</td>\n",
       "    </tr>\n",
       "    <tr>\n",
       "      <th>4</th>\n",
       "      <td>20444</td>\n",
       "      <td>140000</td>\n",
       "      <td>1</td>\n",
       "      <td>2</td>\n",
       "      <td>2</td>\n",
       "      <td>27</td>\n",
       "      <td>80210</td>\n",
       "      <td>67746</td>\n",
       "      <td>76230</td>\n",
       "      <td>77954</td>\n",
       "      <td>78953</td>\n",
       "      <td>81848</td>\n",
       "      <td>10000</td>\n",
       "      <td>10000</td>\n",
       "      <td>3393</td>\n",
       "      <td>3260</td>\n",
       "      <td>5000</td>\n",
       "      <td>3000</td>\n",
       "      <td>0.000000</td>\n",
       "    </tr>\n",
       "    <tr>\n",
       "      <th>...</th>\n",
       "      <td>...</td>\n",
       "      <td>...</td>\n",
       "      <td>...</td>\n",
       "      <td>...</td>\n",
       "      <td>...</td>\n",
       "      <td>...</td>\n",
       "      <td>...</td>\n",
       "      <td>...</td>\n",
       "      <td>...</td>\n",
       "      <td>...</td>\n",
       "      <td>...</td>\n",
       "      <td>...</td>\n",
       "      <td>...</td>\n",
       "      <td>...</td>\n",
       "      <td>...</td>\n",
       "      <td>...</td>\n",
       "      <td>...</td>\n",
       "      <td>...</td>\n",
       "      <td>...</td>\n",
       "    </tr>\n",
       "    <tr>\n",
       "      <th>8995</th>\n",
       "      <td>16413</td>\n",
       "      <td>230000</td>\n",
       "      <td>2</td>\n",
       "      <td>2</td>\n",
       "      <td>1</td>\n",
       "      <td>42</td>\n",
       "      <td>3210</td>\n",
       "      <td>0</td>\n",
       "      <td>0</td>\n",
       "      <td>0</td>\n",
       "      <td>0</td>\n",
       "      <td>0</td>\n",
       "      <td>0</td>\n",
       "      <td>0</td>\n",
       "      <td>0</td>\n",
       "      <td>0</td>\n",
       "      <td>0</td>\n",
       "      <td>0</td>\n",
       "      <td>-1.666667</td>\n",
       "    </tr>\n",
       "    <tr>\n",
       "      <th>8996</th>\n",
       "      <td>17210</td>\n",
       "      <td>90000</td>\n",
       "      <td>2</td>\n",
       "      <td>1</td>\n",
       "      <td>2</td>\n",
       "      <td>28</td>\n",
       "      <td>2780</td>\n",
       "      <td>1950</td>\n",
       "      <td>7956</td>\n",
       "      <td>499</td>\n",
       "      <td>0</td>\n",
       "      <td>5990</td>\n",
       "      <td>1950</td>\n",
       "      <td>7956</td>\n",
       "      <td>499</td>\n",
       "      <td>0</td>\n",
       "      <td>5990</td>\n",
       "      <td>0</td>\n",
       "      <td>-1.000000</td>\n",
       "    </tr>\n",
       "    <tr>\n",
       "      <th>8997</th>\n",
       "      <td>24002</td>\n",
       "      <td>60000</td>\n",
       "      <td>1</td>\n",
       "      <td>2</td>\n",
       "      <td>2</td>\n",
       "      <td>26</td>\n",
       "      <td>58072</td>\n",
       "      <td>59040</td>\n",
       "      <td>57416</td>\n",
       "      <td>55736</td>\n",
       "      <td>26958</td>\n",
       "      <td>28847</td>\n",
       "      <td>2282</td>\n",
       "      <td>2324</td>\n",
       "      <td>2049</td>\n",
       "      <td>2000</td>\n",
       "      <td>3000</td>\n",
       "      <td>1120</td>\n",
       "      <td>0.000000</td>\n",
       "    </tr>\n",
       "    <tr>\n",
       "      <th>8998</th>\n",
       "      <td>17019</td>\n",
       "      <td>70000</td>\n",
       "      <td>2</td>\n",
       "      <td>2</td>\n",
       "      <td>2</td>\n",
       "      <td>23</td>\n",
       "      <td>44830</td>\n",
       "      <td>46185</td>\n",
       "      <td>47208</td>\n",
       "      <td>47241</td>\n",
       "      <td>48212</td>\n",
       "      <td>45849</td>\n",
       "      <td>2100</td>\n",
       "      <td>2079</td>\n",
       "      <td>2500</td>\n",
       "      <td>2000</td>\n",
       "      <td>2000</td>\n",
       "      <td>1700</td>\n",
       "      <td>0.000000</td>\n",
       "    </tr>\n",
       "    <tr>\n",
       "      <th>8999</th>\n",
       "      <td>23415</td>\n",
       "      <td>600000</td>\n",
       "      <td>2</td>\n",
       "      <td>2</td>\n",
       "      <td>1</td>\n",
       "      <td>38</td>\n",
       "      <td>51072</td>\n",
       "      <td>49889</td>\n",
       "      <td>39635</td>\n",
       "      <td>35130</td>\n",
       "      <td>33229</td>\n",
       "      <td>32171</td>\n",
       "      <td>0</td>\n",
       "      <td>4000</td>\n",
       "      <td>0</td>\n",
       "      <td>1500</td>\n",
       "      <td>2000</td>\n",
       "      <td>3000</td>\n",
       "      <td>1.166667</td>\n",
       "    </tr>\n",
       "  </tbody>\n",
       "</table>\n",
       "<p>9000 rows × 19 columns</p>\n",
       "</div>"
      ],
      "text/plain": [
       "         ID  LIMIT_BAL  SEX  EDUCATION  MARRIAGE  AGE  BILL_AMT1  BILL_AMT2  \\\n",
       "0     10178      60000    2          2         1   30      36082      37127   \n",
       "1      5304     200000    2          1         2   29      61099      64160   \n",
       "2      5187     230000    1          1         2   39      38395      39943   \n",
       "3     14495     150000    1          1         2   40     152175     148872   \n",
       "4     20444     140000    1          2         2   27      80210      67746   \n",
       "...     ...        ...  ...        ...       ...  ...        ...        ...   \n",
       "8995  16413     230000    2          2         1   42       3210          0   \n",
       "8996  17210      90000    2          1         2   28       2780       1950   \n",
       "8997  24002      60000    1          2         2   26      58072      59040   \n",
       "8998  17019      70000    2          2         2   23      44830      46185   \n",
       "8999  23415     600000    2          2         1   38      51072      49889   \n",
       "\n",
       "      BILL_AMT3  BILL_AMT4  BILL_AMT5  BILL_AMT6  PAY_AMT1  PAY_AMT2  \\\n",
       "0         38117      38874      38667      39544      1628      1618   \n",
       "1         76593      93988      50292      10510      4160     14593   \n",
       "2         20650          0          0          0      2500      2000   \n",
       "3        145978     139791     142745     146872      5800      5245   \n",
       "4         76230      77954      78953      81848     10000     10000   \n",
       "...         ...        ...        ...        ...       ...       ...   \n",
       "8995          0          0          0          0         0         0   \n",
       "8996       7956        499          0       5990      1950      7956   \n",
       "8997      57416      55736      26958      28847      2282      2324   \n",
       "8998      47208      47241      48212      45849      2100      2079   \n",
       "8999      39635      35130      33229      32171         0      4000   \n",
       "\n",
       "      PAY_AMT3  PAY_AMT4  PAY_AMT5  PAY_AMT6       PAY  \n",
       "0         1375      1403      1520      1205  0.000000  \n",
       "1        20150         0      5739     12050  0.333333  \n",
       "2            0         0         0         0 -0.666667  \n",
       "3         5200      5200      6500      7200  0.000000  \n",
       "4         3393      3260      5000      3000  0.000000  \n",
       "...        ...       ...       ...       ...       ...  \n",
       "8995         0         0         0         0 -1.666667  \n",
       "8996       499         0      5990         0 -1.000000  \n",
       "8997      2049      2000      3000      1120  0.000000  \n",
       "8998      2500      2000      2000      1700  0.000000  \n",
       "8999         0      1500      2000      3000  1.166667  \n",
       "\n",
       "[9000 rows x 19 columns]"
      ]
     },
     "execution_count": 10,
     "metadata": {},
     "output_type": "execute_result"
    },
    {
     "name": "stdout",
     "output_type": "stream",
     "text": [
      "time: 24 ms (started: 2022-05-18 15:43:53 +05:30)\n"
     ]
    }
   ],
   "source": [
    "#Creating single colum of Repayment status(all months) by finding avg of the columns\n",
    "Test_data['PAY'] = Test_data.loc[:,['PAY_0', 'PAY_2', 'PAY_3', 'PAY_4', 'PAY_5', 'PAY_6']].mean(axis = 1)\n",
    "Test_data = Test_data.drop(['PAY_0', 'PAY_2', 'PAY_3', 'PAY_4', 'PAY_5', 'PAY_6'], axis = 1)\n",
    "Test_data"
   ]
  },
  {
   "cell_type": "code",
   "execution_count": 11,
   "id": "a316216a",
   "metadata": {},
   "outputs": [
    {
     "data": {
      "text/html": [
       "<div>\n",
       "<style scoped>\n",
       "    .dataframe tbody tr th:only-of-type {\n",
       "        vertical-align: middle;\n",
       "    }\n",
       "\n",
       "    .dataframe tbody tr th {\n",
       "        vertical-align: top;\n",
       "    }\n",
       "\n",
       "    .dataframe thead th {\n",
       "        text-align: right;\n",
       "    }\n",
       "</style>\n",
       "<table border=\"1\" class=\"dataframe\">\n",
       "  <thead>\n",
       "    <tr style=\"text-align: right;\">\n",
       "      <th></th>\n",
       "      <th>ID</th>\n",
       "      <th>LIMIT_BAL</th>\n",
       "      <th>SEX</th>\n",
       "      <th>EDUCATION</th>\n",
       "      <th>MARRIAGE</th>\n",
       "      <th>AGE</th>\n",
       "      <th>PAY_AMT1</th>\n",
       "      <th>PAY_AMT2</th>\n",
       "      <th>PAY_AMT3</th>\n",
       "      <th>PAY_AMT4</th>\n",
       "      <th>PAY_AMT5</th>\n",
       "      <th>PAY_AMT6</th>\n",
       "      <th>PAY</th>\n",
       "      <th>BILL_AMT</th>\n",
       "    </tr>\n",
       "  </thead>\n",
       "  <tbody>\n",
       "    <tr>\n",
       "      <th>0</th>\n",
       "      <td>10178</td>\n",
       "      <td>60000</td>\n",
       "      <td>2</td>\n",
       "      <td>2</td>\n",
       "      <td>1</td>\n",
       "      <td>30</td>\n",
       "      <td>1628</td>\n",
       "      <td>1618</td>\n",
       "      <td>1375</td>\n",
       "      <td>1403</td>\n",
       "      <td>1520</td>\n",
       "      <td>1205</td>\n",
       "      <td>0.000000</td>\n",
       "      <td>38068.500000</td>\n",
       "    </tr>\n",
       "    <tr>\n",
       "      <th>1</th>\n",
       "      <td>5304</td>\n",
       "      <td>200000</td>\n",
       "      <td>2</td>\n",
       "      <td>1</td>\n",
       "      <td>2</td>\n",
       "      <td>29</td>\n",
       "      <td>4160</td>\n",
       "      <td>14593</td>\n",
       "      <td>20150</td>\n",
       "      <td>0</td>\n",
       "      <td>5739</td>\n",
       "      <td>12050</td>\n",
       "      <td>0.333333</td>\n",
       "      <td>59440.333333</td>\n",
       "    </tr>\n",
       "    <tr>\n",
       "      <th>2</th>\n",
       "      <td>5187</td>\n",
       "      <td>230000</td>\n",
       "      <td>1</td>\n",
       "      <td>1</td>\n",
       "      <td>2</td>\n",
       "      <td>39</td>\n",
       "      <td>2500</td>\n",
       "      <td>2000</td>\n",
       "      <td>0</td>\n",
       "      <td>0</td>\n",
       "      <td>0</td>\n",
       "      <td>0</td>\n",
       "      <td>-0.666667</td>\n",
       "      <td>16498.000000</td>\n",
       "    </tr>\n",
       "    <tr>\n",
       "      <th>3</th>\n",
       "      <td>14495</td>\n",
       "      <td>150000</td>\n",
       "      <td>1</td>\n",
       "      <td>1</td>\n",
       "      <td>2</td>\n",
       "      <td>40</td>\n",
       "      <td>5800</td>\n",
       "      <td>5245</td>\n",
       "      <td>5200</td>\n",
       "      <td>5200</td>\n",
       "      <td>6500</td>\n",
       "      <td>7200</td>\n",
       "      <td>0.000000</td>\n",
       "      <td>146072.166667</td>\n",
       "    </tr>\n",
       "    <tr>\n",
       "      <th>4</th>\n",
       "      <td>20444</td>\n",
       "      <td>140000</td>\n",
       "      <td>1</td>\n",
       "      <td>2</td>\n",
       "      <td>2</td>\n",
       "      <td>27</td>\n",
       "      <td>10000</td>\n",
       "      <td>10000</td>\n",
       "      <td>3393</td>\n",
       "      <td>3260</td>\n",
       "      <td>5000</td>\n",
       "      <td>3000</td>\n",
       "      <td>0.000000</td>\n",
       "      <td>77156.833333</td>\n",
       "    </tr>\n",
       "    <tr>\n",
       "      <th>...</th>\n",
       "      <td>...</td>\n",
       "      <td>...</td>\n",
       "      <td>...</td>\n",
       "      <td>...</td>\n",
       "      <td>...</td>\n",
       "      <td>...</td>\n",
       "      <td>...</td>\n",
       "      <td>...</td>\n",
       "      <td>...</td>\n",
       "      <td>...</td>\n",
       "      <td>...</td>\n",
       "      <td>...</td>\n",
       "      <td>...</td>\n",
       "      <td>...</td>\n",
       "    </tr>\n",
       "    <tr>\n",
       "      <th>8995</th>\n",
       "      <td>16413</td>\n",
       "      <td>230000</td>\n",
       "      <td>2</td>\n",
       "      <td>2</td>\n",
       "      <td>1</td>\n",
       "      <td>42</td>\n",
       "      <td>0</td>\n",
       "      <td>0</td>\n",
       "      <td>0</td>\n",
       "      <td>0</td>\n",
       "      <td>0</td>\n",
       "      <td>0</td>\n",
       "      <td>-1.666667</td>\n",
       "      <td>535.000000</td>\n",
       "    </tr>\n",
       "    <tr>\n",
       "      <th>8996</th>\n",
       "      <td>17210</td>\n",
       "      <td>90000</td>\n",
       "      <td>2</td>\n",
       "      <td>1</td>\n",
       "      <td>2</td>\n",
       "      <td>28</td>\n",
       "      <td>1950</td>\n",
       "      <td>7956</td>\n",
       "      <td>499</td>\n",
       "      <td>0</td>\n",
       "      <td>5990</td>\n",
       "      <td>0</td>\n",
       "      <td>-1.000000</td>\n",
       "      <td>3195.833333</td>\n",
       "    </tr>\n",
       "    <tr>\n",
       "      <th>8997</th>\n",
       "      <td>24002</td>\n",
       "      <td>60000</td>\n",
       "      <td>1</td>\n",
       "      <td>2</td>\n",
       "      <td>2</td>\n",
       "      <td>26</td>\n",
       "      <td>2282</td>\n",
       "      <td>2324</td>\n",
       "      <td>2049</td>\n",
       "      <td>2000</td>\n",
       "      <td>3000</td>\n",
       "      <td>1120</td>\n",
       "      <td>0.000000</td>\n",
       "      <td>47678.166667</td>\n",
       "    </tr>\n",
       "    <tr>\n",
       "      <th>8998</th>\n",
       "      <td>17019</td>\n",
       "      <td>70000</td>\n",
       "      <td>2</td>\n",
       "      <td>2</td>\n",
       "      <td>2</td>\n",
       "      <td>23</td>\n",
       "      <td>2100</td>\n",
       "      <td>2079</td>\n",
       "      <td>2500</td>\n",
       "      <td>2000</td>\n",
       "      <td>2000</td>\n",
       "      <td>1700</td>\n",
       "      <td>0.000000</td>\n",
       "      <td>46587.500000</td>\n",
       "    </tr>\n",
       "    <tr>\n",
       "      <th>8999</th>\n",
       "      <td>23415</td>\n",
       "      <td>600000</td>\n",
       "      <td>2</td>\n",
       "      <td>2</td>\n",
       "      <td>1</td>\n",
       "      <td>38</td>\n",
       "      <td>0</td>\n",
       "      <td>4000</td>\n",
       "      <td>0</td>\n",
       "      <td>1500</td>\n",
       "      <td>2000</td>\n",
       "      <td>3000</td>\n",
       "      <td>1.166667</td>\n",
       "      <td>40187.666667</td>\n",
       "    </tr>\n",
       "  </tbody>\n",
       "</table>\n",
       "<p>9000 rows × 14 columns</p>\n",
       "</div>"
      ],
      "text/plain": [
       "         ID  LIMIT_BAL  SEX  EDUCATION  MARRIAGE  AGE  PAY_AMT1  PAY_AMT2  \\\n",
       "0     10178      60000    2          2         1   30      1628      1618   \n",
       "1      5304     200000    2          1         2   29      4160     14593   \n",
       "2      5187     230000    1          1         2   39      2500      2000   \n",
       "3     14495     150000    1          1         2   40      5800      5245   \n",
       "4     20444     140000    1          2         2   27     10000     10000   \n",
       "...     ...        ...  ...        ...       ...  ...       ...       ...   \n",
       "8995  16413     230000    2          2         1   42         0         0   \n",
       "8996  17210      90000    2          1         2   28      1950      7956   \n",
       "8997  24002      60000    1          2         2   26      2282      2324   \n",
       "8998  17019      70000    2          2         2   23      2100      2079   \n",
       "8999  23415     600000    2          2         1   38         0      4000   \n",
       "\n",
       "      PAY_AMT3  PAY_AMT4  PAY_AMT5  PAY_AMT6       PAY       BILL_AMT  \n",
       "0         1375      1403      1520      1205  0.000000   38068.500000  \n",
       "1        20150         0      5739     12050  0.333333   59440.333333  \n",
       "2            0         0         0         0 -0.666667   16498.000000  \n",
       "3         5200      5200      6500      7200  0.000000  146072.166667  \n",
       "4         3393      3260      5000      3000  0.000000   77156.833333  \n",
       "...        ...       ...       ...       ...       ...            ...  \n",
       "8995         0         0         0         0 -1.666667     535.000000  \n",
       "8996       499         0      5990         0 -1.000000    3195.833333  \n",
       "8997      2049      2000      3000      1120  0.000000   47678.166667  \n",
       "8998      2500      2000      2000      1700  0.000000   46587.500000  \n",
       "8999         0      1500      2000      3000  1.166667   40187.666667  \n",
       "\n",
       "[9000 rows x 14 columns]"
      ]
     },
     "execution_count": 11,
     "metadata": {},
     "output_type": "execute_result"
    },
    {
     "name": "stdout",
     "output_type": "stream",
     "text": [
      "time: 24.6 ms (started: 2022-05-18 15:43:53 +05:30)\n"
     ]
    }
   ],
   "source": [
    "#Creating single colum of Amount of bill statement(all months) by finding avg of the columns\n",
    "Test_data['BILL_AMT'] = Test_data.loc[:,['BILL_AMT1', 'BILL_AMT2', 'BILL_AMT3', 'BILL_AMT4', 'BILL_AMT5', 'BILL_AMT6']].mean(axis = 1)\n",
    "Test_data = Test_data.drop(['BILL_AMT1', 'BILL_AMT2', 'BILL_AMT3', 'BILL_AMT4', 'BILL_AMT5', 'BILL_AMT6'], axis = 1)\n",
    "Test_data"
   ]
  },
  {
   "cell_type": "code",
   "execution_count": 12,
   "id": "7f3ef721",
   "metadata": {},
   "outputs": [
    {
     "data": {
      "text/html": [
       "<div>\n",
       "<style scoped>\n",
       "    .dataframe tbody tr th:only-of-type {\n",
       "        vertical-align: middle;\n",
       "    }\n",
       "\n",
       "    .dataframe tbody tr th {\n",
       "        vertical-align: top;\n",
       "    }\n",
       "\n",
       "    .dataframe thead th {\n",
       "        text-align: right;\n",
       "    }\n",
       "</style>\n",
       "<table border=\"1\" class=\"dataframe\">\n",
       "  <thead>\n",
       "    <tr style=\"text-align: right;\">\n",
       "      <th></th>\n",
       "      <th>ID</th>\n",
       "      <th>LIMIT_BAL</th>\n",
       "      <th>SEX</th>\n",
       "      <th>EDUCATION</th>\n",
       "      <th>MARRIAGE</th>\n",
       "      <th>AGE</th>\n",
       "      <th>PAY_AMT1</th>\n",
       "      <th>PAY_AMT2</th>\n",
       "      <th>PAY_AMT3</th>\n",
       "      <th>PAY_AMT4</th>\n",
       "      <th>PAY_AMT5</th>\n",
       "      <th>PAY_AMT6</th>\n",
       "      <th>default_payment_next_month</th>\n",
       "      <th>PAY</th>\n",
       "      <th>BILL_AMT</th>\n",
       "    </tr>\n",
       "  </thead>\n",
       "  <tbody>\n",
       "    <tr>\n",
       "      <th>0</th>\n",
       "      <td>25150</td>\n",
       "      <td>360000</td>\n",
       "      <td>2</td>\n",
       "      <td>2</td>\n",
       "      <td>2</td>\n",
       "      <td>25</td>\n",
       "      <td>12590</td>\n",
       "      <td>3479</td>\n",
       "      <td>3446</td>\n",
       "      <td>8870</td>\n",
       "      <td>2020</td>\n",
       "      <td>27043</td>\n",
       "      <td>0</td>\n",
       "      <td>-1.000000</td>\n",
       "      <td>8557.666667</td>\n",
       "    </tr>\n",
       "    <tr>\n",
       "      <th>1</th>\n",
       "      <td>13470</td>\n",
       "      <td>240000</td>\n",
       "      <td>2</td>\n",
       "      <td>1</td>\n",
       "      <td>2</td>\n",
       "      <td>46</td>\n",
       "      <td>0</td>\n",
       "      <td>0</td>\n",
       "      <td>2240</td>\n",
       "      <td>0</td>\n",
       "      <td>2267</td>\n",
       "      <td>3074</td>\n",
       "      <td>0</td>\n",
       "      <td>0.000000</td>\n",
       "      <td>1107.333333</td>\n",
       "    </tr>\n",
       "    <tr>\n",
       "      <th>2</th>\n",
       "      <td>3092</td>\n",
       "      <td>320000</td>\n",
       "      <td>2</td>\n",
       "      <td>2</td>\n",
       "      <td>1</td>\n",
       "      <td>41</td>\n",
       "      <td>5000</td>\n",
       "      <td>2000</td>\n",
       "      <td>2000</td>\n",
       "      <td>3000</td>\n",
       "      <td>3000</td>\n",
       "      <td>1500</td>\n",
       "      <td>0</td>\n",
       "      <td>0.000000</td>\n",
       "      <td>41459.666667</td>\n",
       "    </tr>\n",
       "    <tr>\n",
       "      <th>3</th>\n",
       "      <td>13973</td>\n",
       "      <td>50000</td>\n",
       "      <td>2</td>\n",
       "      <td>2</td>\n",
       "      <td>2</td>\n",
       "      <td>24</td>\n",
       "      <td>0</td>\n",
       "      <td>0</td>\n",
       "      <td>0</td>\n",
       "      <td>0</td>\n",
       "      <td>0</td>\n",
       "      <td>0</td>\n",
       "      <td>1</td>\n",
       "      <td>-1.666667</td>\n",
       "      <td>445.833333</td>\n",
       "    </tr>\n",
       "    <tr>\n",
       "      <th>4</th>\n",
       "      <td>10567</td>\n",
       "      <td>80000</td>\n",
       "      <td>1</td>\n",
       "      <td>3</td>\n",
       "      <td>1</td>\n",
       "      <td>52</td>\n",
       "      <td>1500</td>\n",
       "      <td>1500</td>\n",
       "      <td>1500</td>\n",
       "      <td>1028</td>\n",
       "      <td>876</td>\n",
       "      <td>1449</td>\n",
       "      <td>0</td>\n",
       "      <td>-0.166667</td>\n",
       "      <td>22841.000000</td>\n",
       "    </tr>\n",
       "    <tr>\n",
       "      <th>...</th>\n",
       "      <td>...</td>\n",
       "      <td>...</td>\n",
       "      <td>...</td>\n",
       "      <td>...</td>\n",
       "      <td>...</td>\n",
       "      <td>...</td>\n",
       "      <td>...</td>\n",
       "      <td>...</td>\n",
       "      <td>...</td>\n",
       "      <td>...</td>\n",
       "      <td>...</td>\n",
       "      <td>...</td>\n",
       "      <td>...</td>\n",
       "      <td>...</td>\n",
       "      <td>...</td>\n",
       "    </tr>\n",
       "    <tr>\n",
       "      <th>20995</th>\n",
       "      <td>6283</td>\n",
       "      <td>50000</td>\n",
       "      <td>2</td>\n",
       "      <td>2</td>\n",
       "      <td>2</td>\n",
       "      <td>31</td>\n",
       "      <td>0</td>\n",
       "      <td>0</td>\n",
       "      <td>0</td>\n",
       "      <td>0</td>\n",
       "      <td>0</td>\n",
       "      <td>0</td>\n",
       "      <td>0</td>\n",
       "      <td>-1.500000</td>\n",
       "      <td>0.000000</td>\n",
       "    </tr>\n",
       "    <tr>\n",
       "      <th>20996</th>\n",
       "      <td>25589</td>\n",
       "      <td>80000</td>\n",
       "      <td>2</td>\n",
       "      <td>2</td>\n",
       "      <td>1</td>\n",
       "      <td>37</td>\n",
       "      <td>5000</td>\n",
       "      <td>3000</td>\n",
       "      <td>2000</td>\n",
       "      <td>4000</td>\n",
       "      <td>2000</td>\n",
       "      <td>2000</td>\n",
       "      <td>0</td>\n",
       "      <td>0.000000</td>\n",
       "      <td>55198.500000</td>\n",
       "    </tr>\n",
       "    <tr>\n",
       "      <th>20997</th>\n",
       "      <td>4378</td>\n",
       "      <td>100000</td>\n",
       "      <td>1</td>\n",
       "      <td>1</td>\n",
       "      <td>1</td>\n",
       "      <td>52</td>\n",
       "      <td>0</td>\n",
       "      <td>3600</td>\n",
       "      <td>0</td>\n",
       "      <td>6000</td>\n",
       "      <td>3000</td>\n",
       "      <td>0</td>\n",
       "      <td>1</td>\n",
       "      <td>1.166667</td>\n",
       "      <td>25024.000000</td>\n",
       "    </tr>\n",
       "    <tr>\n",
       "      <th>20998</th>\n",
       "      <td>8604</td>\n",
       "      <td>90000</td>\n",
       "      <td>2</td>\n",
       "      <td>2</td>\n",
       "      <td>1</td>\n",
       "      <td>47</td>\n",
       "      <td>2000</td>\n",
       "      <td>2000</td>\n",
       "      <td>2000</td>\n",
       "      <td>2000</td>\n",
       "      <td>2000</td>\n",
       "      <td>2000</td>\n",
       "      <td>0</td>\n",
       "      <td>0.000000</td>\n",
       "      <td>28903.000000</td>\n",
       "    </tr>\n",
       "    <tr>\n",
       "      <th>20999</th>\n",
       "      <td>18049</td>\n",
       "      <td>90000</td>\n",
       "      <td>1</td>\n",
       "      <td>3</td>\n",
       "      <td>1</td>\n",
       "      <td>44</td>\n",
       "      <td>0</td>\n",
       "      <td>0</td>\n",
       "      <td>0</td>\n",
       "      <td>0</td>\n",
       "      <td>0</td>\n",
       "      <td>0</td>\n",
       "      <td>1</td>\n",
       "      <td>-1.500000</td>\n",
       "      <td>0.000000</td>\n",
       "    </tr>\n",
       "  </tbody>\n",
       "</table>\n",
       "<p>21000 rows × 15 columns</p>\n",
       "</div>"
      ],
      "text/plain": [
       "          ID  LIMIT_BAL  SEX  EDUCATION  MARRIAGE  AGE  PAY_AMT1  PAY_AMT2  \\\n",
       "0      25150     360000    2          2         2   25     12590      3479   \n",
       "1      13470     240000    2          1         2   46         0         0   \n",
       "2       3092     320000    2          2         1   41      5000      2000   \n",
       "3      13973      50000    2          2         2   24         0         0   \n",
       "4      10567      80000    1          3         1   52      1500      1500   \n",
       "...      ...        ...  ...        ...       ...  ...       ...       ...   \n",
       "20995   6283      50000    2          2         2   31         0         0   \n",
       "20996  25589      80000    2          2         1   37      5000      3000   \n",
       "20997   4378     100000    1          1         1   52         0      3600   \n",
       "20998   8604      90000    2          2         1   47      2000      2000   \n",
       "20999  18049      90000    1          3         1   44         0         0   \n",
       "\n",
       "       PAY_AMT3  PAY_AMT4  PAY_AMT5  PAY_AMT6  default_payment_next_month  \\\n",
       "0          3446      8870      2020     27043                           0   \n",
       "1          2240         0      2267      3074                           0   \n",
       "2          2000      3000      3000      1500                           0   \n",
       "3             0         0         0         0                           1   \n",
       "4          1500      1028       876      1449                           0   \n",
       "...         ...       ...       ...       ...                         ...   \n",
       "20995         0         0         0         0                           0   \n",
       "20996      2000      4000      2000      2000                           0   \n",
       "20997         0      6000      3000         0                           1   \n",
       "20998      2000      2000      2000      2000                           0   \n",
       "20999         0         0         0         0                           1   \n",
       "\n",
       "            PAY      BILL_AMT  \n",
       "0     -1.000000   8557.666667  \n",
       "1      0.000000   1107.333333  \n",
       "2      0.000000  41459.666667  \n",
       "3     -1.666667    445.833333  \n",
       "4     -0.166667  22841.000000  \n",
       "...         ...           ...  \n",
       "20995 -1.500000      0.000000  \n",
       "20996  0.000000  55198.500000  \n",
       "20997  1.166667  25024.000000  \n",
       "20998  0.000000  28903.000000  \n",
       "20999 -1.500000      0.000000  \n",
       "\n",
       "[21000 rows x 15 columns]"
      ]
     },
     "execution_count": 12,
     "metadata": {},
     "output_type": "execute_result"
    },
    {
     "name": "stdout",
     "output_type": "stream",
     "text": [
      "time: 29.1 ms (started: 2022-05-18 15:43:54 +05:30)\n"
     ]
    }
   ],
   "source": [
    "#Creating single colum of Amount of bill statement(all months) by finding avg of the columns\n",
    "Train_data['BILL_AMT'] = Train_data.loc[:,['BILL_AMT1', 'BILL_AMT2', 'BILL_AMT3', 'BILL_AMT4', 'BILL_AMT5', 'BILL_AMT6']].mean(axis = 1)\n",
    "Train_data = Train_data.drop(['BILL_AMT1', 'BILL_AMT2', 'BILL_AMT3', 'BILL_AMT4', 'BILL_AMT5', 'BILL_AMT6'], axis = 1)\n",
    "Train_data"
   ]
  },
  {
   "cell_type": "code",
   "execution_count": 13,
   "id": "fc9749cc",
   "metadata": {},
   "outputs": [
    {
     "name": "stdout",
     "output_type": "stream",
     "text": [
      "time: 2.09 ms (started: 2022-05-18 15:43:54 +05:30)\n"
     ]
    }
   ],
   "source": [
    "#changing the order of columns\n",
    "cols = Train_data.columns.tolist()\n",
    "cols = cols[-2:] + cols[:-2]\n",
    "Train_data = Train_data[cols]"
   ]
  },
  {
   "cell_type": "code",
   "execution_count": 14,
   "id": "4a7a6b81",
   "metadata": {},
   "outputs": [
    {
     "name": "stdout",
     "output_type": "stream",
     "text": [
      "time: 3.97 ms (started: 2022-05-18 15:43:54 +05:30)\n"
     ]
    }
   ],
   "source": [
    "#changing the order of columns\n",
    "cols = Test_data.columns.tolist()\n",
    "cols = cols[-2:] + cols[:-2]\n",
    "Test_data = Test_data[cols]"
   ]
  },
  {
   "cell_type": "markdown",
   "id": "d178d1b5",
   "metadata": {},
   "source": [
    "### Pay and Default payment are highly corelated"
   ]
  },
  {
   "cell_type": "code",
   "execution_count": 15,
   "id": "c44f2223",
   "metadata": {},
   "outputs": [
    {
     "data": {
      "image/png": "[encoded data removed]",
      "text/plain": [
       "<Figure size 576x504 with 2 Axes>"
      ]
     },
     "metadata": {
      "needs_background": "light"
     },
     "output_type": "display_data"
    },
    {
     "name": "stdout",
     "output_type": "stream",
     "text": [
      "time: 321 ms (started: 2022-05-18 15:43:55 +05:30)\n"
     ]
    }
   ],
   "source": [
    "#Correlations matrix after merging columns\n",
    "corr = Train_data.corr() \n",
    "f,ax = plt.subplots(figsize=(8, 7))\n",
    "sns.heatmap(corr, cbar = True,  square = True, annot = False, \n",
    "            xticklabels= True, yticklabels= True\n",
    "            ,cmap=\"coolwarm\", linewidths=.5, ax=ax)\n",
    "plt.title('CORRELATION MATRIX - HEATMAP', size=18);"
   ]
  },
  {
   "cell_type": "code",
   "execution_count": 16,
   "id": "db8f3fd5",
   "metadata": {},
   "outputs": [
    {
     "data": {
      "text/html": [
       "<div>\n",
       "<style scoped>\n",
       "    .dataframe tbody tr th:only-of-type {\n",
       "        vertical-align: middle;\n",
       "    }\n",
       "\n",
       "    .dataframe tbody tr th {\n",
       "        vertical-align: top;\n",
       "    }\n",
       "\n",
       "    .dataframe thead th {\n",
       "        text-align: right;\n",
       "    }\n",
       "</style>\n",
       "<table border=\"1\" class=\"dataframe\">\n",
       "  <thead>\n",
       "    <tr style=\"text-align: right;\">\n",
       "      <th></th>\n",
       "      <th>MARRIAGE_0</th>\n",
       "      <th>MARRIAGE_1</th>\n",
       "      <th>MARRIAGE_2</th>\n",
       "      <th>MARRIAGE_3</th>\n",
       "      <th>PAY</th>\n",
       "      <th>BILL_AMT</th>\n",
       "      <th>ID</th>\n",
       "      <th>LIMIT_BAL</th>\n",
       "      <th>SEX</th>\n",
       "      <th>EDUCATION</th>\n",
       "      <th>AGE</th>\n",
       "      <th>PAY_AMT1</th>\n",
       "      <th>PAY_AMT2</th>\n",
       "      <th>PAY_AMT3</th>\n",
       "      <th>PAY_AMT4</th>\n",
       "      <th>PAY_AMT5</th>\n",
       "      <th>PAY_AMT6</th>\n",
       "      <th>default_payment_next_month</th>\n",
       "    </tr>\n",
       "  </thead>\n",
       "  <tbody>\n",
       "    <tr>\n",
       "      <th>0</th>\n",
       "      <td>0</td>\n",
       "      <td>0</td>\n",
       "      <td>1</td>\n",
       "      <td>0</td>\n",
       "      <td>-1.000000</td>\n",
       "      <td>8557.666667</td>\n",
       "      <td>25150</td>\n",
       "      <td>360000</td>\n",
       "      <td>2</td>\n",
       "      <td>2</td>\n",
       "      <td>25</td>\n",
       "      <td>12590</td>\n",
       "      <td>3479</td>\n",
       "      <td>3446</td>\n",
       "      <td>8870</td>\n",
       "      <td>2020</td>\n",
       "      <td>27043</td>\n",
       "      <td>0</td>\n",
       "    </tr>\n",
       "    <tr>\n",
       "      <th>1</th>\n",
       "      <td>0</td>\n",
       "      <td>0</td>\n",
       "      <td>1</td>\n",
       "      <td>0</td>\n",
       "      <td>0.000000</td>\n",
       "      <td>1107.333333</td>\n",
       "      <td>13470</td>\n",
       "      <td>240000</td>\n",
       "      <td>2</td>\n",
       "      <td>1</td>\n",
       "      <td>46</td>\n",
       "      <td>0</td>\n",
       "      <td>0</td>\n",
       "      <td>2240</td>\n",
       "      <td>0</td>\n",
       "      <td>2267</td>\n",
       "      <td>3074</td>\n",
       "      <td>0</td>\n",
       "    </tr>\n",
       "    <tr>\n",
       "      <th>2</th>\n",
       "      <td>0</td>\n",
       "      <td>1</td>\n",
       "      <td>0</td>\n",
       "      <td>0</td>\n",
       "      <td>0.000000</td>\n",
       "      <td>41459.666667</td>\n",
       "      <td>3092</td>\n",
       "      <td>320000</td>\n",
       "      <td>2</td>\n",
       "      <td>2</td>\n",
       "      <td>41</td>\n",
       "      <td>5000</td>\n",
       "      <td>2000</td>\n",
       "      <td>2000</td>\n",
       "      <td>3000</td>\n",
       "      <td>3000</td>\n",
       "      <td>1500</td>\n",
       "      <td>0</td>\n",
       "    </tr>\n",
       "    <tr>\n",
       "      <th>3</th>\n",
       "      <td>0</td>\n",
       "      <td>0</td>\n",
       "      <td>1</td>\n",
       "      <td>0</td>\n",
       "      <td>-1.666667</td>\n",
       "      <td>445.833333</td>\n",
       "      <td>13973</td>\n",
       "      <td>50000</td>\n",
       "      <td>2</td>\n",
       "      <td>2</td>\n",
       "      <td>24</td>\n",
       "      <td>0</td>\n",
       "      <td>0</td>\n",
       "      <td>0</td>\n",
       "      <td>0</td>\n",
       "      <td>0</td>\n",
       "      <td>0</td>\n",
       "      <td>1</td>\n",
       "    </tr>\n",
       "    <tr>\n",
       "      <th>4</th>\n",
       "      <td>0</td>\n",
       "      <td>1</td>\n",
       "      <td>0</td>\n",
       "      <td>0</td>\n",
       "      <td>-0.166667</td>\n",
       "      <td>22841.000000</td>\n",
       "      <td>10567</td>\n",
       "      <td>80000</td>\n",
       "      <td>1</td>\n",
       "      <td>3</td>\n",
       "      <td>52</td>\n",
       "      <td>1500</td>\n",
       "      <td>1500</td>\n",
       "      <td>1500</td>\n",
       "      <td>1028</td>\n",
       "      <td>876</td>\n",
       "      <td>1449</td>\n",
       "      <td>0</td>\n",
       "    </tr>\n",
       "  </tbody>\n",
       "</table>\n",
       "</div>"
      ],
      "text/plain": [
       "   MARRIAGE_0  MARRIAGE_1  MARRIAGE_2  MARRIAGE_3       PAY      BILL_AMT  \\\n",
       "0           0           0           1           0 -1.000000   8557.666667   \n",
       "1           0           0           1           0  0.000000   1107.333333   \n",
       "2           0           1           0           0  0.000000  41459.666667   \n",
       "3           0           0           1           0 -1.666667    445.833333   \n",
       "4           0           1           0           0 -0.166667  22841.000000   \n",
       "\n",
       "      ID  LIMIT_BAL  SEX  EDUCATION  AGE  PAY_AMT1  PAY_AMT2  PAY_AMT3  \\\n",
       "0  25150     360000    2          2   25     12590      3479      3446   \n",
       "1  13470     240000    2          1   46         0         0      2240   \n",
       "2   3092     320000    2          2   41      5000      2000      2000   \n",
       "3  13973      50000    2          2   24         0         0         0   \n",
       "4  10567      80000    1          3   52      1500      1500      1500   \n",
       "\n",
       "   PAY_AMT4  PAY_AMT5  PAY_AMT6  default_payment_next_month  \n",
       "0      8870      2020     27043                           0  \n",
       "1         0      2267      3074                           0  \n",
       "2      3000      3000      1500                           0  \n",
       "3         0         0         0                           1  \n",
       "4      1028       876      1449                           0  "
      ]
     },
     "execution_count": 16,
     "metadata": {},
     "output_type": "execute_result"
    },
    {
     "name": "stdout",
     "output_type": "stream",
     "text": [
      "time: 21.3 ms (started: 2022-05-18 15:43:55 +05:30)\n"
     ]
    }
   ],
   "source": [
    "# Set 'category' type to categorical attributes\n",
    "categorical = Train_data[[ 'MARRIAGE']]\n",
    "\n",
    "# one-hot encoding\n",
    "Train_data=pd.concat([\n",
    "                pd.get_dummies(Train_data['MARRIAGE'], prefix='MARRIAGE'),\n",
    "                Train_data],axis=1)\n",
    "# drop original columns\n",
    "Train_data.drop(['MARRIAGE'],axis=1, inplace=True)\n",
    "# print samples\n",
    "Train_data.head()"
   ]
  },
  {
   "cell_type": "code",
   "execution_count": 17,
   "id": "d40dd8f2",
   "metadata": {},
   "outputs": [
    {
     "data": {
      "text/html": [
       "<div>\n",
       "<style scoped>\n",
       "    .dataframe tbody tr th:only-of-type {\n",
       "        vertical-align: middle;\n",
       "    }\n",
       "\n",
       "    .dataframe tbody tr th {\n",
       "        vertical-align: top;\n",
       "    }\n",
       "\n",
       "    .dataframe thead th {\n",
       "        text-align: right;\n",
       "    }\n",
       "</style>\n",
       "<table border=\"1\" class=\"dataframe\">\n",
       "  <thead>\n",
       "    <tr style=\"text-align: right;\">\n",
       "      <th></th>\n",
       "      <th>MARRIAGE_0</th>\n",
       "      <th>MARRIAGE_1</th>\n",
       "      <th>MARRIAGE_2</th>\n",
       "      <th>MARRIAGE_3</th>\n",
       "      <th>PAY</th>\n",
       "      <th>BILL_AMT</th>\n",
       "      <th>ID</th>\n",
       "      <th>LIMIT_BAL</th>\n",
       "      <th>SEX</th>\n",
       "      <th>EDUCATION</th>\n",
       "      <th>AGE</th>\n",
       "      <th>PAY_AMT1</th>\n",
       "      <th>PAY_AMT2</th>\n",
       "      <th>PAY_AMT3</th>\n",
       "      <th>PAY_AMT4</th>\n",
       "      <th>PAY_AMT5</th>\n",
       "      <th>PAY_AMT6</th>\n",
       "    </tr>\n",
       "  </thead>\n",
       "  <tbody>\n",
       "    <tr>\n",
       "      <th>0</th>\n",
       "      <td>0</td>\n",
       "      <td>1</td>\n",
       "      <td>0</td>\n",
       "      <td>0</td>\n",
       "      <td>0.000000</td>\n",
       "      <td>38068.500000</td>\n",
       "      <td>10178</td>\n",
       "      <td>60000</td>\n",
       "      <td>2</td>\n",
       "      <td>2</td>\n",
       "      <td>30</td>\n",
       "      <td>1628</td>\n",
       "      <td>1618</td>\n",
       "      <td>1375</td>\n",
       "      <td>1403</td>\n",
       "      <td>1520</td>\n",
       "      <td>1205</td>\n",
       "    </tr>\n",
       "    <tr>\n",
       "      <th>1</th>\n",
       "      <td>0</td>\n",
       "      <td>0</td>\n",
       "      <td>1</td>\n",
       "      <td>0</td>\n",
       "      <td>0.333333</td>\n",
       "      <td>59440.333333</td>\n",
       "      <td>5304</td>\n",
       "      <td>200000</td>\n",
       "      <td>2</td>\n",
       "      <td>1</td>\n",
       "      <td>29</td>\n",
       "      <td>4160</td>\n",
       "      <td>14593</td>\n",
       "      <td>20150</td>\n",
       "      <td>0</td>\n",
       "      <td>5739</td>\n",
       "      <td>12050</td>\n",
       "    </tr>\n",
       "    <tr>\n",
       "      <th>2</th>\n",
       "      <td>0</td>\n",
       "      <td>0</td>\n",
       "      <td>1</td>\n",
       "      <td>0</td>\n",
       "      <td>-0.666667</td>\n",
       "      <td>16498.000000</td>\n",
       "      <td>5187</td>\n",
       "      <td>230000</td>\n",
       "      <td>1</td>\n",
       "      <td>1</td>\n",
       "      <td>39</td>\n",
       "      <td>2500</td>\n",
       "      <td>2000</td>\n",
       "      <td>0</td>\n",
       "      <td>0</td>\n",
       "      <td>0</td>\n",
       "      <td>0</td>\n",
       "    </tr>\n",
       "    <tr>\n",
       "      <th>3</th>\n",
       "      <td>0</td>\n",
       "      <td>0</td>\n",
       "      <td>1</td>\n",
       "      <td>0</td>\n",
       "      <td>0.000000</td>\n",
       "      <td>146072.166667</td>\n",
       "      <td>14495</td>\n",
       "      <td>150000</td>\n",
       "      <td>1</td>\n",
       "      <td>1</td>\n",
       "      <td>40</td>\n",
       "      <td>5800</td>\n",
       "      <td>5245</td>\n",
       "      <td>5200</td>\n",
       "      <td>5200</td>\n",
       "      <td>6500</td>\n",
       "      <td>7200</td>\n",
       "    </tr>\n",
       "    <tr>\n",
       "      <th>4</th>\n",
       "      <td>0</td>\n",
       "      <td>0</td>\n",
       "      <td>1</td>\n",
       "      <td>0</td>\n",
       "      <td>0.000000</td>\n",
       "      <td>77156.833333</td>\n",
       "      <td>20444</td>\n",
       "      <td>140000</td>\n",
       "      <td>1</td>\n",
       "      <td>2</td>\n",
       "      <td>27</td>\n",
       "      <td>10000</td>\n",
       "      <td>10000</td>\n",
       "      <td>3393</td>\n",
       "      <td>3260</td>\n",
       "      <td>5000</td>\n",
       "      <td>3000</td>\n",
       "    </tr>\n",
       "  </tbody>\n",
       "</table>\n",
       "</div>"
      ],
      "text/plain": [
       "   MARRIAGE_0  MARRIAGE_1  MARRIAGE_2  MARRIAGE_3       PAY       BILL_AMT  \\\n",
       "0           0           1           0           0  0.000000   38068.500000   \n",
       "1           0           0           1           0  0.333333   59440.333333   \n",
       "2           0           0           1           0 -0.666667   16498.000000   \n",
       "3           0           0           1           0  0.000000  146072.166667   \n",
       "4           0           0           1           0  0.000000   77156.833333   \n",
       "\n",
       "      ID  LIMIT_BAL  SEX  EDUCATION  AGE  PAY_AMT1  PAY_AMT2  PAY_AMT3  \\\n",
       "0  10178      60000    2          2   30      1628      1618      1375   \n",
       "1   5304     200000    2          1   29      4160     14593     20150   \n",
       "2   5187     230000    1          1   39      2500      2000         0   \n",
       "3  14495     150000    1          1   40      5800      5245      5200   \n",
       "4  20444     140000    1          2   27     10000     10000      3393   \n",
       "\n",
       "   PAY_AMT4  PAY_AMT5  PAY_AMT6  \n",
       "0      1403      1520      1205  \n",
       "1         0      5739     12050  \n",
       "2         0         0         0  \n",
       "3      5200      6500      7200  \n",
       "4      3260      5000      3000  "
      ]
     },
     "execution_count": 17,
     "metadata": {},
     "output_type": "execute_result"
    },
    {
     "name": "stdout",
     "output_type": "stream",
     "text": [
      "time: 14.6 ms (started: 2022-05-18 15:43:55 +05:30)\n"
     ]
    }
   ],
   "source": [
    "# Set 'category' type to categorical attributes\n",
    "categorical = Test_data[[ 'MARRIAGE']]\n",
    "\n",
    "# one-hot encoding\n",
    "Test_data=pd.concat([\n",
    "                pd.get_dummies(Test_data['MARRIAGE'], prefix='MARRIAGE'),\n",
    "                Test_data],axis=1)\n",
    "# drop original columns\n",
    "Test_data.drop(['MARRIAGE'],axis=1, inplace=True)\n",
    "# print samples\n",
    "Test_data.head()"
   ]
  },
  {
   "cell_type": "code",
   "execution_count": 18,
   "id": "d7a38b49",
   "metadata": {},
   "outputs": [
    {
     "data": {
      "text/html": [
       "<div>\n",
       "<style scoped>\n",
       "    .dataframe tbody tr th:only-of-type {\n",
       "        vertical-align: middle;\n",
       "    }\n",
       "\n",
       "    .dataframe tbody tr th {\n",
       "        vertical-align: top;\n",
       "    }\n",
       "\n",
       "    .dataframe thead th {\n",
       "        text-align: right;\n",
       "    }\n",
       "</style>\n",
       "<table border=\"1\" class=\"dataframe\">\n",
       "  <thead>\n",
       "    <tr style=\"text-align: right;\">\n",
       "      <th></th>\n",
       "      <th>MARRIAGE_0</th>\n",
       "      <th>MARRIAGE_1</th>\n",
       "      <th>MARRIAGE_2</th>\n",
       "      <th>MARRIAGE_3</th>\n",
       "      <th>PAY</th>\n",
       "      <th>BILL_AMT</th>\n",
       "      <th>ID</th>\n",
       "      <th>LIMIT_BAL</th>\n",
       "      <th>SEX</th>\n",
       "      <th>EDUCATION</th>\n",
       "      <th>AGE</th>\n",
       "      <th>PAY_AMT1</th>\n",
       "      <th>PAY_AMT2</th>\n",
       "      <th>PAY_AMT3</th>\n",
       "      <th>PAY_AMT4</th>\n",
       "      <th>PAY_AMT5</th>\n",
       "      <th>PAY_AMT6</th>\n",
       "      <th>default_payment_next_month</th>\n",
       "    </tr>\n",
       "  </thead>\n",
       "  <tbody>\n",
       "    <tr>\n",
       "      <th>0</th>\n",
       "      <td>0</td>\n",
       "      <td>0</td>\n",
       "      <td>1</td>\n",
       "      <td>0</td>\n",
       "      <td>-1.000000</td>\n",
       "      <td>8557.666667</td>\n",
       "      <td>25150</td>\n",
       "      <td>360000</td>\n",
       "      <td>2</td>\n",
       "      <td>2</td>\n",
       "      <td>25</td>\n",
       "      <td>12590</td>\n",
       "      <td>3479</td>\n",
       "      <td>3446</td>\n",
       "      <td>8870</td>\n",
       "      <td>2020</td>\n",
       "      <td>27043</td>\n",
       "      <td>0</td>\n",
       "    </tr>\n",
       "    <tr>\n",
       "      <th>1</th>\n",
       "      <td>0</td>\n",
       "      <td>0</td>\n",
       "      <td>1</td>\n",
       "      <td>0</td>\n",
       "      <td>0.000000</td>\n",
       "      <td>1107.333333</td>\n",
       "      <td>13470</td>\n",
       "      <td>240000</td>\n",
       "      <td>2</td>\n",
       "      <td>1</td>\n",
       "      <td>46</td>\n",
       "      <td>0</td>\n",
       "      <td>0</td>\n",
       "      <td>2240</td>\n",
       "      <td>0</td>\n",
       "      <td>2267</td>\n",
       "      <td>3074</td>\n",
       "      <td>0</td>\n",
       "    </tr>\n",
       "    <tr>\n",
       "      <th>2</th>\n",
       "      <td>0</td>\n",
       "      <td>1</td>\n",
       "      <td>0</td>\n",
       "      <td>0</td>\n",
       "      <td>0.000000</td>\n",
       "      <td>41459.666667</td>\n",
       "      <td>3092</td>\n",
       "      <td>320000</td>\n",
       "      <td>2</td>\n",
       "      <td>2</td>\n",
       "      <td>41</td>\n",
       "      <td>5000</td>\n",
       "      <td>2000</td>\n",
       "      <td>2000</td>\n",
       "      <td>3000</td>\n",
       "      <td>3000</td>\n",
       "      <td>1500</td>\n",
       "      <td>0</td>\n",
       "    </tr>\n",
       "    <tr>\n",
       "      <th>3</th>\n",
       "      <td>0</td>\n",
       "      <td>0</td>\n",
       "      <td>1</td>\n",
       "      <td>0</td>\n",
       "      <td>-1.666667</td>\n",
       "      <td>445.833333</td>\n",
       "      <td>13973</td>\n",
       "      <td>50000</td>\n",
       "      <td>2</td>\n",
       "      <td>2</td>\n",
       "      <td>24</td>\n",
       "      <td>0</td>\n",
       "      <td>0</td>\n",
       "      <td>0</td>\n",
       "      <td>0</td>\n",
       "      <td>0</td>\n",
       "      <td>0</td>\n",
       "      <td>1</td>\n",
       "    </tr>\n",
       "    <tr>\n",
       "      <th>4</th>\n",
       "      <td>0</td>\n",
       "      <td>1</td>\n",
       "      <td>0</td>\n",
       "      <td>0</td>\n",
       "      <td>-0.166667</td>\n",
       "      <td>22841.000000</td>\n",
       "      <td>10567</td>\n",
       "      <td>80000</td>\n",
       "      <td>1</td>\n",
       "      <td>3</td>\n",
       "      <td>52</td>\n",
       "      <td>1500</td>\n",
       "      <td>1500</td>\n",
       "      <td>1500</td>\n",
       "      <td>1028</td>\n",
       "      <td>876</td>\n",
       "      <td>1449</td>\n",
       "      <td>0</td>\n",
       "    </tr>\n",
       "    <tr>\n",
       "      <th>...</th>\n",
       "      <td>...</td>\n",
       "      <td>...</td>\n",
       "      <td>...</td>\n",
       "      <td>...</td>\n",
       "      <td>...</td>\n",
       "      <td>...</td>\n",
       "      <td>...</td>\n",
       "      <td>...</td>\n",
       "      <td>...</td>\n",
       "      <td>...</td>\n",
       "      <td>...</td>\n",
       "      <td>...</td>\n",
       "      <td>...</td>\n",
       "      <td>...</td>\n",
       "      <td>...</td>\n",
       "      <td>...</td>\n",
       "      <td>...</td>\n",
       "      <td>...</td>\n",
       "    </tr>\n",
       "    <tr>\n",
       "      <th>20995</th>\n",
       "      <td>0</td>\n",
       "      <td>0</td>\n",
       "      <td>1</td>\n",
       "      <td>0</td>\n",
       "      <td>-1.500000</td>\n",
       "      <td>0.000000</td>\n",
       "      <td>6283</td>\n",
       "      <td>50000</td>\n",
       "      <td>2</td>\n",
       "      <td>2</td>\n",
       "      <td>31</td>\n",
       "      <td>0</td>\n",
       "      <td>0</td>\n",
       "      <td>0</td>\n",
       "      <td>0</td>\n",
       "      <td>0</td>\n",
       "      <td>0</td>\n",
       "      <td>0</td>\n",
       "    </tr>\n",
       "    <tr>\n",
       "      <th>20996</th>\n",
       "      <td>0</td>\n",
       "      <td>1</td>\n",
       "      <td>0</td>\n",
       "      <td>0</td>\n",
       "      <td>0.000000</td>\n",
       "      <td>55198.500000</td>\n",
       "      <td>25589</td>\n",
       "      <td>80000</td>\n",
       "      <td>2</td>\n",
       "      <td>2</td>\n",
       "      <td>37</td>\n",
       "      <td>5000</td>\n",
       "      <td>3000</td>\n",
       "      <td>2000</td>\n",
       "      <td>4000</td>\n",
       "      <td>2000</td>\n",
       "      <td>2000</td>\n",
       "      <td>0</td>\n",
       "    </tr>\n",
       "    <tr>\n",
       "      <th>20997</th>\n",
       "      <td>0</td>\n",
       "      <td>1</td>\n",
       "      <td>0</td>\n",
       "      <td>0</td>\n",
       "      <td>1.166667</td>\n",
       "      <td>25024.000000</td>\n",
       "      <td>4378</td>\n",
       "      <td>100000</td>\n",
       "      <td>1</td>\n",
       "      <td>1</td>\n",
       "      <td>52</td>\n",
       "      <td>0</td>\n",
       "      <td>3600</td>\n",
       "      <td>0</td>\n",
       "      <td>6000</td>\n",
       "      <td>3000</td>\n",
       "      <td>0</td>\n",
       "      <td>1</td>\n",
       "    </tr>\n",
       "    <tr>\n",
       "      <th>20998</th>\n",
       "      <td>0</td>\n",
       "      <td>1</td>\n",
       "      <td>0</td>\n",
       "      <td>0</td>\n",
       "      <td>0.000000</td>\n",
       "      <td>28903.000000</td>\n",
       "      <td>8604</td>\n",
       "      <td>90000</td>\n",
       "      <td>2</td>\n",
       "      <td>2</td>\n",
       "      <td>47</td>\n",
       "      <td>2000</td>\n",
       "      <td>2000</td>\n",
       "      <td>2000</td>\n",
       "      <td>2000</td>\n",
       "      <td>2000</td>\n",
       "      <td>2000</td>\n",
       "      <td>0</td>\n",
       "    </tr>\n",
       "    <tr>\n",
       "      <th>20999</th>\n",
       "      <td>0</td>\n",
       "      <td>1</td>\n",
       "      <td>0</td>\n",
       "      <td>0</td>\n",
       "      <td>-1.500000</td>\n",
       "      <td>0.000000</td>\n",
       "      <td>18049</td>\n",
       "      <td>90000</td>\n",
       "      <td>1</td>\n",
       "      <td>3</td>\n",
       "      <td>44</td>\n",
       "      <td>0</td>\n",
       "      <td>0</td>\n",
       "      <td>0</td>\n",
       "      <td>0</td>\n",
       "      <td>0</td>\n",
       "      <td>0</td>\n",
       "      <td>1</td>\n",
       "    </tr>\n",
       "  </tbody>\n",
       "</table>\n",
       "<p>21000 rows × 18 columns</p>\n",
       "</div>"
      ],
      "text/plain": [
       "       MARRIAGE_0  MARRIAGE_1  MARRIAGE_2  MARRIAGE_3       PAY      BILL_AMT  \\\n",
       "0               0           0           1           0 -1.000000   8557.666667   \n",
       "1               0           0           1           0  0.000000   1107.333333   \n",
       "2               0           1           0           0  0.000000  41459.666667   \n",
       "3               0           0           1           0 -1.666667    445.833333   \n",
       "4               0           1           0           0 -0.166667  22841.000000   \n",
       "...           ...         ...         ...         ...       ...           ...   \n",
       "20995           0           0           1           0 -1.500000      0.000000   \n",
       "20996           0           1           0           0  0.000000  55198.500000   \n",
       "20997           0           1           0           0  1.166667  25024.000000   \n",
       "20998           0           1           0           0  0.000000  28903.000000   \n",
       "20999           0           1           0           0 -1.500000      0.000000   \n",
       "\n",
       "          ID  LIMIT_BAL  SEX  EDUCATION  AGE  PAY_AMT1  PAY_AMT2  PAY_AMT3  \\\n",
       "0      25150     360000    2          2   25     12590      3479      3446   \n",
       "1      13470     240000    2          1   46         0         0      2240   \n",
       "2       3092     320000    2          2   41      5000      2000      2000   \n",
       "3      13973      50000    2          2   24         0         0         0   \n",
       "4      10567      80000    1          3   52      1500      1500      1500   \n",
       "...      ...        ...  ...        ...  ...       ...       ...       ...   \n",
       "20995   6283      50000    2          2   31         0         0         0   \n",
       "20996  25589      80000    2          2   37      5000      3000      2000   \n",
       "20997   4378     100000    1          1   52         0      3600         0   \n",
       "20998   8604      90000    2          2   47      2000      2000      2000   \n",
       "20999  18049      90000    1          3   44         0         0         0   \n",
       "\n",
       "       PAY_AMT4  PAY_AMT5  PAY_AMT6  default_payment_next_month  \n",
       "0          8870      2020     27043                           0  \n",
       "1             0      2267      3074                           0  \n",
       "2          3000      3000      1500                           0  \n",
       "3             0         0         0                           1  \n",
       "4          1028       876      1449                           0  \n",
       "...         ...       ...       ...                         ...  \n",
       "20995         0         0         0                           0  \n",
       "20996      4000      2000      2000                           0  \n",
       "20997      6000      3000         0                           1  \n",
       "20998      2000      2000      2000                           0  \n",
       "20999         0         0         0                           1  \n",
       "\n",
       "[21000 rows x 18 columns]"
      ]
     },
     "execution_count": 18,
     "metadata": {},
     "output_type": "execute_result"
    },
    {
     "name": "stdout",
     "output_type": "stream",
     "text": [
      "time: 25.8 ms (started: 2022-05-18 15:43:55 +05:30)\n"
     ]
    }
   ],
   "source": [
    "#Ordinal Encoding on train data\n",
    "from sklearn import preprocessing\n",
    "le = preprocessing.LabelEncoder()\n",
    "le.fit(Train_data[\"EDUCATION\"])\n",
    "le.transform(Train_data[\"EDUCATION\"])\n",
    "Train_data"
   ]
  },
  {
   "cell_type": "code",
   "execution_count": 19,
   "id": "db69fad7",
   "metadata": {},
   "outputs": [
    {
     "data": {
      "text/plain": [
       "array([1, 0, 0, ..., 1, 1, 1])"
      ]
     },
     "execution_count": 19,
     "metadata": {},
     "output_type": "execute_result"
    },
    {
     "name": "stdout",
     "output_type": "stream",
     "text": [
      "time: 17.4 ms (started: 2022-05-18 15:43:56 +05:30)\n"
     ]
    }
   ],
   "source": [
    "#Ordinal Encoding on Test data\n",
    "from sklearn import preprocessing\n",
    "le = preprocessing.LabelEncoder()\n",
    "le.fit(Test_data[\"EDUCATION\"])\n",
    "le.transform(Test_data[\"EDUCATION\"])"
   ]
  },
  {
   "cell_type": "code",
   "execution_count": 20,
   "id": "312c16fd",
   "metadata": {},
   "outputs": [
    {
     "data": {
      "image/png": "[encoded data removed]",
      "text/plain": [
       "<Figure size 576x504 with 2 Axes>"
      ]
     },
     "metadata": {
      "needs_background": "light"
     },
     "output_type": "display_data"
    },
    {
     "name": "stdout",
     "output_type": "stream",
     "text": [
      "time: 376 ms (started: 2022-05-18 15:43:56 +05:30)\n"
     ]
    }
   ],
   "source": [
    "#Correlations matrix after merging columns\n",
    "corr = Train_data.corr() \n",
    "f,ax = plt.subplots(figsize=(8, 7))\n",
    "sns.heatmap(corr, cbar = True,  square = True, annot = False, \n",
    "            xticklabels= True, yticklabels= True\n",
    "            ,cmap=\"coolwarm\", linewidths=.5, ax=ax)\n",
    "plt.title('CORRELATION MATRIX - HEATMAP', size=18);"
   ]
  },
  {
   "cell_type": "markdown",
   "id": "e0b43c05",
   "metadata": {},
   "source": [
    "## Model after merging columns"
   ]
  },
  {
   "cell_type": "code",
   "execution_count": 21,
   "id": "2cd5f0ba",
   "metadata": {},
   "outputs": [
    {
     "name": "stdout",
     "output_type": "stream",
     "text": [
      "(21000, 17) (21000,)\n",
      "time: 5.51 ms (started: 2022-05-18 15:43:57 +05:30)\n"
     ]
    }
   ],
   "source": [
    "#Defining x & y\n",
    "X = Train_data.iloc[:, :-1] \n",
    "y = Train_data['default_payment_next_month']\n",
    "print(X.shape, y.shape)"
   ]
  },
  {
   "cell_type": "code",
   "execution_count": 22,
   "id": "b5e69578",
   "metadata": {},
   "outputs": [
    {
     "name": "stdout",
     "output_type": "stream",
     "text": [
      "(18776, 17) (18776,)\n",
      "time: 20.6 s (started: 2022-05-18 15:43:57 +05:30)\n"
     ]
    }
   ],
   "source": [
    "#Balancing the data using SMOTE and cleaning using ENN technique\n",
    "from imblearn.combine import SMOTEENN \n",
    "sme = SMOTEENN(sampling_strategy='minority', random_state=42)\n",
    "X, y = sme.fit_resample(X, y)\n",
    "print(X.shape, y.shape)"
   ]
  },
  {
   "cell_type": "code",
   "execution_count": 23,
   "id": "0f2055f3",
   "metadata": {},
   "outputs": [
    {
     "name": "stdout",
     "output_type": "stream",
     "text": [
      "(14082, 17) (14082,)\n",
      "(4694, 17) (4694,)\n",
      "time: 5.14 ms (started: 2022-05-18 15:44:17 +05:30)\n"
     ]
    }
   ],
   "source": [
    "#Splitting the data\n",
    "X_train,X_test,y_train,y_test=train_test_split(X, y, random_state=0, shuffle=True)\n",
    "print(X_train.shape, y_train.shape)\n",
    "print(X_test.shape, y_test.shape)"
   ]
  },
  {
   "cell_type": "markdown",
   "id": "87a9c8bb",
   "metadata": {},
   "source": [
    "### Random Forest"
   ]
  },
  {
   "cell_type": "code",
   "execution_count": 24,
   "id": "c4573049",
   "metadata": {},
   "outputs": [
    {
     "data": {
      "text/plain": [
       "RandomForestClassifier(criterion='entropy', max_depth=80, max_features=6,\n",
       "                       max_leaf_nodes=20, random_state=42)"
      ]
     },
     "execution_count": 24,
     "metadata": {},
     "output_type": "execute_result"
    },
    {
     "name": "stdout",
     "output_type": "stream",
     "text": [
      "time: 1.88 s (started: 2022-05-13 17:57:13 +05:30)\n"
     ]
    }
   ],
   "source": [
    "#Fitting Random Forest classifier to the training set  \n",
    "classifier_rf = RandomForestClassifier(criterion='entropy', max_depth=80 ,max_leaf_nodes=20,random_state=42,max_features=6)\n",
    "classifier_rf.fit(X_train,y_train)"
   ]
  },
  {
   "cell_type": "code",
   "execution_count": 25,
   "id": "5559ba0d",
   "metadata": {},
   "outputs": [
    {
     "name": "stdout",
     "output_type": "stream",
     "text": [
      "time: 42 ms (started: 2022-05-13 17:57:15 +05:30)\n"
     ]
    }
   ],
   "source": [
    "#Predicting the test set result \n",
    "y_predrf= classifier_rf.predict(X_test)  "
   ]
  },
  {
   "cell_type": "code",
   "execution_count": 26,
   "id": "5536a468",
   "metadata": {},
   "outputs": [
    {
     "name": "stdout",
     "output_type": "stream",
     "text": [
      "time: 42.8 ms (started: 2022-05-13 17:57:16 +05:30)\n"
     ]
    }
   ],
   "source": [
    "#Predicting test data labels using probablity\n",
    "y_predictp_RF= classifier_rf.predict_proba(X_test)[:,1]"
   ]
  },
  {
   "cell_type": "code",
   "execution_count": 27,
   "id": "bad0542f",
   "metadata": {},
   "outputs": [
    {
     "name": "stdout",
     "output_type": "stream",
     "text": [
      "ROC Score: 0.9078380063628361\n",
      "time: 13 ms (started: 2022-05-13 17:57:18 +05:30)\n"
     ]
    }
   ],
   "source": [
    "#ROC Score of test data using probablity\n",
    "print(\"ROC Score:\",roc_auc_score(y_test, y_predictp_RF) )"
   ]
  },
  {
   "cell_type": "code",
   "execution_count": 30,
   "id": "92141718",
   "metadata": {},
   "outputs": [
    {
     "name": "stdout",
     "output_type": "stream",
     "text": [
      "time: 1.94 ms (started: 2022-05-13 17:53:03 +05:30)\n"
     ]
    }
   ],
   "source": [
    "Test_Label=pd.DataFrame()\n",
    "Test_Label['ID'] = Test_data['ID']"
   ]
  },
  {
   "cell_type": "code",
   "execution_count": null,
   "id": "a23af765",
   "metadata": {},
   "outputs": [],
   "source": [
    "Test_Label['default_payment_next_month'] = y_predrf\n",
    "Test_Label.to_csv(\"Test_Label_RF.csv\")"
   ]
  },
  {
   "cell_type": "code",
   "execution_count": 28,
   "id": "6fdeb8e1",
   "metadata": {},
   "outputs": [
    {
     "name": "stdout",
     "output_type": "stream",
     "text": [
      "[[1376  398]\n",
      " [ 367 2553]]\n",
      "Testing Accuracy score: 0.8370259906263315\n",
      "ROC Score: 0.8249816605148955\n",
      "              precision    recall  f1-score   support\n",
      "\n",
      "           0       0.79      0.78      0.78      1774\n",
      "           1       0.87      0.87      0.87      2920\n",
      "\n",
      "    accuracy                           0.84      4694\n",
      "   macro avg       0.83      0.82      0.83      4694\n",
      "weighted avg       0.84      0.84      0.84      4694\n",
      "\n",
      "time: 14 ms (started: 2022-05-13 17:57:20 +05:30)\n"
     ]
    }
   ],
   "source": [
    "#Evaluating the algorithm\n",
    "print(confusion_matrix(y_test,y_predrf))\n",
    "print(\"Testing Accuracy score:\",accuracy_score(y_test, y_predrf))\n",
    "print(\"ROC Score:\",roc_auc_score(y_test, y_predrf) )\n",
    "print(classification_report(y_test,y_predrf))"
   ]
  },
  {
   "cell_type": "code",
   "execution_count": 29,
   "id": "b61c56c0",
   "metadata": {},
   "outputs": [
    {
     "data": {
      "image/png": "[encoded data removed]",
      "text/plain": [
       "<Figure size 432x288 with 1 Axes>"
      ]
     },
     "metadata": {
      "needs_background": "light"
     },
     "output_type": "display_data"
    },
    {
     "name": "stdout",
     "output_type": "stream",
     "text": [
      "time: 266 ms (started: 2022-05-13 17:57:21 +05:30)\n"
     ]
    }
   ],
   "source": [
    "#Plotting Random Forest\n",
    "plt.figure()\n",
    "plot_tree(classifier_rf.estimators_[0], filled=True, max_depth=1)\n",
    "plt.title(\"Random Forest\")\n",
    "plt.show()"
   ]
  },
  {
   "cell_type": "code",
   "execution_count": 30,
   "id": "615bfd52",
   "metadata": {},
   "outputs": [
    {
     "name": "stdout",
     "output_type": "stream",
     "text": [
      "time: 27.5 ms (started: 2022-05-13 17:57:23 +05:30)\n"
     ]
    }
   ],
   "source": [
    "#Creating DataFrame\n",
    "report = classification_report(y_test,y_predrf, output_dict=True)\n",
    "df_RF = pd.DataFrame(report).T"
   ]
  },
  {
   "cell_type": "code",
   "execution_count": 31,
   "id": "49212b9d",
   "metadata": {},
   "outputs": [
    {
     "data": {
      "text/html": [
       "<div>\n",
       "<style scoped>\n",
       "    .dataframe tbody tr th:only-of-type {\n",
       "        vertical-align: middle;\n",
       "    }\n",
       "\n",
       "    .dataframe tbody tr th {\n",
       "        vertical-align: top;\n",
       "    }\n",
       "\n",
       "    .dataframe thead th {\n",
       "        text-align: right;\n",
       "    }\n",
       "</style>\n",
       "<table border=\"1\" class=\"dataframe\">\n",
       "  <thead>\n",
       "    <tr style=\"text-align: right;\">\n",
       "      <th></th>\n",
       "      <th>Random Forest Classifier</th>\n",
       "      <th>precision</th>\n",
       "      <th>recall</th>\n",
       "      <th>f1-score</th>\n",
       "      <th>support</th>\n",
       "    </tr>\n",
       "  </thead>\n",
       "  <tbody>\n",
       "    <tr>\n",
       "      <th>0</th>\n",
       "      <td>0</td>\n",
       "      <td>0.789443</td>\n",
       "      <td>0.775648</td>\n",
       "      <td>0.782485</td>\n",
       "      <td>1774.000000</td>\n",
       "    </tr>\n",
       "    <tr>\n",
       "      <th>1</th>\n",
       "      <td>1</td>\n",
       "      <td>0.865130</td>\n",
       "      <td>0.874315</td>\n",
       "      <td>0.869699</td>\n",
       "      <td>2920.000000</td>\n",
       "    </tr>\n",
       "    <tr>\n",
       "      <th>2</th>\n",
       "      <td>accuracy</td>\n",
       "      <td>0.837026</td>\n",
       "      <td>0.837026</td>\n",
       "      <td>0.837026</td>\n",
       "      <td>0.837026</td>\n",
       "    </tr>\n",
       "    <tr>\n",
       "      <th>3</th>\n",
       "      <td>macro avg</td>\n",
       "      <td>0.827287</td>\n",
       "      <td>0.824982</td>\n",
       "      <td>0.826092</td>\n",
       "      <td>4694.000000</td>\n",
       "    </tr>\n",
       "    <tr>\n",
       "      <th>4</th>\n",
       "      <td>weighted avg</td>\n",
       "      <td>0.836526</td>\n",
       "      <td>0.837026</td>\n",
       "      <td>0.836738</td>\n",
       "      <td>4694.000000</td>\n",
       "    </tr>\n",
       "  </tbody>\n",
       "</table>\n",
       "</div>"
      ],
      "text/plain": [
       "  Random Forest Classifier  precision    recall  f1-score      support\n",
       "0                        0   0.789443  0.775648  0.782485  1774.000000\n",
       "1                        1   0.865130  0.874315  0.869699  2920.000000\n",
       "2                 accuracy   0.837026  0.837026  0.837026     0.837026\n",
       "3                macro avg   0.827287  0.824982  0.826092  4694.000000\n",
       "4             weighted avg   0.836526  0.837026  0.836738  4694.000000"
      ]
     },
     "execution_count": 31,
     "metadata": {},
     "output_type": "execute_result"
    },
    {
     "name": "stdout",
     "output_type": "stream",
     "text": [
      "time: 20 ms (started: 2022-05-13 17:57:23 +05:30)\n"
     ]
    }
   ],
   "source": [
    "#Resetting & renaming index\n",
    "df_RF.reset_index(level=0, inplace=True)\n",
    "df_RF.rename({'index': 'Random Forest Classifier'}, axis=1, inplace=True)\n",
    "df_RF"
   ]
  },
  {
   "cell_type": "markdown",
   "id": "658215de",
   "metadata": {},
   "source": [
    "### GBM"
   ]
  },
  {
   "cell_type": "code",
   "execution_count": 32,
   "id": "860e6993",
   "metadata": {},
   "outputs": [
    {
     "data": {
      "text/plain": [
       "GradientBoostingClassifier(init='zero', learning_rate=0.01, loss='exponential',\n",
       "                           random_state=0, validation_fraction=0.05)"
      ]
     },
     "execution_count": 32,
     "metadata": {},
     "output_type": "execute_result"
    },
    {
     "name": "stdout",
     "output_type": "stream",
     "text": [
      "time: 3.48 s (started: 2022-05-13 17:57:25 +05:30)\n"
     ]
    }
   ],
   "source": [
    "#Fitting Gradient Boosting classifier to the training set  \n",
    "model_gbm= GradientBoostingClassifier(learning_rate=0.01,random_state=0,loss='exponential',init='zero',validation_fraction=0.05)\n",
    "model_gbm.fit(X_train, y_train)"
   ]
  },
  {
   "cell_type": "code",
   "execution_count": 33,
   "id": "de942e13",
   "metadata": {},
   "outputs": [
    {
     "name": "stdout",
     "output_type": "stream",
     "text": [
      "time: 15 ms (started: 2022-05-13 17:57:29 +05:30)\n"
     ]
    }
   ],
   "source": [
    "#Predicting the test set result \n",
    "y_predict_GBM= model_gbm.predict(X_test)  "
   ]
  },
  {
   "cell_type": "code",
   "execution_count": 34,
   "id": "5700f0a9",
   "metadata": {},
   "outputs": [
    {
     "name": "stdout",
     "output_type": "stream",
     "text": [
      "time: 11.6 ms (started: 2022-05-13 17:57:29 +05:30)\n"
     ]
    }
   ],
   "source": [
    "y_predictp_GBM= model_gbm.predict_proba(X_test)[:,1]"
   ]
  },
  {
   "cell_type": "code",
   "execution_count": 35,
   "id": "7cb48521",
   "metadata": {},
   "outputs": [
    {
     "name": "stdout",
     "output_type": "stream",
     "text": [
      "ROC Score: 0.8884340589334527\n",
      "time: 3.89 ms (started: 2022-05-13 17:57:30 +05:30)\n"
     ]
    }
   ],
   "source": [
    "#ROC Score of test data using probablity\n",
    "print(\"ROC Score:\",roc_auc_score(y_test, y_predictp_GBM) )"
   ]
  },
  {
   "cell_type": "code",
   "execution_count": null,
   "id": "07a26f78",
   "metadata": {},
   "outputs": [],
   "source": [
    "#Creating dataframe of predicted test data labels\n",
    "Test_Label=pd.DataFrame()\n",
    "Test_Label['ID'] = Test_data['ID']"
   ]
  },
  {
   "cell_type": "code",
   "execution_count": null,
   "id": "93f0f7aa",
   "metadata": {},
   "outputs": [],
   "source": [
    "#Saving predicted labels to csv\n",
    "Test_Label['default_payment_next_month'] = y_predict_GBM\n",
    "Test_Label.to_csv(\"Test_Label_GBM1.csv\")"
   ]
  },
  {
   "cell_type": "code",
   "execution_count": 36,
   "id": "e8bd3911",
   "metadata": {},
   "outputs": [
    {
     "name": "stdout",
     "output_type": "stream",
     "text": [
      "[[1419  355]\n",
      " [ 555 2365]]\n",
      "Testing Accuracy score: 0.8061354921175969\n",
      "ROC Score: 0.8049093836388628\n",
      "              precision    recall  f1-score   support\n",
      "\n",
      "           0       0.72      0.80      0.76      1774\n",
      "           1       0.87      0.81      0.84      2920\n",
      "\n",
      "    accuracy                           0.81      4694\n",
      "   macro avg       0.79      0.80      0.80      4694\n",
      "weighted avg       0.81      0.81      0.81      4694\n",
      "\n",
      "time: 13.8 ms (started: 2022-05-13 17:57:32 +05:30)\n"
     ]
    }
   ],
   "source": [
    "#Evaluating the algorithm\n",
    "print(confusion_matrix(y_test,y_predict_GBM))\n",
    "print(\"Testing Accuracy score:\",accuracy_score(y_test, y_predict_GBM))\n",
    "print(\"ROC Score:\",roc_auc_score(y_test, y_predict_GBM) )\n",
    "print(classification_report(y_test,y_predict_GBM))"
   ]
  },
  {
   "cell_type": "code",
   "execution_count": 37,
   "id": "327d432d",
   "metadata": {},
   "outputs": [
    {
     "data": {
      "text/plain": [
       "<AxesSubplot:>"
      ]
     },
     "execution_count": 37,
     "metadata": {},
     "output_type": "execute_result"
    },
    {
     "data": {
      "image/png": "[encoded data removed]",
      "text/plain": [
       "<Figure size 432x288 with 2 Axes>"
      ]
     },
     "metadata": {
      "needs_background": "light"
     },
     "output_type": "display_data"
    },
    {
     "name": "stdout",
     "output_type": "stream",
     "text": [
      "time: 144 ms (started: 2022-05-13 17:57:33 +05:30)\n"
     ]
    }
   ],
   "source": [
    "#Heat map of confusion_matrix\n",
    "cm = confusion_matrix(y_test, y_predict_GBM)\n",
    "sns.heatmap(cm,linewidths=1)"
   ]
  },
  {
   "cell_type": "code",
   "execution_count": 38,
   "id": "ecb641b3",
   "metadata": {},
   "outputs": [
    {
     "name": "stdout",
     "output_type": "stream",
     "text": [
      "time: 11.3 ms (started: 2022-05-13 17:57:34 +05:30)\n"
     ]
    }
   ],
   "source": [
    "#Creating DataFrame\n",
    "report = classification_report(y_test,y_predict_GBM, output_dict=True)\n",
    "df_GBM = pd.DataFrame(report).T"
   ]
  },
  {
   "cell_type": "code",
   "execution_count": 39,
   "id": "3ffcdbb0",
   "metadata": {},
   "outputs": [
    {
     "data": {
      "text/html": [
       "<div>\n",
       "<style scoped>\n",
       "    .dataframe tbody tr th:only-of-type {\n",
       "        vertical-align: middle;\n",
       "    }\n",
       "\n",
       "    .dataframe tbody tr th {\n",
       "        vertical-align: top;\n",
       "    }\n",
       "\n",
       "    .dataframe thead th {\n",
       "        text-align: right;\n",
       "    }\n",
       "</style>\n",
       "<table border=\"1\" class=\"dataframe\">\n",
       "  <thead>\n",
       "    <tr style=\"text-align: right;\">\n",
       "      <th></th>\n",
       "      <th>Gradient Boosting Classifier</th>\n",
       "      <th>precision</th>\n",
       "      <th>recall</th>\n",
       "      <th>f1-score</th>\n",
       "      <th>support</th>\n",
       "    </tr>\n",
       "  </thead>\n",
       "  <tbody>\n",
       "    <tr>\n",
       "      <th>0</th>\n",
       "      <td>0</td>\n",
       "      <td>0.718845</td>\n",
       "      <td>0.799887</td>\n",
       "      <td>0.757204</td>\n",
       "      <td>1774.000000</td>\n",
       "    </tr>\n",
       "    <tr>\n",
       "      <th>1</th>\n",
       "      <td>1</td>\n",
       "      <td>0.869485</td>\n",
       "      <td>0.809932</td>\n",
       "      <td>0.838652</td>\n",
       "      <td>2920.000000</td>\n",
       "    </tr>\n",
       "    <tr>\n",
       "      <th>2</th>\n",
       "      <td>accuracy</td>\n",
       "      <td>0.806135</td>\n",
       "      <td>0.806135</td>\n",
       "      <td>0.806135</td>\n",
       "      <td>0.806135</td>\n",
       "    </tr>\n",
       "    <tr>\n",
       "      <th>3</th>\n",
       "      <td>macro avg</td>\n",
       "      <td>0.794165</td>\n",
       "      <td>0.804909</td>\n",
       "      <td>0.797928</td>\n",
       "      <td>4694.000000</td>\n",
       "    </tr>\n",
       "    <tr>\n",
       "      <th>4</th>\n",
       "      <td>weighted avg</td>\n",
       "      <td>0.812554</td>\n",
       "      <td>0.806135</td>\n",
       "      <td>0.807871</td>\n",
       "      <td>4694.000000</td>\n",
       "    </tr>\n",
       "  </tbody>\n",
       "</table>\n",
       "</div>"
      ],
      "text/plain": [
       "  Gradient Boosting Classifier  precision    recall  f1-score      support\n",
       "0                            0   0.718845  0.799887  0.757204  1774.000000\n",
       "1                            1   0.869485  0.809932  0.838652  2920.000000\n",
       "2                     accuracy   0.806135  0.806135  0.806135     0.806135\n",
       "3                    macro avg   0.794165  0.804909  0.797928  4694.000000\n",
       "4                 weighted avg   0.812554  0.806135  0.807871  4694.000000"
      ]
     },
     "execution_count": 39,
     "metadata": {},
     "output_type": "execute_result"
    },
    {
     "name": "stdout",
     "output_type": "stream",
     "text": [
      "time: 7.52 ms (started: 2022-05-13 17:57:34 +05:30)\n"
     ]
    }
   ],
   "source": [
    "#Resetting & renaming index\n",
    "df_GBM.reset_index(level=0, inplace=True)\n",
    "df_GBM.rename({'index': 'Gradient Boosting Classifier'}, axis=1, inplace=True)\n",
    "df_GBM"
   ]
  },
  {
   "cell_type": "markdown",
   "id": "99777548",
   "metadata": {},
   "source": [
    "### XGBoost"
   ]
  },
  {
   "cell_type": "code",
   "execution_count": 40,
   "id": "2a71446c",
   "metadata": {},
   "outputs": [
    {
     "data": {
      "text/plain": [
       "XGBClassifier(base_score=0.1, booster='gbtree', callbacks=None,\n",
       "              colsample_bylevel=1, colsample_bynode=1, colsample_bytree=1,\n",
       "              early_stopping_rounds=None, enable_categorical=False,\n",
       "              eval_metric=None, gamma=0, gpu_id=-1, grow_policy='depthwise',\n",
       "              importance_type=None, interaction_constraints='',\n",
       "              learning_rate=0.05, max_bin=256, max_cat_to_onehot=4,\n",
       "              max_delta_step=0, max_depth=3, max_leaves=0, min_child_weight=1,\n",
       "              missing=nan, monotone_constraints='()', n_estimators=100,\n",
       "              n_jobs=0, num_parallel_tree=1, predictor='auto', random_state=42,\n",
       "              reg_alpha=0, reg_lambda=1, ...)"
      ]
     },
     "execution_count": 40,
     "metadata": {},
     "output_type": "execute_result"
    },
    {
     "name": "stdout",
     "output_type": "stream",
     "text": [
      "time: 555 ms (started: 2022-05-13 17:57:36 +05:30)\n"
     ]
    }
   ],
   "source": [
    "#Fitting XGBoost classifier to the training set  \n",
    "model_xgb=xgb.XGBClassifier(sampling_method= 'gradient_based', random_state=42,learning_rate=0.05,max_depth=3,base_score=0.1)\n",
    "model_xgb.fit(X_train, y_train)"
   ]
  },
  {
   "cell_type": "code",
   "execution_count": 41,
   "id": "20191974",
   "metadata": {},
   "outputs": [
    {
     "name": "stdout",
     "output_type": "stream",
     "text": [
      "time: 34.9 ms (started: 2022-05-13 17:57:38 +05:30)\n"
     ]
    }
   ],
   "source": [
    "#Predicting the test set result \n",
    "y_predict_xgb= model_xgb.predict(X_test)"
   ]
  },
  {
   "cell_type": "code",
   "execution_count": 42,
   "id": "273aa41b",
   "metadata": {},
   "outputs": [
    {
     "name": "stdout",
     "output_type": "stream",
     "text": [
      "time: 33.2 ms (started: 2022-05-13 17:57:39 +05:30)\n"
     ]
    }
   ],
   "source": [
    "y_predictp_XGB= model_xgb.predict_proba(X_test)[:,1]\n",
    "#y_predict_xgb = np.round(y_predict_xgb)\n",
    "#y_predict_xgbT = np.where(y_predict_xgbT>0.6, 1, 0)\n",
    "#y_predict_xgb = np.argmax(y_predict_xgb, axis=1)\n",
    "#df = pd.DataFrame(y_predict_xgbT)\n",
    "#df"
   ]
  },
  {
   "cell_type": "code",
   "execution_count": 43,
   "id": "5c3dc8a0",
   "metadata": {},
   "outputs": [
    {
     "name": "stdout",
     "output_type": "stream",
     "text": [
      "ROC Score: 0.9280246637117575\n",
      "time: 8.07 ms (started: 2022-05-13 17:57:40 +05:30)\n"
     ]
    }
   ],
   "source": [
    "#ROC Score of Predict_proba\n",
    "print(\"ROC Score:\",roc_auc_score(y_test, y_predictp_XGB) )"
   ]
  },
  {
   "cell_type": "code",
   "execution_count": 47,
   "id": "b679675a",
   "metadata": {},
   "outputs": [
    {
     "name": "stdout",
     "output_type": "stream",
     "text": [
      "time: 8.56 ms (started: 2022-05-13 17:53:46 +05:30)\n"
     ]
    }
   ],
   "source": [
    "#Creating dataframe of predicted labels of test data\n",
    "Test_Label=pd.DataFrame()\n",
    "Test_Label['ID'] = Test_data['ID']"
   ]
  },
  {
   "cell_type": "code",
   "execution_count": 49,
   "id": "981b0ea1",
   "metadata": {},
   "outputs": [
    {
     "name": "stdout",
     "output_type": "stream",
     "text": [
      "time: 18.2 ms (started: 2022-05-13 17:53:58 +05:30)\n"
     ]
    }
   ],
   "source": [
    "#Saving predicted labels to csv\n",
    "Test_Label['default_payment_next_month'] = y_predictp_XGB\n",
    "Test_Label.to_csv(\"Test_Label_XGB.csv\")"
   ]
  },
  {
   "cell_type": "code",
   "execution_count": 44,
   "id": "1cdfa437",
   "metadata": {},
   "outputs": [
    {
     "name": "stdout",
     "output_type": "stream",
     "text": [
      "[[1439  335]\n",
      " [ 354 2566]]\n",
      "Testing Accuracy score: 0.8532168726033234\n",
      "ROC Score: 0.8449641704375223\n",
      "              precision    recall  f1-score   support\n",
      "\n",
      "           0       0.80      0.81      0.81      1774\n",
      "           1       0.88      0.88      0.88      2920\n",
      "\n",
      "    accuracy                           0.85      4694\n",
      "   macro avg       0.84      0.84      0.84      4694\n",
      "weighted avg       0.85      0.85      0.85      4694\n",
      "\n",
      "time: 12.7 ms (started: 2022-05-13 17:57:42 +05:30)\n"
     ]
    }
   ],
   "source": [
    "#Evaluating the algorithm\n",
    "print(confusion_matrix(y_test,y_predict_xgb))\n",
    "print(\"Testing Accuracy score:\",accuracy_score(y_test, y_predict_xgb))\n",
    "print(\"ROC Score:\",roc_auc_score(y_test, y_predict_xgb) )\n",
    "print(classification_report(y_test,y_predict_xgb))"
   ]
  },
  {
   "cell_type": "code",
   "execution_count": 45,
   "id": "789377b5",
   "metadata": {},
   "outputs": [
    {
     "data": {
      "text/plain": [
       "<AxesSubplot:>"
      ]
     },
     "execution_count": 45,
     "metadata": {},
     "output_type": "execute_result"
    },
    {
     "data": {
      "image/png": "[encoded data removed]",
      "text/plain": [
       "<Figure size 432x288 with 2 Axes>"
      ]
     },
     "metadata": {
      "needs_background": "light"
     },
     "output_type": "display_data"
    },
    {
     "name": "stdout",
     "output_type": "stream",
     "text": [
      "time: 135 ms (started: 2022-05-13 17:57:43 +05:30)\n"
     ]
    }
   ],
   "source": [
    "#Heat map of confusion_matrix\n",
    "cm = confusion_matrix(y_test, y_predict_xgb)\n",
    "sns.heatmap(cm,linewidths=1)"
   ]
  },
  {
   "cell_type": "code",
   "execution_count": 46,
   "id": "edede971",
   "metadata": {},
   "outputs": [
    {
     "name": "stdout",
     "output_type": "stream",
     "text": [
      "time: 34.4 ms (started: 2022-05-13 17:57:43 +05:30)\n"
     ]
    }
   ],
   "source": [
    "#Creating DataFrame\n",
    "report = classification_report(y_test,y_predict_GBM, output_dict=True)\n",
    "df_XGB = pd.DataFrame(report).T"
   ]
  },
  {
   "cell_type": "code",
   "execution_count": 47,
   "id": "c5e0adaa",
   "metadata": {},
   "outputs": [
    {
     "data": {
      "text/html": [
       "<div>\n",
       "<style scoped>\n",
       "    .dataframe tbody tr th:only-of-type {\n",
       "        vertical-align: middle;\n",
       "    }\n",
       "\n",
       "    .dataframe tbody tr th {\n",
       "        vertical-align: top;\n",
       "    }\n",
       "\n",
       "    .dataframe thead th {\n",
       "        text-align: right;\n",
       "    }\n",
       "</style>\n",
       "<table border=\"1\" class=\"dataframe\">\n",
       "  <thead>\n",
       "    <tr style=\"text-align: right;\">\n",
       "      <th></th>\n",
       "      <th>XGBoost Classifier</th>\n",
       "      <th>precision</th>\n",
       "      <th>recall</th>\n",
       "      <th>f1-score</th>\n",
       "      <th>support</th>\n",
       "    </tr>\n",
       "  </thead>\n",
       "  <tbody>\n",
       "    <tr>\n",
       "      <th>0</th>\n",
       "      <td>0</td>\n",
       "      <td>0.718845</td>\n",
       "      <td>0.799887</td>\n",
       "      <td>0.757204</td>\n",
       "      <td>1774.000000</td>\n",
       "    </tr>\n",
       "    <tr>\n",
       "      <th>1</th>\n",
       "      <td>1</td>\n",
       "      <td>0.869485</td>\n",
       "      <td>0.809932</td>\n",
       "      <td>0.838652</td>\n",
       "      <td>2920.000000</td>\n",
       "    </tr>\n",
       "    <tr>\n",
       "      <th>2</th>\n",
       "      <td>accuracy</td>\n",
       "      <td>0.806135</td>\n",
       "      <td>0.806135</td>\n",
       "      <td>0.806135</td>\n",
       "      <td>0.806135</td>\n",
       "    </tr>\n",
       "    <tr>\n",
       "      <th>3</th>\n",
       "      <td>macro avg</td>\n",
       "      <td>0.794165</td>\n",
       "      <td>0.804909</td>\n",
       "      <td>0.797928</td>\n",
       "      <td>4694.000000</td>\n",
       "    </tr>\n",
       "    <tr>\n",
       "      <th>4</th>\n",
       "      <td>weighted avg</td>\n",
       "      <td>0.812554</td>\n",
       "      <td>0.806135</td>\n",
       "      <td>0.807871</td>\n",
       "      <td>4694.000000</td>\n",
       "    </tr>\n",
       "  </tbody>\n",
       "</table>\n",
       "</div>"
      ],
      "text/plain": [
       "  XGBoost Classifier  precision    recall  f1-score      support\n",
       "0                  0   0.718845  0.799887  0.757204  1774.000000\n",
       "1                  1   0.869485  0.809932  0.838652  2920.000000\n",
       "2           accuracy   0.806135  0.806135  0.806135     0.806135\n",
       "3          macro avg   0.794165  0.804909  0.797928  4694.000000\n",
       "4       weighted avg   0.812554  0.806135  0.807871  4694.000000"
      ]
     },
     "execution_count": 47,
     "metadata": {},
     "output_type": "execute_result"
    },
    {
     "name": "stdout",
     "output_type": "stream",
     "text": [
      "time: 19.9 ms (started: 2022-05-13 17:57:44 +05:30)\n"
     ]
    }
   ],
   "source": [
    "#Resetting & renaming index\n",
    "df_XGB.reset_index(level=0, inplace=True)\n",
    "df_XGB.rename({'index': 'XGBoost Classifier'}, axis=1, inplace=True)\n",
    "df_XGB"
   ]
  },
  {
   "cell_type": "markdown",
   "id": "5d952804",
   "metadata": {},
   "source": [
    "### Light GBM"
   ]
  },
  {
   "cell_type": "code",
   "execution_count": 48,
   "id": "fd43c196",
   "metadata": {},
   "outputs": [
    {
     "data": {
      "text/plain": [
       "LGBMClassifier(learning_rate=0.05, max_depth=3, random_state=0)"
      ]
     },
     "execution_count": 48,
     "metadata": {},
     "output_type": "execute_result"
    },
    {
     "name": "stdout",
     "output_type": "stream",
     "text": [
      "time: 98.2 ms (started: 2022-05-13 17:57:45 +05:30)\n"
     ]
    }
   ],
   "source": [
    "#Fitting LGBM Classifier\n",
    "model_lgbm = lgb.LGBMClassifier(random_state=0,learning_rate=0.05,max_depth=3,boosting_type='gbdt')\n",
    "model_lgbm.fit(X_train, y_train)"
   ]
  },
  {
   "cell_type": "code",
   "execution_count": 49,
   "id": "1d62af37",
   "metadata": {},
   "outputs": [
    {
     "name": "stdout",
     "output_type": "stream",
     "text": [
      "time: 33.4 ms (started: 2022-05-13 17:57:46 +05:30)\n"
     ]
    }
   ],
   "source": [
    "#predicting the test results\n",
    "y_predict_LGBM= model_lgbm.predict(X_test)  "
   ]
  },
  {
   "cell_type": "code",
   "execution_count": 50,
   "id": "238d5d19",
   "metadata": {},
   "outputs": [
    {
     "name": "stdout",
     "output_type": "stream",
     "text": [
      "time: 33.8 ms (started: 2022-05-13 17:57:48 +05:30)\n"
     ]
    }
   ],
   "source": [
    "#predicting model using probablity\n",
    "y_predictp_LGBM= model_lgbm.predict_proba(X_test)[:,1]"
   ]
  },
  {
   "cell_type": "code",
   "execution_count": 51,
   "id": "00c2b956",
   "metadata": {},
   "outputs": [
    {
     "name": "stdout",
     "output_type": "stream",
     "text": [
      "ROC Score: 0.9291228127750923\n",
      "time: 3.21 ms (started: 2022-05-13 17:57:49 +05:30)\n"
     ]
    }
   ],
   "source": [
    "#ROC Score of Predict_proba\n",
    "print(\"ROC Score:\",roc_auc_score(y_test, y_predictp_LGBM) )"
   ]
  },
  {
   "cell_type": "code",
   "execution_count": 58,
   "id": "daa53ae2",
   "metadata": {},
   "outputs": [
    {
     "name": "stdout",
     "output_type": "stream",
     "text": [
      "time: 3.51 ms (started: 2022-05-13 17:54:06 +05:30)\n"
     ]
    }
   ],
   "source": [
    "#Creating Dataframe for predicted labels \n",
    "Test_Label=pd.DataFrame()\n",
    "Test_Label['ID'] = Test_data['ID']"
   ]
  },
  {
   "cell_type": "code",
   "execution_count": 61,
   "id": "78835b23",
   "metadata": {},
   "outputs": [
    {
     "name": "stdout",
     "output_type": "stream",
     "text": [
      "time: 23.9 ms (started: 2022-05-13 17:54:30 +05:30)\n"
     ]
    }
   ],
   "source": [
    "#saving predicted labels to csv\n",
    "Test_Label['default_payment_next_month'] = y_predictp_LGBM\n",
    "Test_Label.to_csv(\"Test_Label_LGBM.csv\")"
   ]
  },
  {
   "cell_type": "code",
   "execution_count": 52,
   "id": "8ceabfdd",
   "metadata": {},
   "outputs": [
    {
     "name": "stdout",
     "output_type": "stream",
     "text": [
      "[[1455  319]\n",
      " [ 356 2564]]\n",
      "Testing Accuracy score: 0.856199403493822\n",
      "ROC Score: 0.8491312875476826\n",
      "              precision    recall  f1-score   support\n",
      "\n",
      "           0       0.80      0.82      0.81      1774\n",
      "           1       0.89      0.88      0.88      2920\n",
      "\n",
      "    accuracy                           0.86      4694\n",
      "   macro avg       0.85      0.85      0.85      4694\n",
      "weighted avg       0.86      0.86      0.86      4694\n",
      "\n",
      "time: 14.4 ms (started: 2022-05-13 17:57:50 +05:30)\n"
     ]
    }
   ],
   "source": [
    "#Evaluating the algorithm\n",
    "print(confusion_matrix(y_test,y_predict_LGBM))\n",
    "print(\"Testing Accuracy score:\",accuracy_score(y_test, y_predict_LGBM))\n",
    "print(\"ROC Score:\",roc_auc_score(y_test, y_predict_LGBM) )\n",
    "print(classification_report(y_test,y_predict_LGBM))"
   ]
  },
  {
   "cell_type": "code",
   "execution_count": 53,
   "id": "7dd2abd1",
   "metadata": {},
   "outputs": [
    {
     "data": {
      "text/plain": [
       "<AxesSubplot:>"
      ]
     },
     "execution_count": 53,
     "metadata": {},
     "output_type": "execute_result"
    },
    {
     "data": {
      "image/png": "[encoded data removed]",
      "text/plain": [
       "<Figure size 432x288 with 2 Axes>"
      ]
     },
     "metadata": {
      "needs_background": "light"
     },
     "output_type": "display_data"
    },
    {
     "name": "stdout",
     "output_type": "stream",
     "text": [
      "time: 116 ms (started: 2022-05-13 17:57:51 +05:30)\n"
     ]
    }
   ],
   "source": [
    "#Heat map of confusion_matrix\n",
    "cm = confusion_matrix(y_test, y_predict_LGBM)\n",
    "sns.heatmap(cm,linewidths=1)"
   ]
  },
  {
   "cell_type": "code",
   "execution_count": 54,
   "id": "2f6e7e6e",
   "metadata": {},
   "outputs": [
    {
     "name": "stdout",
     "output_type": "stream",
     "text": [
      "time: 24.6 ms (started: 2022-05-13 17:57:52 +05:30)\n"
     ]
    }
   ],
   "source": [
    "#Creating DataFrame\n",
    "report = classification_report(y_test,y_predict_LGBM, output_dict=True)\n",
    "df_LGBM = pd.DataFrame(report).T"
   ]
  },
  {
   "cell_type": "code",
   "execution_count": 55,
   "id": "bb1b661e",
   "metadata": {},
   "outputs": [
    {
     "data": {
      "text/html": [
       "<div>\n",
       "<style scoped>\n",
       "    .dataframe tbody tr th:only-of-type {\n",
       "        vertical-align: middle;\n",
       "    }\n",
       "\n",
       "    .dataframe tbody tr th {\n",
       "        vertical-align: top;\n",
       "    }\n",
       "\n",
       "    .dataframe thead th {\n",
       "        text-align: right;\n",
       "    }\n",
       "</style>\n",
       "<table border=\"1\" class=\"dataframe\">\n",
       "  <thead>\n",
       "    <tr style=\"text-align: right;\">\n",
       "      <th></th>\n",
       "      <th>Light GBM Classifier</th>\n",
       "      <th>precision</th>\n",
       "      <th>recall</th>\n",
       "      <th>f1-score</th>\n",
       "      <th>support</th>\n",
       "    </tr>\n",
       "  </thead>\n",
       "  <tbody>\n",
       "    <tr>\n",
       "      <th>0</th>\n",
       "      <td>0</td>\n",
       "      <td>0.803424</td>\n",
       "      <td>0.820180</td>\n",
       "      <td>0.811715</td>\n",
       "      <td>1774.000000</td>\n",
       "    </tr>\n",
       "    <tr>\n",
       "      <th>1</th>\n",
       "      <td>1</td>\n",
       "      <td>0.889351</td>\n",
       "      <td>0.878082</td>\n",
       "      <td>0.883681</td>\n",
       "      <td>2920.000000</td>\n",
       "    </tr>\n",
       "    <tr>\n",
       "      <th>2</th>\n",
       "      <td>accuracy</td>\n",
       "      <td>0.856199</td>\n",
       "      <td>0.856199</td>\n",
       "      <td>0.856199</td>\n",
       "      <td>0.856199</td>\n",
       "    </tr>\n",
       "    <tr>\n",
       "      <th>3</th>\n",
       "      <td>macro avg</td>\n",
       "      <td>0.846387</td>\n",
       "      <td>0.849131</td>\n",
       "      <td>0.847698</td>\n",
       "      <td>4694.000000</td>\n",
       "    </tr>\n",
       "    <tr>\n",
       "      <th>4</th>\n",
       "      <td>weighted avg</td>\n",
       "      <td>0.856877</td>\n",
       "      <td>0.856199</td>\n",
       "      <td>0.856483</td>\n",
       "      <td>4694.000000</td>\n",
       "    </tr>\n",
       "  </tbody>\n",
       "</table>\n",
       "</div>"
      ],
      "text/plain": [
       "  Light GBM Classifier  precision    recall  f1-score      support\n",
       "0                    0   0.803424  0.820180  0.811715  1774.000000\n",
       "1                    1   0.889351  0.878082  0.883681  2920.000000\n",
       "2             accuracy   0.856199  0.856199  0.856199     0.856199\n",
       "3            macro avg   0.846387  0.849131  0.847698  4694.000000\n",
       "4         weighted avg   0.856877  0.856199  0.856483  4694.000000"
      ]
     },
     "execution_count": 55,
     "metadata": {},
     "output_type": "execute_result"
    },
    {
     "name": "stdout",
     "output_type": "stream",
     "text": [
      "time: 20 ms (started: 2022-05-13 17:57:53 +05:30)\n"
     ]
    }
   ],
   "source": [
    "#Resetting & renaming index\n",
    "df_LGBM.reset_index(level=0, inplace=True)\n",
    "df_LGBM.rename({'index': 'Light GBM Classifier'}, axis=1, inplace=True)\n",
    "df_LGBM"
   ]
  },
  {
   "cell_type": "markdown",
   "id": "50313727",
   "metadata": {},
   "source": [
    "### CatBoost"
   ]
  },
  {
   "cell_type": "code",
   "execution_count": 56,
   "id": "1aeabf1d",
   "metadata": {},
   "outputs": [
    {
     "name": "stdout",
     "output_type": "stream",
     "text": [
      "0:\tlearn: 0.6883247\ttotal: 56.5ms\tremaining: 226ms\n",
      "1:\tlearn: 0.6835295\ttotal: 63ms\tremaining: 94.5ms\n",
      "2:\tlearn: 0.6794187\ttotal: 69.7ms\tremaining: 46.4ms\n",
      "3:\tlearn: 0.6747338\ttotal: 75.5ms\tremaining: 18.9ms\n",
      "4:\tlearn: 0.6701760\ttotal: 79.8ms\tremaining: 0us\n"
     ]
    },
    {
     "data": {
      "text/plain": [
       "<catboost.core.CatBoostClassifier at 0x7fa9caaf3f40>"
      ]
     },
     "execution_count": 56,
     "metadata": {},
     "output_type": "execute_result"
    },
    {
     "name": "stdout",
     "output_type": "stream",
     "text": [
      "time: 421 ms (started: 2022-05-13 17:57:54 +05:30)\n"
     ]
    }
   ],
   "source": [
    "#Fitting CatBoost Classifier\n",
    "model_cb=CatBoostClassifier(iterations=5,learning_rate=0.01)\n",
    "model_cb.fit(X_train,y_train)"
   ]
  },
  {
   "cell_type": "code",
   "execution_count": 57,
   "id": "1293c6ad",
   "metadata": {},
   "outputs": [
    {
     "name": "stdout",
     "output_type": "stream",
     "text": [
      "time: 2.92 ms (started: 2022-05-13 17:57:55 +05:30)\n"
     ]
    }
   ],
   "source": [
    "#Predicting the model\n",
    "y_predict_CB= model_cb.predict(X_test)"
   ]
  },
  {
   "cell_type": "code",
   "execution_count": 58,
   "id": "ed1dff3b",
   "metadata": {},
   "outputs": [
    {
     "name": "stdout",
     "output_type": "stream",
     "text": [
      "time: 3.33 ms (started: 2022-05-13 17:57:57 +05:30)\n"
     ]
    }
   ],
   "source": [
    "#predicting the test data using probablity\n",
    "y_predictp_CB= model_cb.predict_proba(X_test)[:,1]"
   ]
  },
  {
   "cell_type": "code",
   "execution_count": 59,
   "id": "940bbb9a",
   "metadata": {},
   "outputs": [
    {
     "name": "stdout",
     "output_type": "stream",
     "text": [
      "ROC Score: 0.9045266675418141\n",
      "time: 3.25 ms (started: 2022-05-13 17:57:58 +05:30)\n"
     ]
    }
   ],
   "source": [
    "#ROC Score using test data probablity\n",
    "print(\"ROC Score:\",roc_auc_score(y_test, y_predictp_CB))"
   ]
  },
  {
   "cell_type": "code",
   "execution_count": null,
   "id": "877c0149",
   "metadata": {},
   "outputs": [],
   "source": [
    "#Creating DataFrame for predicted labels of test data\n",
    "Test_Label=pd.DataFrame()\n",
    "Test_Label['ID'] = Test_data['ID']"
   ]
  },
  {
   "cell_type": "code",
   "execution_count": null,
   "id": "4c714d96",
   "metadata": {},
   "outputs": [],
   "source": [
    "#saving predicted labels to csv\n",
    "Test_Label['default_payment_next_month'] = y_predict_CBt\n",
    "Test_Label.to_csv(\"Test_Label_CB.csv\")"
   ]
  },
  {
   "cell_type": "code",
   "execution_count": 60,
   "id": "6e681c10",
   "metadata": {},
   "outputs": [
    {
     "name": "stdout",
     "output_type": "stream",
     "text": [
      "[[1380  394]\n",
      " [ 371 2549]]\n",
      "Testing Accuracy score: 0.8370259906263315\n",
      "ROC Score: 0.8254241247239426\n",
      "              precision    recall  f1-score   support\n",
      "\n",
      "           0       0.79      0.78      0.78      1774\n",
      "           1       0.87      0.87      0.87      2920\n",
      "\n",
      "    accuracy                           0.84      4694\n",
      "   macro avg       0.83      0.83      0.83      4694\n",
      "weighted avg       0.84      0.84      0.84      4694\n",
      "\n",
      "time: 16.3 ms (started: 2022-05-13 17:57:59 +05:30)\n"
     ]
    }
   ],
   "source": [
    "#Evaluating the algorithm\n",
    "print(confusion_matrix(y_test,y_predict_CB))\n",
    "print(\"Testing Accuracy score:\",accuracy_score(y_test, y_predict_CB))\n",
    "print(\"ROC Score:\",roc_auc_score(y_test, y_predict_CB) )\n",
    "print(classification_report(y_test,y_predict_CB))"
   ]
  },
  {
   "cell_type": "code",
   "execution_count": 61,
   "id": "54131d75",
   "metadata": {},
   "outputs": [
    {
     "data": {
      "text/plain": [
       "<AxesSubplot:>"
      ]
     },
     "execution_count": 61,
     "metadata": {},
     "output_type": "execute_result"
    },
    {
     "data": {
      "image/png": "[encoded data removed]",
      "text/plain": [
       "<Figure size 432x288 with 2 Axes>"
      ]
     },
     "metadata": {
      "needs_background": "light"
     },
     "output_type": "display_data"
    },
    {
     "name": "stdout",
     "output_type": "stream",
     "text": [
      "time: 143 ms (started: 2022-05-13 17:58:00 +05:30)\n"
     ]
    }
   ],
   "source": [
    "#Heat map of confusion_matrix\n",
    "cm = confusion_matrix(y_test, y_predict_CB)\n",
    "sns.heatmap(cm,linewidths=1,cmap='coolwarm')"
   ]
  },
  {
   "cell_type": "code",
   "execution_count": 62,
   "id": "fc9cc6ef",
   "metadata": {},
   "outputs": [
    {
     "name": "stdout",
     "output_type": "stream",
     "text": [
      "time: 10.4 ms (started: 2022-05-13 17:58:02 +05:30)\n"
     ]
    }
   ],
   "source": [
    "#Creating DataFrame\n",
    "report = classification_report(y_test,y_predict_CB, output_dict=True)\n",
    "df_CB = pd.DataFrame(report).T"
   ]
  },
  {
   "cell_type": "code",
   "execution_count": 63,
   "id": "a5007a6a",
   "metadata": {},
   "outputs": [
    {
     "data": {
      "text/html": [
       "<div>\n",
       "<style scoped>\n",
       "    .dataframe tbody tr th:only-of-type {\n",
       "        vertical-align: middle;\n",
       "    }\n",
       "\n",
       "    .dataframe tbody tr th {\n",
       "        vertical-align: top;\n",
       "    }\n",
       "\n",
       "    .dataframe thead th {\n",
       "        text-align: right;\n",
       "    }\n",
       "</style>\n",
       "<table border=\"1\" class=\"dataframe\">\n",
       "  <thead>\n",
       "    <tr style=\"text-align: right;\">\n",
       "      <th></th>\n",
       "      <th>CatBoost Classifier</th>\n",
       "      <th>precision</th>\n",
       "      <th>recall</th>\n",
       "      <th>f1-score</th>\n",
       "      <th>support</th>\n",
       "    </tr>\n",
       "  </thead>\n",
       "  <tbody>\n",
       "    <tr>\n",
       "      <th>0</th>\n",
       "      <td>0</td>\n",
       "      <td>0.788121</td>\n",
       "      <td>0.777903</td>\n",
       "      <td>0.782979</td>\n",
       "      <td>1774.000000</td>\n",
       "    </tr>\n",
       "    <tr>\n",
       "      <th>1</th>\n",
       "      <td>1</td>\n",
       "      <td>0.866123</td>\n",
       "      <td>0.872945</td>\n",
       "      <td>0.869521</td>\n",
       "      <td>2920.000000</td>\n",
       "    </tr>\n",
       "    <tr>\n",
       "      <th>2</th>\n",
       "      <td>accuracy</td>\n",
       "      <td>0.837026</td>\n",
       "      <td>0.837026</td>\n",
       "      <td>0.837026</td>\n",
       "      <td>0.837026</td>\n",
       "    </tr>\n",
       "    <tr>\n",
       "      <th>3</th>\n",
       "      <td>macro avg</td>\n",
       "      <td>0.827122</td>\n",
       "      <td>0.825424</td>\n",
       "      <td>0.826250</td>\n",
       "      <td>4694.000000</td>\n",
       "    </tr>\n",
       "    <tr>\n",
       "      <th>4</th>\n",
       "      <td>weighted avg</td>\n",
       "      <td>0.836644</td>\n",
       "      <td>0.837026</td>\n",
       "      <td>0.836814</td>\n",
       "      <td>4694.000000</td>\n",
       "    </tr>\n",
       "  </tbody>\n",
       "</table>\n",
       "</div>"
      ],
      "text/plain": [
       "  CatBoost Classifier  precision    recall  f1-score      support\n",
       "0                   0   0.788121  0.777903  0.782979  1774.000000\n",
       "1                   1   0.866123  0.872945  0.869521  2920.000000\n",
       "2            accuracy   0.837026  0.837026  0.837026     0.837026\n",
       "3           macro avg   0.827122  0.825424  0.826250  4694.000000\n",
       "4        weighted avg   0.836644  0.837026  0.836814  4694.000000"
      ]
     },
     "execution_count": 63,
     "metadata": {},
     "output_type": "execute_result"
    },
    {
     "name": "stdout",
     "output_type": "stream",
     "text": [
      "time: 7 ms (started: 2022-05-13 17:58:02 +05:30)\n"
     ]
    }
   ],
   "source": [
    "#Resetting & renaming index\n",
    "df_CB.reset_index(level=0, inplace=True)\n",
    "df_CB.rename({'index': 'CatBoost Classifier'}, axis=1, inplace=True)\n",
    "df_CB"
   ]
  },
  {
   "cell_type": "markdown",
   "id": "34078c4d",
   "metadata": {},
   "source": [
    "### AdaBoost"
   ]
  },
  {
   "cell_type": "code",
   "execution_count": 64,
   "id": "56b90ee4",
   "metadata": {},
   "outputs": [
    {
     "data": {
      "text/plain": [
       "AdaBoostClassifier(learning_rate=0.1, random_state=0)"
      ]
     },
     "execution_count": 64,
     "metadata": {},
     "output_type": "execute_result"
    },
    {
     "name": "stdout",
     "output_type": "stream",
     "text": [
      "time: 791 ms (started: 2022-05-13 17:58:11 +05:30)\n"
     ]
    }
   ],
   "source": [
    "#Fitting AdaBoost Classifier\n",
    "model_ab = AdaBoostClassifier(learning_rate=0.1,random_state=0)\n",
    "model_ab.fit(X_train, y_train)"
   ]
  },
  {
   "cell_type": "code",
   "execution_count": 65,
   "id": "9a36a859",
   "metadata": {},
   "outputs": [
    {
     "name": "stdout",
     "output_type": "stream",
     "text": [
      "time: 45.3 ms (started: 2022-05-13 17:58:13 +05:30)\n"
     ]
    }
   ],
   "source": [
    "#predicting the model\n",
    "y_predict_AB= model_ab.predict(X_test)  "
   ]
  },
  {
   "cell_type": "code",
   "execution_count": 66,
   "id": "da0890f0",
   "metadata": {},
   "outputs": [
    {
     "name": "stdout",
     "output_type": "stream",
     "text": [
      "time: 40.9 ms (started: 2022-05-13 17:58:14 +05:30)\n"
     ]
    }
   ],
   "source": [
    "#Predicting test data using probablity\n",
    "y_predictp_AB= model_ab.predict_proba(X_test)[:,1]"
   ]
  },
  {
   "cell_type": "code",
   "execution_count": 67,
   "id": "cc8f3eba",
   "metadata": {},
   "outputs": [
    {
     "name": "stdout",
     "output_type": "stream",
     "text": [
      "ROC Score: 0.8928239525258297\n",
      "time: 2.57 ms (started: 2022-05-13 17:58:15 +05:30)\n"
     ]
    }
   ],
   "source": [
    "#ROC Score using probablity\n",
    "print(\"ROC Score:\",roc_auc_score(y_test, y_predictp_AB) )"
   ]
  },
  {
   "cell_type": "code",
   "execution_count": 190,
   "id": "f873495e",
   "metadata": {},
   "outputs": [
    {
     "name": "stdout",
     "output_type": "stream",
     "text": [
      "time: 8.58 ms (started: 2022-05-13 16:31:00 +05:30)\n"
     ]
    }
   ],
   "source": [
    "#Creating new dataframe for predicted test data\n",
    "Test_Label=pd.DataFrame()\n",
    "Test_Label['ID'] = Test_data['ID']"
   ]
  },
  {
   "cell_type": "code",
   "execution_count": 191,
   "id": "ea52a465",
   "metadata": {},
   "outputs": [
    {
     "name": "stdout",
     "output_type": "stream",
     "text": [
      "time: 37 ms (started: 2022-05-13 16:31:15 +05:30)\n"
     ]
    }
   ],
   "source": [
    "#saving predicted labels csv\n",
    "Test_Label['default_payment_next_month'] = y_predictp_AB\n",
    "Test_Label.to_csv(\"Test_Label_AB.csv\")"
   ]
  },
  {
   "cell_type": "code",
   "execution_count": 68,
   "id": "e9239643",
   "metadata": {},
   "outputs": [
    {
     "name": "stdout",
     "output_type": "stream",
     "text": [
      "[[1385  389]\n",
      " [ 420 2500]]\n",
      "Testing Accuracy score: 0.8276523221133362\n",
      "ROC Score: 0.8184429584099088\n",
      "              precision    recall  f1-score   support\n",
      "\n",
      "           0       0.77      0.78      0.77      1774\n",
      "           1       0.87      0.86      0.86      2920\n",
      "\n",
      "    accuracy                           0.83      4694\n",
      "   macro avg       0.82      0.82      0.82      4694\n",
      "weighted avg       0.83      0.83      0.83      4694\n",
      "\n",
      "time: 13.4 ms (started: 2022-05-13 17:58:16 +05:30)\n"
     ]
    }
   ],
   "source": [
    "#Evaluating the algorithm\n",
    "print(confusion_matrix(y_test,y_predict_AB))\n",
    "print(\"Testing Accuracy score:\",accuracy_score(y_test, y_predict_AB))\n",
    "print(\"ROC Score:\",roc_auc_score(y_test, y_predict_AB) )\n",
    "print(classification_report(y_test,y_predict_AB))"
   ]
  },
  {
   "cell_type": "code",
   "execution_count": 69,
   "id": "59cc3ae6",
   "metadata": {},
   "outputs": [
    {
     "data": {
      "text/plain": [
       "<AxesSubplot:>"
      ]
     },
     "execution_count": 69,
     "metadata": {},
     "output_type": "execute_result"
    },
    {
     "data": {
      "image/png": "[encoded data removed]",
      "text/plain": [
       "<Figure size 432x288 with 2 Axes>"
      ]
     },
     "metadata": {
      "needs_background": "light"
     },
     "output_type": "display_data"
    },
    {
     "name": "stdout",
     "output_type": "stream",
     "text": [
      "time: 118 ms (started: 2022-05-13 17:58:19 +05:30)\n"
     ]
    }
   ],
   "source": [
    "#Heat map of confusion_matrix\n",
    "cm = confusion_matrix(y_test, y_predict_AB)\n",
    "sns.heatmap(cm,linewidths=1)"
   ]
  },
  {
   "cell_type": "code",
   "execution_count": 70,
   "id": "500f01ba",
   "metadata": {},
   "outputs": [
    {
     "name": "stdout",
     "output_type": "stream",
     "text": [
      "time: 26.8 ms (started: 2022-05-13 17:58:20 +05:30)\n"
     ]
    }
   ],
   "source": [
    "#Creating DataFrame\n",
    "report = classification_report(y_test,y_predict_AB, output_dict=True)\n",
    "df_AB = pd.DataFrame(report).T"
   ]
  },
  {
   "cell_type": "code",
   "execution_count": 71,
   "id": "20eb3ddf",
   "metadata": {},
   "outputs": [
    {
     "data": {
      "text/html": [
       "<div>\n",
       "<style scoped>\n",
       "    .dataframe tbody tr th:only-of-type {\n",
       "        vertical-align: middle;\n",
       "    }\n",
       "\n",
       "    .dataframe tbody tr th {\n",
       "        vertical-align: top;\n",
       "    }\n",
       "\n",
       "    .dataframe thead th {\n",
       "        text-align: right;\n",
       "    }\n",
       "</style>\n",
       "<table border=\"1\" class=\"dataframe\">\n",
       "  <thead>\n",
       "    <tr style=\"text-align: right;\">\n",
       "      <th></th>\n",
       "      <th>AdaBoost Classifier</th>\n",
       "      <th>precision</th>\n",
       "      <th>recall</th>\n",
       "      <th>f1-score</th>\n",
       "      <th>support</th>\n",
       "    </tr>\n",
       "  </thead>\n",
       "  <tbody>\n",
       "    <tr>\n",
       "      <th>0</th>\n",
       "      <td>0</td>\n",
       "      <td>0.767313</td>\n",
       "      <td>0.780722</td>\n",
       "      <td>0.773959</td>\n",
       "      <td>1774.000000</td>\n",
       "    </tr>\n",
       "    <tr>\n",
       "      <th>1</th>\n",
       "      <td>1</td>\n",
       "      <td>0.865351</td>\n",
       "      <td>0.856164</td>\n",
       "      <td>0.860733</td>\n",
       "      <td>2920.000000</td>\n",
       "    </tr>\n",
       "    <tr>\n",
       "      <th>2</th>\n",
       "      <td>accuracy</td>\n",
       "      <td>0.827652</td>\n",
       "      <td>0.827652</td>\n",
       "      <td>0.827652</td>\n",
       "      <td>0.827652</td>\n",
       "    </tr>\n",
       "    <tr>\n",
       "      <th>3</th>\n",
       "      <td>macro avg</td>\n",
       "      <td>0.816332</td>\n",
       "      <td>0.818443</td>\n",
       "      <td>0.817346</td>\n",
       "      <td>4694.000000</td>\n",
       "    </tr>\n",
       "    <tr>\n",
       "      <th>4</th>\n",
       "      <td>weighted avg</td>\n",
       "      <td>0.828300</td>\n",
       "      <td>0.827652</td>\n",
       "      <td>0.827939</td>\n",
       "      <td>4694.000000</td>\n",
       "    </tr>\n",
       "  </tbody>\n",
       "</table>\n",
       "</div>"
      ],
      "text/plain": [
       "  AdaBoost Classifier  precision    recall  f1-score      support\n",
       "0                   0   0.767313  0.780722  0.773959  1774.000000\n",
       "1                   1   0.865351  0.856164  0.860733  2920.000000\n",
       "2            accuracy   0.827652  0.827652  0.827652     0.827652\n",
       "3           macro avg   0.816332  0.818443  0.817346  4694.000000\n",
       "4        weighted avg   0.828300  0.827652  0.827939  4694.000000"
      ]
     },
     "execution_count": 71,
     "metadata": {},
     "output_type": "execute_result"
    },
    {
     "name": "stdout",
     "output_type": "stream",
     "text": [
      "time: 7.13 ms (started: 2022-05-13 17:58:21 +05:30)\n"
     ]
    }
   ],
   "source": [
    "#Resetting & renaming index\n",
    "df_AB.reset_index(level=0, inplace=True)\n",
    "df_AB.rename({'index': 'AdaBoost Classifier'}, axis=1, inplace=True)\n",
    "df_AB"
   ]
  },
  {
   "cell_type": "markdown",
   "id": "055b90fd",
   "metadata": {},
   "source": [
    "## ROC Curve for all models"
   ]
  },
  {
   "cell_type": "code",
   "execution_count": 72,
   "id": "0773f574",
   "metadata": {},
   "outputs": [
    {
     "name": "stdout",
     "output_type": "stream",
     "text": [
      "time: 8.64 ms (started: 2022-05-13 17:58:23 +05:30)\n"
     ]
    }
   ],
   "source": [
    "# roc curve for models\n",
    "fpr1, tpr1, thresh1 = roc_curve(y_test, y_predictp_RF, pos_label=1)\n",
    "fpr2, tpr2, thresh2 = roc_curve(y_test, y_predictp_GBM, pos_label=1)\n",
    "fpr3, tpr3, thresh3 = roc_curve(y_test, y_predictp_XGB, pos_label=1)\n",
    "fpr4, tpr4, thresh4 = roc_curve(y_test, y_predictp_LGBM, pos_label=1)\n",
    "fpr5, tpr5, thresh5 = roc_curve(y_test,y_predictp_CB, pos_label=1)\n",
    "fpr6, tpr6, thresh6 = roc_curve(y_test, y_predictp_AB, pos_label=1)\n",
    "# roc curve for tpr = fpr \n",
    "random_probs = [0 for i in range(len(y_test))]\n",
    "p_fpr, p_tpr, _ = roc_curve(y_test, random_probs, pos_label=1)\n"
   ]
  },
  {
   "cell_type": "code",
   "execution_count": 73,
   "id": "09d14983",
   "metadata": {},
   "outputs": [
    {
     "name": "stdout",
     "output_type": "stream",
     "text": [
      "RF -  0.9078380063628361\n",
      "GBM -  0.8884340589334527\n",
      "XGB -  0.9280246637117575\n",
      "LGBM -  0.9291228127750923\n",
      "CB -  0.9045266675418141\n",
      "AB -  0.8928239525258297\n"
     ]
    },
    {
     "data": {
      "image/png": "[encoded data removed]",
      "text/plain": [
       "<Figure size 432x288 with 1 Axes>"
      ]
     },
     "metadata": {
      "needs_background": "light"
     },
     "output_type": "display_data"
    },
    {
     "name": "stdout",
     "output_type": "stream",
     "text": [
      "time: 350 ms (started: 2022-05-13 17:58:25 +05:30)\n"
     ]
    }
   ],
   "source": [
    "# ploting roc curves\n",
    "plt.plot(fpr1, tpr1, linestyle='--',color='orange', label='RF')\n",
    "plt.plot(fpr2, tpr2, linestyle='--',color='green', label='GBM')\n",
    "plt.plot(fpr3, tpr3, linestyle='--',color='blue', label='XGB')\n",
    "plt.plot(fpr4, tpr4, linestyle='--',color='black', label='Light GBM')\n",
    "plt.plot(fpr5, tpr5, linestyle='--',color='purple', label='CatBoost')\n",
    "plt.plot(fpr6, tpr6, linestyle='--',color='brown', label='AdaBoost')\n",
    "plt.plot(p_fpr, p_tpr, linestyle='--', color='red')\n",
    "# title\n",
    "([print(\"RF - \", roc_auc_score(y_test, y_predictp_RF)),\n",
    "print(\"GBM - \", roc_auc_score(y_test, y_predictp_GBM)),\n",
    "print(\"XGB - \", roc_auc_score(y_test, y_predictp_XGB)),\n",
    "print(\"LGBM - \", roc_auc_score(y_test, y_predictp_LGBM)),\n",
    "print(\"CB - \",roc_auc_score(y_test,y_predictp_CB)),\n",
    "print(\"AB - \", roc_auc_score(y_test, y_predictp_AB))])\n",
    "plt.title('ROC curve')\n",
    "# x label\n",
    "plt.xlabel('False Positive Rate')\n",
    "# y label\n",
    "plt.ylabel('True Positive rate')\n",
    "\n",
    "plt.legend(loc='best')\n",
    "plt.savefig('ROC',dpi=300)\n",
    "plt.show();"
   ]
  },
  {
   "cell_type": "markdown",
   "id": "df7d8603",
   "metadata": {},
   "source": [
    "### Feature importance of best model"
   ]
  },
  {
   "cell_type": "code",
   "execution_count": 74,
   "id": "b1525f6a",
   "metadata": {},
   "outputs": [
    {
     "name": "stdout",
     "output_type": "stream",
     "text": [
      "time: 289 µs (started: 2022-05-13 17:58:35 +05:30)\n"
     ]
    }
   ],
   "source": [
    "# Saving all features in a list\n",
    "feature_cols = X.columns.tolist() "
   ]
  },
  {
   "cell_type": "code",
   "execution_count": 75,
   "id": "34100d92",
   "metadata": {},
   "outputs": [
    {
     "data": {
      "text/plain": [
       "Text(0.5, 1.0, 'Features importance')"
      ]
     },
     "execution_count": 75,
     "metadata": {},
     "output_type": "execute_result"
    },
    {
     "data": {
      "image/png": "[encoded data removed]",
      "text/plain": [
       "<Figure size 720x576 with 1 Axes>"
      ]
     },
     "metadata": {
      "needs_background": "light"
     },
     "output_type": "display_data"
    },
    {
     "name": "stdout",
     "output_type": "stream",
     "text": [
      "time: 175 ms (started: 2022-05-13 17:58:36 +05:30)\n"
     ]
    }
   ],
   "source": [
    "# Plot feature importance of highest ROC score - XGBoost\n",
    "\n",
    "fea_df = pd.DataFrame({'Feature': feature_cols, 'Feature importance': model_xgb.feature_importances_})\n",
    "fea_df = fea_df.sort_values(by='Feature importance')\n",
    "\n",
    "figure, ax = plt.subplots(figsize = (10,8))\n",
    "fea_df.plot.barh(x='Feature',y='Feature importance', ax=ax, cmap='PRGn_r')\n",
    "plt.title('Features importance',fontsize=14)"
   ]
  },
  {
   "cell_type": "code",
   "execution_count": 76,
   "id": "9a0baaa3",
   "metadata": {},
   "outputs": [
    {
     "name": "stdout",
     "output_type": "stream",
     "text": [
      "time: 438 µs (started: 2022-05-13 17:58:38 +05:30)\n"
     ]
    }
   ],
   "source": [
    "def Accuracy_Model_score_Mergedcols():\n",
    "    \n",
    "    \"\"\"\n",
    "    printing Classification_Report DataFrames of all the models\n",
    "    \n",
    "    \"\"\"\n",
    "    \n",
    "    print(df_AB)\n",
    "    print(df_CB)\n",
    "    print(df_LGBM)\n",
    "    print(df_XGB)\n",
    "    print(df_RF)\n",
    "    print(df_GBM)\n",
    "   "
   ]
  },
  {
   "cell_type": "code",
   "execution_count": 77,
   "id": "6716c262",
   "metadata": {},
   "outputs": [
    {
     "name": "stdout",
     "output_type": "stream",
     "text": [
      "  AdaBoost Classifier  precision    recall  f1-score      support\n",
      "0                   0   0.767313  0.780722  0.773959  1774.000000\n",
      "1                   1   0.865351  0.856164  0.860733  2920.000000\n",
      "2            accuracy   0.827652  0.827652  0.827652     0.827652\n",
      "3           macro avg   0.816332  0.818443  0.817346  4694.000000\n",
      "4        weighted avg   0.828300  0.827652  0.827939  4694.000000\n",
      "  CatBoost Classifier  precision    recall  f1-score      support\n",
      "0                   0   0.788121  0.777903  0.782979  1774.000000\n",
      "1                   1   0.866123  0.872945  0.869521  2920.000000\n",
      "2            accuracy   0.837026  0.837026  0.837026     0.837026\n",
      "3           macro avg   0.827122  0.825424  0.826250  4694.000000\n",
      "4        weighted avg   0.836644  0.837026  0.836814  4694.000000\n",
      "  Light GBM Classifier  precision    recall  f1-score      support\n",
      "0                    0   0.803424  0.820180  0.811715  1774.000000\n",
      "1                    1   0.889351  0.878082  0.883681  2920.000000\n",
      "2             accuracy   0.856199  0.856199  0.856199     0.856199\n",
      "3            macro avg   0.846387  0.849131  0.847698  4694.000000\n",
      "4         weighted avg   0.856877  0.856199  0.856483  4694.000000\n",
      "  XGBoost Classifier  precision    recall  f1-score      support\n",
      "0                  0   0.718845  0.799887  0.757204  1774.000000\n",
      "1                  1   0.869485  0.809932  0.838652  2920.000000\n",
      "2           accuracy   0.806135  0.806135  0.806135     0.806135\n",
      "3          macro avg   0.794165  0.804909  0.797928  4694.000000\n",
      "4       weighted avg   0.812554  0.806135  0.807871  4694.000000\n",
      "  Random Forest Classifier  precision    recall  f1-score      support\n",
      "0                        0   0.789443  0.775648  0.782485  1774.000000\n",
      "1                        1   0.865130  0.874315  0.869699  2920.000000\n",
      "2                 accuracy   0.837026  0.837026  0.837026     0.837026\n",
      "3                macro avg   0.827287  0.824982  0.826092  4694.000000\n",
      "4             weighted avg   0.836526  0.837026  0.836738  4694.000000\n",
      "  Gradient Boosting Classifier  precision    recall  f1-score      support\n",
      "0                            0   0.718845  0.799887  0.757204  1774.000000\n",
      "1                            1   0.869485  0.809932  0.838652  2920.000000\n",
      "2                     accuracy   0.806135  0.806135  0.806135     0.806135\n",
      "3                    macro avg   0.794165  0.804909  0.797928  4694.000000\n",
      "4                 weighted avg   0.812554  0.806135  0.807871  4694.000000\n",
      "time: 12.2 ms (started: 2022-05-13 17:58:40 +05:30)\n"
     ]
    }
   ],
   "source": [
    "Accuracy_Model_score_Mergedcols()"
   ]
  },
  {
   "cell_type": "code",
   "execution_count": 24,
   "id": "5cd27734",
   "metadata": {},
   "outputs": [
    {
     "name": "stdout",
     "output_type": "stream",
     "text": [
      "time: 3.05 ms (started: 2022-05-18 15:44:32 +05:30)\n"
     ]
    }
   ],
   "source": [
    "clfs= []\n",
    "cols=[]\n",
    "def Sub_Trees():\n",
    "    \n",
    "    \"\"\"\n",
    "    \n",
    "    Returns Random Forest Model using Decision Tree Model\n",
    "    \n",
    "    \"\"\"\n",
    "    # splitting the X_train\n",
    "    rs = ShuffleSplit(n_splits=15, test_size=0.25, random_state=42)\n",
    "    rs.get_n_splits(X_train)\n",
    "    #print(rs)\n",
    "\n",
    "    X_subsets = dict()\n",
    "    y_subsets = dict()\n",
    "\n",
    "    XT_subset= dict()\n",
    "    yT_subset= dict()\n",
    "\n",
    "    for i, indexes in enumerate(rs.split(X_train)):\n",
    "        #print(i)\n",
    "        X_subsets[i] = X_train.iloc[indexes[0], :]\n",
    "        y_subsets[i] = y_train.iloc[indexes[0]]\n",
    "\n",
    "    for j, indexes in enumerate(rs.split(X_test)):\n",
    "        XT_subset[j] = X_test.iloc[indexes[0], :]\n",
    "        yT_subset[j] = y_test.iloc[indexes[0]]\n",
    "    \n",
    "    \n",
    "    # Creating Random Forest Model\n",
    "    scores = []\n",
    "    for subset in range(0, 15):\n",
    "        clf = DecisionTreeClassifier(random_state=42)\n",
    "        features = np.random.choice(X_train.columns,14,replace=False)\n",
    "        #col= np.random.choice(list(range(X_test.shape[1])),14,replace=True)\n",
    "        #print(features)\n",
    "        #fitting the model\n",
    "        clf.fit(X_subsets[subset].loc[:,features], y_subsets[subset])\n",
    "        # make predictions\n",
    "        y_pred = clf.predict(XT_subset[subset].loc[:,features])\n",
    "        # evaluate accuracy and store\n",
    "        scores.append(accuracy_score(yT_subset[subset], y_pred))\n",
    "        clfs.append(clf)\n",
    "        cols.append(features)\n",
    "        print(\"Accuracy of {} Decision Tree :- \".format(subset))\n",
    "        print(\"Accuracy: {:.2f}%.\".format(accuracy_score(yT_subset[subset], y_pred)))\n",
    "        print(\"Average Accuracy: {:.2f}%.\".format(np.mean(scores) * 100))\n",
    "        print(\"f1_score: {:.2f}%.\".format(f1_score(yT_subset[subset], y_pred)))\n",
    "        print(\"ROC Score: {:.2f}%.\".format(roc_auc_score(yT_subset[subset], y_pred)))"
   ]
  },
  {
   "cell_type": "code",
   "execution_count": 25,
   "id": "f36cf444",
   "metadata": {
    "scrolled": false
   },
   "outputs": [
    {
     "name": "stdout",
     "output_type": "stream",
     "text": [
      "Accuracy of 0 Decision Tree :- \n",
      "Accuracy: 0.83%.\n",
      "Average Accuracy: 83.35%.\n",
      "f1_score: 0.87%.\n",
      "ROC Score: 0.82%.\n",
      "Accuracy of 1 Decision Tree :- \n",
      "Accuracy: 0.82%.\n",
      "Average Accuracy: 82.73%.\n",
      "f1_score: 0.86%.\n",
      "ROC Score: 0.81%.\n",
      "Accuracy of 2 Decision Tree :- \n",
      "Accuracy: 0.83%.\n",
      "Average Accuracy: 82.91%.\n",
      "f1_score: 0.87%.\n",
      "ROC Score: 0.82%.\n",
      "Accuracy of 3 Decision Tree :- \n",
      "Accuracy: 0.83%.\n",
      "Average Accuracy: 82.94%.\n",
      "f1_score: 0.86%.\n",
      "ROC Score: 0.82%.\n",
      "Accuracy of 4 Decision Tree :- \n",
      "Accuracy: 0.82%.\n",
      "Average Accuracy: 82.75%.\n",
      "f1_score: 0.86%.\n",
      "ROC Score: 0.81%.\n",
      "Accuracy of 5 Decision Tree :- \n",
      "Accuracy: 0.81%.\n",
      "Average Accuracy: 82.39%.\n",
      "f1_score: 0.84%.\n",
      "ROC Score: 0.80%.\n",
      "Accuracy of 6 Decision Tree :- \n",
      "Accuracy: 0.81%.\n",
      "Average Accuracy: 82.14%.\n",
      "f1_score: 0.84%.\n",
      "ROC Score: 0.79%.\n",
      "Accuracy of 7 Decision Tree :- \n",
      "Accuracy: 0.80%.\n",
      "Average Accuracy: 81.91%.\n",
      "f1_score: 0.84%.\n",
      "ROC Score: 0.79%.\n",
      "Accuracy of 8 Decision Tree :- \n",
      "Accuracy: 0.82%.\n",
      "Average Accuracy: 81.93%.\n",
      "f1_score: 0.86%.\n",
      "ROC Score: 0.81%.\n",
      "Accuracy of 9 Decision Tree :- \n",
      "Accuracy: 0.81%.\n",
      "Average Accuracy: 81.79%.\n",
      "f1_score: 0.84%.\n",
      "ROC Score: 0.79%.\n",
      "Accuracy of 10 Decision Tree :- \n",
      "Accuracy: 0.84%.\n",
      "Average Accuracy: 81.98%.\n",
      "f1_score: 0.87%.\n",
      "ROC Score: 0.83%.\n",
      "Accuracy of 11 Decision Tree :- \n",
      "Accuracy: 0.82%.\n",
      "Average Accuracy: 82.01%.\n",
      "f1_score: 0.86%.\n",
      "ROC Score: 0.81%.\n",
      "Accuracy of 12 Decision Tree :- \n",
      "Accuracy: 0.83%.\n",
      "Average Accuracy: 82.07%.\n",
      "f1_score: 0.86%.\n",
      "ROC Score: 0.81%.\n",
      "Accuracy of 13 Decision Tree :- \n",
      "Accuracy: 0.81%.\n",
      "Average Accuracy: 81.98%.\n",
      "f1_score: 0.85%.\n",
      "ROC Score: 0.79%.\n",
      "Accuracy of 14 Decision Tree :- \n",
      "Accuracy: 0.83%.\n",
      "Average Accuracy: 82.05%.\n",
      "f1_score: 0.86%.\n",
      "ROC Score: 0.82%.\n",
      "time: 1.61 s (started: 2022-05-18 15:44:33 +05:30)\n"
     ]
    }
   ],
   "source": [
    "Sub_Trees()"
   ]
  },
  {
   "cell_type": "code",
   "execution_count": 26,
   "id": "fb870772",
   "metadata": {},
   "outputs": [
    {
     "name": "stdout",
     "output_type": "stream",
     "text": [
      "time: 4.37 ms (started: 2022-05-18 15:45:26 +05:30)\n"
     ]
    }
   ],
   "source": [
    "#Single instance function\n",
    "def Predict_Row(instance):\n",
    "    \"\"\"\n",
    "    returns prection for single row\n",
    "    \n",
    "    \"\"\"\n",
    "    predictions = []\n",
    "    for i in range(len(clfs)):\n",
    "        \n",
    "        predictions.append(clfs[i].predict(instance[cols[i]]))\n",
    "        \n",
    "    y_pred = stats.mode(np.array(predictions), axis=None)[0][0]\n",
    "    print(\"prediction of the instance: [{}]\".format(y_pred))"
   ]
  },
  {
   "cell_type": "code",
   "execution_count": 27,
   "id": "efd712fe",
   "metadata": {},
   "outputs": [
    {
     "name": "stdout",
     "output_type": "stream",
     "text": [
      "prediction of the instance: [1]\n",
      "time: 45.4 ms (started: 2022-05-18 15:45:27 +05:30)\n"
     ]
    }
   ],
   "source": [
    "Predict_Row(X_test.iloc[1:2])"
   ]
  },
  {
   "cell_type": "code",
   "execution_count": 70,
   "id": "e8487fe7",
   "metadata": {},
   "outputs": [
    {
     "name": "stdout",
     "output_type": "stream",
     "text": [
      "time: 1.91 ms (started: 2022-05-18 16:06:35 +05:30)\n"
     ]
    }
   ],
   "source": [
    "#Building Random Forest Model\n",
    "def Random_Forest_Model():\n",
    "    predict_clf = []\n",
    "    for j in range(len(clfs)):  \n",
    "        predict_clf.append(clfs[j].predict(X_test.loc[:,cols[j]]))\n",
    "    y_predict = stats.mode(np.array(predict_clf), axis=0)[0][0]\n",
    "    print(\"prediction of the Model:{}\".format(y_predict))\n",
    "    print(\"Accuracy on test set: {:.2f}%\".format(accuracy_score(y_test, y_predict) * 100))\n",
    "    print(\"f1_score: {:.2f}%.\".format(f1_score(y_test, y_predict)))\n",
    "    print(\"ROC Score: {:.2f}%.\".format(roc_auc_score(y_test, y_predict)))\n",
    "    "
   ]
  },
  {
   "cell_type": "code",
   "execution_count": 71,
   "id": "69436170",
   "metadata": {},
   "outputs": [
    {
     "name": "stdout",
     "output_type": "stream",
     "text": [
      "prediction of the Model:[1 1 1 ... 1 1 1]\n",
      "Accuracy on test set: 89.22%\n",
      "f1_score: 0.91%.\n",
      "ROC Score: 0.89%.\n",
      "time: 163 ms (started: 2022-05-18 16:06:36 +05:30)\n"
     ]
    }
   ],
   "source": [
    "Random_Forest_Model()"
   ]
  }
 ],
 "metadata": {
  "kernelspec": {
   "display_name": "Python 3 (ipykernel)",
   "language": "python",
   "name": "python3"
  },
  "language_info": {
   "codemirror_mode": {
    "name": "ipython",
    "version": 3
   },
   "file_extension": ".py",
   "mimetype": "text/x-python",
   "name": "python",
   "nbconvert_exporter": "python",
   "pygments_lexer": "ipython3",
   "version": "3.8.10"
  }
 },
 "nbformat": 4,
 "nbformat_minor": 5
}
